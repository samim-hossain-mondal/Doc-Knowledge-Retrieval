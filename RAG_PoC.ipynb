{
  "nbformat": 4,
  "nbformat_minor": 0,
  "metadata": {
    "colab": {
      "provenance": [],
      "gpuType": "T4"
    },
    "kernelspec": {
      "name": "python3",
      "display_name": "Python 3"
    },
    "language_info": {
      "name": "python"
    },
    "accelerator": "GPU",
    "widgets": {
      "application/vnd.jupyter.widget-state+json": {
        "dfb13ebf642d43849f968693ea4487c2": {
          "model_module": "@jupyter-widgets/controls",
          "model_name": "HBoxModel",
          "model_module_version": "1.5.0",
          "state": {
            "_dom_classes": [],
            "_model_module": "@jupyter-widgets/controls",
            "_model_module_version": "1.5.0",
            "_model_name": "HBoxModel",
            "_view_count": null,
            "_view_module": "@jupyter-widgets/controls",
            "_view_module_version": "1.5.0",
            "_view_name": "HBoxView",
            "box_style": "",
            "children": [
              "IPY_MODEL_b336f7457ae948349df408a20628ca5f",
              "IPY_MODEL_cdc233aae5bf4c95be80388b08502a1d",
              "IPY_MODEL_1d1457629392477b921eb278a83fe973"
            ],
            "layout": "IPY_MODEL_f53c14c88962416aaa0c5680cdcc9517"
          }
        },
        "b336f7457ae948349df408a20628ca5f": {
          "model_module": "@jupyter-widgets/controls",
          "model_name": "HTMLModel",
          "model_module_version": "1.5.0",
          "state": {
            "_dom_classes": [],
            "_model_module": "@jupyter-widgets/controls",
            "_model_module_version": "1.5.0",
            "_model_name": "HTMLModel",
            "_view_count": null,
            "_view_module": "@jupyter-widgets/controls",
            "_view_module_version": "1.5.0",
            "_view_name": "HTMLView",
            "description": "",
            "description_tooltip": null,
            "layout": "IPY_MODEL_9fea93687ad440eb994aef5da3ea60da",
            "placeholder": "​",
            "style": "IPY_MODEL_ca1bad52337847bfa4ba46d647242097",
            "value": "config.json: 100%"
          }
        },
        "cdc233aae5bf4c95be80388b08502a1d": {
          "model_module": "@jupyter-widgets/controls",
          "model_name": "FloatProgressModel",
          "model_module_version": "1.5.0",
          "state": {
            "_dom_classes": [],
            "_model_module": "@jupyter-widgets/controls",
            "_model_module_version": "1.5.0",
            "_model_name": "FloatProgressModel",
            "_view_count": null,
            "_view_module": "@jupyter-widgets/controls",
            "_view_module_version": "1.5.0",
            "_view_name": "ProgressView",
            "bar_style": "success",
            "description": "",
            "description_tooltip": null,
            "layout": "IPY_MODEL_278b664417044585a225d472dd6b2793",
            "max": 1469,
            "min": 0,
            "orientation": "horizontal",
            "style": "IPY_MODEL_c514d3ae59484a60812a87415efebcbb",
            "value": 1469
          }
        },
        "1d1457629392477b921eb278a83fe973": {
          "model_module": "@jupyter-widgets/controls",
          "model_name": "HTMLModel",
          "model_module_version": "1.5.0",
          "state": {
            "_dom_classes": [],
            "_model_module": "@jupyter-widgets/controls",
            "_model_module_version": "1.5.0",
            "_model_name": "HTMLModel",
            "_view_count": null,
            "_view_module": "@jupyter-widgets/controls",
            "_view_module_version": "1.5.0",
            "_view_name": "HTMLView",
            "description": "",
            "description_tooltip": null,
            "layout": "IPY_MODEL_5e17b29c71a54d4984e121494739449e",
            "placeholder": "​",
            "style": "IPY_MODEL_7dac6735369c46eb81bbba3ccaf7657f",
            "value": " 1.47k/1.47k [00:00&lt;00:00, 76.2kB/s]"
          }
        },
        "f53c14c88962416aaa0c5680cdcc9517": {
          "model_module": "@jupyter-widgets/base",
          "model_name": "LayoutModel",
          "model_module_version": "1.2.0",
          "state": {
            "_model_module": "@jupyter-widgets/base",
            "_model_module_version": "1.2.0",
            "_model_name": "LayoutModel",
            "_view_count": null,
            "_view_module": "@jupyter-widgets/base",
            "_view_module_version": "1.2.0",
            "_view_name": "LayoutView",
            "align_content": null,
            "align_items": null,
            "align_self": null,
            "border": null,
            "bottom": null,
            "display": null,
            "flex": null,
            "flex_flow": null,
            "grid_area": null,
            "grid_auto_columns": null,
            "grid_auto_flow": null,
            "grid_auto_rows": null,
            "grid_column": null,
            "grid_gap": null,
            "grid_row": null,
            "grid_template_areas": null,
            "grid_template_columns": null,
            "grid_template_rows": null,
            "height": null,
            "justify_content": null,
            "justify_items": null,
            "left": null,
            "margin": null,
            "max_height": null,
            "max_width": null,
            "min_height": null,
            "min_width": null,
            "object_fit": null,
            "object_position": null,
            "order": null,
            "overflow": null,
            "overflow_x": null,
            "overflow_y": null,
            "padding": null,
            "right": null,
            "top": null,
            "visibility": null,
            "width": null
          }
        },
        "9fea93687ad440eb994aef5da3ea60da": {
          "model_module": "@jupyter-widgets/base",
          "model_name": "LayoutModel",
          "model_module_version": "1.2.0",
          "state": {
            "_model_module": "@jupyter-widgets/base",
            "_model_module_version": "1.2.0",
            "_model_name": "LayoutModel",
            "_view_count": null,
            "_view_module": "@jupyter-widgets/base",
            "_view_module_version": "1.2.0",
            "_view_name": "LayoutView",
            "align_content": null,
            "align_items": null,
            "align_self": null,
            "border": null,
            "bottom": null,
            "display": null,
            "flex": null,
            "flex_flow": null,
            "grid_area": null,
            "grid_auto_columns": null,
            "grid_auto_flow": null,
            "grid_auto_rows": null,
            "grid_column": null,
            "grid_gap": null,
            "grid_row": null,
            "grid_template_areas": null,
            "grid_template_columns": null,
            "grid_template_rows": null,
            "height": null,
            "justify_content": null,
            "justify_items": null,
            "left": null,
            "margin": null,
            "max_height": null,
            "max_width": null,
            "min_height": null,
            "min_width": null,
            "object_fit": null,
            "object_position": null,
            "order": null,
            "overflow": null,
            "overflow_x": null,
            "overflow_y": null,
            "padding": null,
            "right": null,
            "top": null,
            "visibility": null,
            "width": null
          }
        },
        "ca1bad52337847bfa4ba46d647242097": {
          "model_module": "@jupyter-widgets/controls",
          "model_name": "DescriptionStyleModel",
          "model_module_version": "1.5.0",
          "state": {
            "_model_module": "@jupyter-widgets/controls",
            "_model_module_version": "1.5.0",
            "_model_name": "DescriptionStyleModel",
            "_view_count": null,
            "_view_module": "@jupyter-widgets/base",
            "_view_module_version": "1.2.0",
            "_view_name": "StyleView",
            "description_width": ""
          }
        },
        "278b664417044585a225d472dd6b2793": {
          "model_module": "@jupyter-widgets/base",
          "model_name": "LayoutModel",
          "model_module_version": "1.2.0",
          "state": {
            "_model_module": "@jupyter-widgets/base",
            "_model_module_version": "1.2.0",
            "_model_name": "LayoutModel",
            "_view_count": null,
            "_view_module": "@jupyter-widgets/base",
            "_view_module_version": "1.2.0",
            "_view_name": "LayoutView",
            "align_content": null,
            "align_items": null,
            "align_self": null,
            "border": null,
            "bottom": null,
            "display": null,
            "flex": null,
            "flex_flow": null,
            "grid_area": null,
            "grid_auto_columns": null,
            "grid_auto_flow": null,
            "grid_auto_rows": null,
            "grid_column": null,
            "grid_gap": null,
            "grid_row": null,
            "grid_template_areas": null,
            "grid_template_columns": null,
            "grid_template_rows": null,
            "height": null,
            "justify_content": null,
            "justify_items": null,
            "left": null,
            "margin": null,
            "max_height": null,
            "max_width": null,
            "min_height": null,
            "min_width": null,
            "object_fit": null,
            "object_position": null,
            "order": null,
            "overflow": null,
            "overflow_x": null,
            "overflow_y": null,
            "padding": null,
            "right": null,
            "top": null,
            "visibility": null,
            "width": null
          }
        },
        "c514d3ae59484a60812a87415efebcbb": {
          "model_module": "@jupyter-widgets/controls",
          "model_name": "ProgressStyleModel",
          "model_module_version": "1.5.0",
          "state": {
            "_model_module": "@jupyter-widgets/controls",
            "_model_module_version": "1.5.0",
            "_model_name": "ProgressStyleModel",
            "_view_count": null,
            "_view_module": "@jupyter-widgets/base",
            "_view_module_version": "1.2.0",
            "_view_name": "StyleView",
            "bar_color": null,
            "description_width": ""
          }
        },
        "5e17b29c71a54d4984e121494739449e": {
          "model_module": "@jupyter-widgets/base",
          "model_name": "LayoutModel",
          "model_module_version": "1.2.0",
          "state": {
            "_model_module": "@jupyter-widgets/base",
            "_model_module_version": "1.2.0",
            "_model_name": "LayoutModel",
            "_view_count": null,
            "_view_module": "@jupyter-widgets/base",
            "_view_module_version": "1.2.0",
            "_view_name": "LayoutView",
            "align_content": null,
            "align_items": null,
            "align_self": null,
            "border": null,
            "bottom": null,
            "display": null,
            "flex": null,
            "flex_flow": null,
            "grid_area": null,
            "grid_auto_columns": null,
            "grid_auto_flow": null,
            "grid_auto_rows": null,
            "grid_column": null,
            "grid_gap": null,
            "grid_row": null,
            "grid_template_areas": null,
            "grid_template_columns": null,
            "grid_template_rows": null,
            "height": null,
            "justify_content": null,
            "justify_items": null,
            "left": null,
            "margin": null,
            "max_height": null,
            "max_width": null,
            "min_height": null,
            "min_width": null,
            "object_fit": null,
            "object_position": null,
            "order": null,
            "overflow": null,
            "overflow_x": null,
            "overflow_y": null,
            "padding": null,
            "right": null,
            "top": null,
            "visibility": null,
            "width": null
          }
        },
        "7dac6735369c46eb81bbba3ccaf7657f": {
          "model_module": "@jupyter-widgets/controls",
          "model_name": "DescriptionStyleModel",
          "model_module_version": "1.5.0",
          "state": {
            "_model_module": "@jupyter-widgets/controls",
            "_model_module_version": "1.5.0",
            "_model_name": "DescriptionStyleModel",
            "_view_count": null,
            "_view_module": "@jupyter-widgets/base",
            "_view_module_version": "1.2.0",
            "_view_name": "StyleView",
            "description_width": ""
          }
        },
        "ad5de4358d0742cdae9fb7b01abef0d1": {
          "model_module": "@jupyter-widgets/controls",
          "model_name": "HBoxModel",
          "model_module_version": "1.5.0",
          "state": {
            "_dom_classes": [],
            "_model_module": "@jupyter-widgets/controls",
            "_model_module_version": "1.5.0",
            "_model_name": "HBoxModel",
            "_view_count": null,
            "_view_module": "@jupyter-widgets/controls",
            "_view_module_version": "1.5.0",
            "_view_name": "HBoxView",
            "box_style": "",
            "children": [
              "IPY_MODEL_e08a8519299a4e36af52101f3a888762",
              "IPY_MODEL_7fd72e911dcc4b12a9c6e184133d3ec0",
              "IPY_MODEL_afadfe243358400ba6e9b7eedbbae31e"
            ],
            "layout": "IPY_MODEL_2f363f7208534e5880607e02835c51b1"
          }
        },
        "e08a8519299a4e36af52101f3a888762": {
          "model_module": "@jupyter-widgets/controls",
          "model_name": "HTMLModel",
          "model_module_version": "1.5.0",
          "state": {
            "_dom_classes": [],
            "_model_module": "@jupyter-widgets/controls",
            "_model_module_version": "1.5.0",
            "_model_name": "HTMLModel",
            "_view_count": null,
            "_view_module": "@jupyter-widgets/controls",
            "_view_module_version": "1.5.0",
            "_view_name": "HTMLView",
            "description": "",
            "description_tooltip": null,
            "layout": "IPY_MODEL_77d032e10f57452e84bb4b8c123e93b0",
            "placeholder": "​",
            "style": "IPY_MODEL_2674bc76df2a44df9d71b3eca99f88c8",
            "value": "model.safetensors: 100%"
          }
        },
        "7fd72e911dcc4b12a9c6e184133d3ec0": {
          "model_module": "@jupyter-widgets/controls",
          "model_name": "FloatProgressModel",
          "model_module_version": "1.5.0",
          "state": {
            "_dom_classes": [],
            "_model_module": "@jupyter-widgets/controls",
            "_model_module_version": "1.5.0",
            "_model_name": "FloatProgressModel",
            "_view_count": null,
            "_view_module": "@jupyter-widgets/controls",
            "_view_module_version": "1.5.0",
            "_view_name": "ProgressView",
            "bar_style": "success",
            "description": "",
            "description_tooltip": null,
            "layout": "IPY_MODEL_a1f4aca89c13462183fd183ba33e9d00",
            "max": 115434268,
            "min": 0,
            "orientation": "horizontal",
            "style": "IPY_MODEL_89e1c5db7e5c430c8dbb1e273815a1bd",
            "value": 115434268
          }
        },
        "afadfe243358400ba6e9b7eedbbae31e": {
          "model_module": "@jupyter-widgets/controls",
          "model_name": "HTMLModel",
          "model_module_version": "1.5.0",
          "state": {
            "_dom_classes": [],
            "_model_module": "@jupyter-widgets/controls",
            "_model_module_version": "1.5.0",
            "_model_name": "HTMLModel",
            "_view_count": null,
            "_view_module": "@jupyter-widgets/controls",
            "_view_module_version": "1.5.0",
            "_view_name": "HTMLView",
            "description": "",
            "description_tooltip": null,
            "layout": "IPY_MODEL_ec0244d4ac9b44eea2c5d322faa5f397",
            "placeholder": "​",
            "style": "IPY_MODEL_a2d2d1c635bb4035bfcbd25c63a4fcaa",
            "value": " 115M/115M [00:00&lt;00:00, 176MB/s]"
          }
        },
        "2f363f7208534e5880607e02835c51b1": {
          "model_module": "@jupyter-widgets/base",
          "model_name": "LayoutModel",
          "model_module_version": "1.2.0",
          "state": {
            "_model_module": "@jupyter-widgets/base",
            "_model_module_version": "1.2.0",
            "_model_name": "LayoutModel",
            "_view_count": null,
            "_view_module": "@jupyter-widgets/base",
            "_view_module_version": "1.2.0",
            "_view_name": "LayoutView",
            "align_content": null,
            "align_items": null,
            "align_self": null,
            "border": null,
            "bottom": null,
            "display": null,
            "flex": null,
            "flex_flow": null,
            "grid_area": null,
            "grid_auto_columns": null,
            "grid_auto_flow": null,
            "grid_auto_rows": null,
            "grid_column": null,
            "grid_gap": null,
            "grid_row": null,
            "grid_template_areas": null,
            "grid_template_columns": null,
            "grid_template_rows": null,
            "height": null,
            "justify_content": null,
            "justify_items": null,
            "left": null,
            "margin": null,
            "max_height": null,
            "max_width": null,
            "min_height": null,
            "min_width": null,
            "object_fit": null,
            "object_position": null,
            "order": null,
            "overflow": null,
            "overflow_x": null,
            "overflow_y": null,
            "padding": null,
            "right": null,
            "top": null,
            "visibility": null,
            "width": null
          }
        },
        "77d032e10f57452e84bb4b8c123e93b0": {
          "model_module": "@jupyter-widgets/base",
          "model_name": "LayoutModel",
          "model_module_version": "1.2.0",
          "state": {
            "_model_module": "@jupyter-widgets/base",
            "_model_module_version": "1.2.0",
            "_model_name": "LayoutModel",
            "_view_count": null,
            "_view_module": "@jupyter-widgets/base",
            "_view_module_version": "1.2.0",
            "_view_name": "LayoutView",
            "align_content": null,
            "align_items": null,
            "align_self": null,
            "border": null,
            "bottom": null,
            "display": null,
            "flex": null,
            "flex_flow": null,
            "grid_area": null,
            "grid_auto_columns": null,
            "grid_auto_flow": null,
            "grid_auto_rows": null,
            "grid_column": null,
            "grid_gap": null,
            "grid_row": null,
            "grid_template_areas": null,
            "grid_template_columns": null,
            "grid_template_rows": null,
            "height": null,
            "justify_content": null,
            "justify_items": null,
            "left": null,
            "margin": null,
            "max_height": null,
            "max_width": null,
            "min_height": null,
            "min_width": null,
            "object_fit": null,
            "object_position": null,
            "order": null,
            "overflow": null,
            "overflow_x": null,
            "overflow_y": null,
            "padding": null,
            "right": null,
            "top": null,
            "visibility": null,
            "width": null
          }
        },
        "2674bc76df2a44df9d71b3eca99f88c8": {
          "model_module": "@jupyter-widgets/controls",
          "model_name": "DescriptionStyleModel",
          "model_module_version": "1.5.0",
          "state": {
            "_model_module": "@jupyter-widgets/controls",
            "_model_module_version": "1.5.0",
            "_model_name": "DescriptionStyleModel",
            "_view_count": null,
            "_view_module": "@jupyter-widgets/base",
            "_view_module_version": "1.2.0",
            "_view_name": "StyleView",
            "description_width": ""
          }
        },
        "a1f4aca89c13462183fd183ba33e9d00": {
          "model_module": "@jupyter-widgets/base",
          "model_name": "LayoutModel",
          "model_module_version": "1.2.0",
          "state": {
            "_model_module": "@jupyter-widgets/base",
            "_model_module_version": "1.2.0",
            "_model_name": "LayoutModel",
            "_view_count": null,
            "_view_module": "@jupyter-widgets/base",
            "_view_module_version": "1.2.0",
            "_view_name": "LayoutView",
            "align_content": null,
            "align_items": null,
            "align_self": null,
            "border": null,
            "bottom": null,
            "display": null,
            "flex": null,
            "flex_flow": null,
            "grid_area": null,
            "grid_auto_columns": null,
            "grid_auto_flow": null,
            "grid_auto_rows": null,
            "grid_column": null,
            "grid_gap": null,
            "grid_row": null,
            "grid_template_areas": null,
            "grid_template_columns": null,
            "grid_template_rows": null,
            "height": null,
            "justify_content": null,
            "justify_items": null,
            "left": null,
            "margin": null,
            "max_height": null,
            "max_width": null,
            "min_height": null,
            "min_width": null,
            "object_fit": null,
            "object_position": null,
            "order": null,
            "overflow": null,
            "overflow_x": null,
            "overflow_y": null,
            "padding": null,
            "right": null,
            "top": null,
            "visibility": null,
            "width": null
          }
        },
        "89e1c5db7e5c430c8dbb1e273815a1bd": {
          "model_module": "@jupyter-widgets/controls",
          "model_name": "ProgressStyleModel",
          "model_module_version": "1.5.0",
          "state": {
            "_model_module": "@jupyter-widgets/controls",
            "_model_module_version": "1.5.0",
            "_model_name": "ProgressStyleModel",
            "_view_count": null,
            "_view_module": "@jupyter-widgets/base",
            "_view_module_version": "1.2.0",
            "_view_name": "StyleView",
            "bar_color": null,
            "description_width": ""
          }
        },
        "ec0244d4ac9b44eea2c5d322faa5f397": {
          "model_module": "@jupyter-widgets/base",
          "model_name": "LayoutModel",
          "model_module_version": "1.2.0",
          "state": {
            "_model_module": "@jupyter-widgets/base",
            "_model_module_version": "1.2.0",
            "_model_name": "LayoutModel",
            "_view_count": null,
            "_view_module": "@jupyter-widgets/base",
            "_view_module_version": "1.2.0",
            "_view_name": "LayoutView",
            "align_content": null,
            "align_items": null,
            "align_self": null,
            "border": null,
            "bottom": null,
            "display": null,
            "flex": null,
            "flex_flow": null,
            "grid_area": null,
            "grid_auto_columns": null,
            "grid_auto_flow": null,
            "grid_auto_rows": null,
            "grid_column": null,
            "grid_gap": null,
            "grid_row": null,
            "grid_template_areas": null,
            "grid_template_columns": null,
            "grid_template_rows": null,
            "height": null,
            "justify_content": null,
            "justify_items": null,
            "left": null,
            "margin": null,
            "max_height": null,
            "max_width": null,
            "min_height": null,
            "min_width": null,
            "object_fit": null,
            "object_position": null,
            "order": null,
            "overflow": null,
            "overflow_x": null,
            "overflow_y": null,
            "padding": null,
            "right": null,
            "top": null,
            "visibility": null,
            "width": null
          }
        },
        "a2d2d1c635bb4035bfcbd25c63a4fcaa": {
          "model_module": "@jupyter-widgets/controls",
          "model_name": "DescriptionStyleModel",
          "model_module_version": "1.5.0",
          "state": {
            "_model_module": "@jupyter-widgets/controls",
            "_model_module_version": "1.5.0",
            "_model_name": "DescriptionStyleModel",
            "_view_count": null,
            "_view_module": "@jupyter-widgets/base",
            "_view_module_version": "1.2.0",
            "_view_name": "StyleView",
            "description_width": ""
          }
        },
        "a79aa1d80d52478a8ae4de919e84ad08": {
          "model_module": "@jupyter-widgets/controls",
          "model_name": "HBoxModel",
          "model_module_version": "1.5.0",
          "state": {
            "_dom_classes": [],
            "_model_module": "@jupyter-widgets/controls",
            "_model_module_version": "1.5.0",
            "_model_name": "HBoxModel",
            "_view_count": null,
            "_view_module": "@jupyter-widgets/controls",
            "_view_module_version": "1.5.0",
            "_view_name": "HBoxView",
            "box_style": "",
            "children": [
              "IPY_MODEL_14ec681e280a498fb84e06e841604614",
              "IPY_MODEL_b367e9e4ce974ec980088b3fb5a52e0b",
              "IPY_MODEL_c26122c807fa439092624690c54bed8e"
            ],
            "layout": "IPY_MODEL_4fbe9d80c041494ea0c7113af23fa096"
          }
        },
        "14ec681e280a498fb84e06e841604614": {
          "model_module": "@jupyter-widgets/controls",
          "model_name": "HTMLModel",
          "model_module_version": "1.5.0",
          "state": {
            "_dom_classes": [],
            "_model_module": "@jupyter-widgets/controls",
            "_model_module_version": "1.5.0",
            "_model_name": "HTMLModel",
            "_view_count": null,
            "_view_module": "@jupyter-widgets/controls",
            "_view_module_version": "1.5.0",
            "_view_name": "HTMLView",
            "description": "",
            "description_tooltip": null,
            "layout": "IPY_MODEL_a017c5560016401f8b7cd5849cd0676f",
            "placeholder": "​",
            "style": "IPY_MODEL_2a820667a4754b5db02facbefcefc65d",
            "value": "model.safetensors: 100%"
          }
        },
        "b367e9e4ce974ec980088b3fb5a52e0b": {
          "model_module": "@jupyter-widgets/controls",
          "model_name": "FloatProgressModel",
          "model_module_version": "1.5.0",
          "state": {
            "_dom_classes": [],
            "_model_module": "@jupyter-widgets/controls",
            "_model_module_version": "1.5.0",
            "_model_name": "FloatProgressModel",
            "_view_count": null,
            "_view_module": "@jupyter-widgets/controls",
            "_view_module_version": "1.5.0",
            "_view_name": "ProgressView",
            "bar_style": "success",
            "description": "",
            "description_tooltip": null,
            "layout": "IPY_MODEL_fae09538684b4cef8d97d8fce6ea6a32",
            "max": 46807446,
            "min": 0,
            "orientation": "horizontal",
            "style": "IPY_MODEL_e97dce70b2994691a124e12b88094e70",
            "value": 46807446
          }
        },
        "c26122c807fa439092624690c54bed8e": {
          "model_module": "@jupyter-widgets/controls",
          "model_name": "HTMLModel",
          "model_module_version": "1.5.0",
          "state": {
            "_dom_classes": [],
            "_model_module": "@jupyter-widgets/controls",
            "_model_module_version": "1.5.0",
            "_model_name": "HTMLModel",
            "_view_count": null,
            "_view_module": "@jupyter-widgets/controls",
            "_view_module_version": "1.5.0",
            "_view_name": "HTMLView",
            "description": "",
            "description_tooltip": null,
            "layout": "IPY_MODEL_9c0ddb51e95f4a378247efb671a7f0de",
            "placeholder": "​",
            "style": "IPY_MODEL_fba9b14bf1564a77963841c84d83ebdc",
            "value": " 46.8M/46.8M [00:00&lt;00:00, 198MB/s]"
          }
        },
        "4fbe9d80c041494ea0c7113af23fa096": {
          "model_module": "@jupyter-widgets/base",
          "model_name": "LayoutModel",
          "model_module_version": "1.2.0",
          "state": {
            "_model_module": "@jupyter-widgets/base",
            "_model_module_version": "1.2.0",
            "_model_name": "LayoutModel",
            "_view_count": null,
            "_view_module": "@jupyter-widgets/base",
            "_view_module_version": "1.2.0",
            "_view_name": "LayoutView",
            "align_content": null,
            "align_items": null,
            "align_self": null,
            "border": null,
            "bottom": null,
            "display": null,
            "flex": null,
            "flex_flow": null,
            "grid_area": null,
            "grid_auto_columns": null,
            "grid_auto_flow": null,
            "grid_auto_rows": null,
            "grid_column": null,
            "grid_gap": null,
            "grid_row": null,
            "grid_template_areas": null,
            "grid_template_columns": null,
            "grid_template_rows": null,
            "height": null,
            "justify_content": null,
            "justify_items": null,
            "left": null,
            "margin": null,
            "max_height": null,
            "max_width": null,
            "min_height": null,
            "min_width": null,
            "object_fit": null,
            "object_position": null,
            "order": null,
            "overflow": null,
            "overflow_x": null,
            "overflow_y": null,
            "padding": null,
            "right": null,
            "top": null,
            "visibility": null,
            "width": null
          }
        },
        "a017c5560016401f8b7cd5849cd0676f": {
          "model_module": "@jupyter-widgets/base",
          "model_name": "LayoutModel",
          "model_module_version": "1.2.0",
          "state": {
            "_model_module": "@jupyter-widgets/base",
            "_model_module_version": "1.2.0",
            "_model_name": "LayoutModel",
            "_view_count": null,
            "_view_module": "@jupyter-widgets/base",
            "_view_module_version": "1.2.0",
            "_view_name": "LayoutView",
            "align_content": null,
            "align_items": null,
            "align_self": null,
            "border": null,
            "bottom": null,
            "display": null,
            "flex": null,
            "flex_flow": null,
            "grid_area": null,
            "grid_auto_columns": null,
            "grid_auto_flow": null,
            "grid_auto_rows": null,
            "grid_column": null,
            "grid_gap": null,
            "grid_row": null,
            "grid_template_areas": null,
            "grid_template_columns": null,
            "grid_template_rows": null,
            "height": null,
            "justify_content": null,
            "justify_items": null,
            "left": null,
            "margin": null,
            "max_height": null,
            "max_width": null,
            "min_height": null,
            "min_width": null,
            "object_fit": null,
            "object_position": null,
            "order": null,
            "overflow": null,
            "overflow_x": null,
            "overflow_y": null,
            "padding": null,
            "right": null,
            "top": null,
            "visibility": null,
            "width": null
          }
        },
        "2a820667a4754b5db02facbefcefc65d": {
          "model_module": "@jupyter-widgets/controls",
          "model_name": "DescriptionStyleModel",
          "model_module_version": "1.5.0",
          "state": {
            "_model_module": "@jupyter-widgets/controls",
            "_model_module_version": "1.5.0",
            "_model_name": "DescriptionStyleModel",
            "_view_count": null,
            "_view_module": "@jupyter-widgets/base",
            "_view_module_version": "1.2.0",
            "_view_name": "StyleView",
            "description_width": ""
          }
        },
        "fae09538684b4cef8d97d8fce6ea6a32": {
          "model_module": "@jupyter-widgets/base",
          "model_name": "LayoutModel",
          "model_module_version": "1.2.0",
          "state": {
            "_model_module": "@jupyter-widgets/base",
            "_model_module_version": "1.2.0",
            "_model_name": "LayoutModel",
            "_view_count": null,
            "_view_module": "@jupyter-widgets/base",
            "_view_module_version": "1.2.0",
            "_view_name": "LayoutView",
            "align_content": null,
            "align_items": null,
            "align_self": null,
            "border": null,
            "bottom": null,
            "display": null,
            "flex": null,
            "flex_flow": null,
            "grid_area": null,
            "grid_auto_columns": null,
            "grid_auto_flow": null,
            "grid_auto_rows": null,
            "grid_column": null,
            "grid_gap": null,
            "grid_row": null,
            "grid_template_areas": null,
            "grid_template_columns": null,
            "grid_template_rows": null,
            "height": null,
            "justify_content": null,
            "justify_items": null,
            "left": null,
            "margin": null,
            "max_height": null,
            "max_width": null,
            "min_height": null,
            "min_width": null,
            "object_fit": null,
            "object_position": null,
            "order": null,
            "overflow": null,
            "overflow_x": null,
            "overflow_y": null,
            "padding": null,
            "right": null,
            "top": null,
            "visibility": null,
            "width": null
          }
        },
        "e97dce70b2994691a124e12b88094e70": {
          "model_module": "@jupyter-widgets/controls",
          "model_name": "ProgressStyleModel",
          "model_module_version": "1.5.0",
          "state": {
            "_model_module": "@jupyter-widgets/controls",
            "_model_module_version": "1.5.0",
            "_model_name": "ProgressStyleModel",
            "_view_count": null,
            "_view_module": "@jupyter-widgets/base",
            "_view_module_version": "1.2.0",
            "_view_name": "StyleView",
            "bar_color": null,
            "description_width": ""
          }
        },
        "9c0ddb51e95f4a378247efb671a7f0de": {
          "model_module": "@jupyter-widgets/base",
          "model_name": "LayoutModel",
          "model_module_version": "1.2.0",
          "state": {
            "_model_module": "@jupyter-widgets/base",
            "_model_module_version": "1.2.0",
            "_model_name": "LayoutModel",
            "_view_count": null,
            "_view_module": "@jupyter-widgets/base",
            "_view_module_version": "1.2.0",
            "_view_name": "LayoutView",
            "align_content": null,
            "align_items": null,
            "align_self": null,
            "border": null,
            "bottom": null,
            "display": null,
            "flex": null,
            "flex_flow": null,
            "grid_area": null,
            "grid_auto_columns": null,
            "grid_auto_flow": null,
            "grid_auto_rows": null,
            "grid_column": null,
            "grid_gap": null,
            "grid_row": null,
            "grid_template_areas": null,
            "grid_template_columns": null,
            "grid_template_rows": null,
            "height": null,
            "justify_content": null,
            "justify_items": null,
            "left": null,
            "margin": null,
            "max_height": null,
            "max_width": null,
            "min_height": null,
            "min_width": null,
            "object_fit": null,
            "object_position": null,
            "order": null,
            "overflow": null,
            "overflow_x": null,
            "overflow_y": null,
            "padding": null,
            "right": null,
            "top": null,
            "visibility": null,
            "width": null
          }
        },
        "fba9b14bf1564a77963841c84d83ebdc": {
          "model_module": "@jupyter-widgets/controls",
          "model_name": "DescriptionStyleModel",
          "model_module_version": "1.5.0",
          "state": {
            "_model_module": "@jupyter-widgets/controls",
            "_model_module_version": "1.5.0",
            "_model_name": "DescriptionStyleModel",
            "_view_count": null,
            "_view_module": "@jupyter-widgets/base",
            "_view_module_version": "1.2.0",
            "_view_name": "StyleView",
            "description_width": ""
          }
        }
      }
    }
  },
  "cells": [
    {
      "cell_type": "code",
      "execution_count": null,
      "metadata": {
        "id": "lKeVoSCjcMNt"
      },
      "outputs": [],
      "source": [
        "%%capture\n",
        "!pip install langchain\n",
        "!pip install langchain-openai"
      ]
    },
    {
      "cell_type": "code",
      "source": [
        "%%capture\n",
        "!pip install unstructured==0.11.2 unstructured-inference==0.7.15 pydantic lxml\n",
        "!pip uninstall pdfminer.six --y\n",
        "!pip install pikepdf pypdf wrapt pdfminer.six\n",
        "!pip install unstructured_pytesseract\n",
        "!apt-get install poppler-utils\n",
        "!apt-get install tesseract-ocr"
      ],
      "metadata": {
        "id": "i-SbeY9QkBm7"
      },
      "execution_count": null,
      "outputs": []
    },
    {
      "cell_type": "code",
      "source": [
        "from langchain_openai import ChatOpenAI\n",
        "from langchain.prompts import ChatPromptTemplate\n",
        "from langchain.schema.output_parser import StrOutputParser"
      ],
      "metadata": {
        "id": "kEOGtAQngrWu"
      },
      "execution_count": null,
      "outputs": []
    },
    {
      "cell_type": "code",
      "source": [
        "import openai\n",
        "import os\n",
        "from google.colab import userdata\n",
        "\n",
        "OPENAI_API_KEY = userdata.get('OPENAI_API_KEY')\n",
        "os.environ[\"OPENAI_API_KEY\"] = OPENAI_API_KEY\n",
        "openai.api_key = os.environ[\"OPENAI_API_KEY\"]"
      ],
      "metadata": {
        "id": "PyWQqtmAih49"
      },
      "execution_count": null,
      "outputs": []
    },
    {
      "cell_type": "code",
      "source": [
        "prompt_text = \"\"\"You are an assistant tasked with summarizing tables and text. \\\n",
        "Give a concise summary of the table or text. Table or text chunk: {element} \"\"\"\n",
        "prompt = ChatPromptTemplate.from_template(prompt_text)\n",
        "\n",
        "# Summary chain\n",
        "model = ChatOpenAI(temperature=0, model=\"gpt-4\")\n",
        "summarize_chain = {\"element\": lambda x: x} | prompt | model | StrOutputParser()"
      ],
      "metadata": {
        "id": "-gnfbCfsjQiO"
      },
      "execution_count": null,
      "outputs": []
    },
    {
      "cell_type": "code",
      "source": [
        "import urllib.request\n",
        "\n",
        "url = \"https://www.fsca.co.za/Regulatory%20Frameworks/FinTechDocuments/Digital%20Banking%20Research%20Document.pdf\"\n",
        "filename = \"digital_banking.pdf\"\n",
        "urllib.request.urlretrieve(url, filename)"
      ],
      "metadata": {
        "colab": {
          "base_uri": "https://localhost:8080/"
        },
        "id": "DifnA2GyjYNM",
        "outputId": "2f98ad1c-8e77-42fc-c7ac-faa4ec61dbd9"
      },
      "execution_count": null,
      "outputs": [
        {
          "output_type": "execute_result",
          "data": {
            "text/plain": [
              "('digital_banking.pdf', <http.client.HTTPMessage at 0x7aba2b0536d0>)"
            ]
          },
          "metadata": {},
          "execution_count": 6
        }
      ]
    },
    {
      "cell_type": "code",
      "source": [
        "from unstructured.partition.pdf import partition_pdf\n",
        "\n",
        "path = \"/content/\"\n",
        "\n",
        "# Extract images, tables, and chunk text\n",
        "raw_pdf_elements = partition_pdf(\n",
        "    filename=path + \"digital_banking.pdf\",\n",
        "    extract_images_in_pdf=True,\n",
        "    infer_table_structure=True,\n",
        "    chunking_strategy=\"by_title\",\n",
        "    max_characters=4000,\n",
        "    new_after_n_chars=3800,\n",
        "    combine_text_under_n_chars=2000,\n",
        "    image_output_dir_path=path,\n",
        ")"
      ],
      "metadata": {
        "colab": {
          "base_uri": "https://localhost:8080/",
          "height": 187,
          "referenced_widgets": [
            "dfb13ebf642d43849f968693ea4487c2",
            "b336f7457ae948349df408a20628ca5f",
            "cdc233aae5bf4c95be80388b08502a1d",
            "1d1457629392477b921eb278a83fe973",
            "f53c14c88962416aaa0c5680cdcc9517",
            "9fea93687ad440eb994aef5da3ea60da",
            "ca1bad52337847bfa4ba46d647242097",
            "278b664417044585a225d472dd6b2793",
            "c514d3ae59484a60812a87415efebcbb",
            "5e17b29c71a54d4984e121494739449e",
            "7dac6735369c46eb81bbba3ccaf7657f",
            "ad5de4358d0742cdae9fb7b01abef0d1",
            "e08a8519299a4e36af52101f3a888762",
            "7fd72e911dcc4b12a9c6e184133d3ec0",
            "afadfe243358400ba6e9b7eedbbae31e",
            "2f363f7208534e5880607e02835c51b1",
            "77d032e10f57452e84bb4b8c123e93b0",
            "2674bc76df2a44df9d71b3eca99f88c8",
            "a1f4aca89c13462183fd183ba33e9d00",
            "89e1c5db7e5c430c8dbb1e273815a1bd",
            "ec0244d4ac9b44eea2c5d322faa5f397",
            "a2d2d1c635bb4035bfcbd25c63a4fcaa",
            "a79aa1d80d52478a8ae4de919e84ad08",
            "14ec681e280a498fb84e06e841604614",
            "b367e9e4ce974ec980088b3fb5a52e0b",
            "c26122c807fa439092624690c54bed8e",
            "4fbe9d80c041494ea0c7113af23fa096",
            "a017c5560016401f8b7cd5849cd0676f",
            "2a820667a4754b5db02facbefcefc65d",
            "fae09538684b4cef8d97d8fce6ea6a32",
            "e97dce70b2994691a124e12b88094e70",
            "9c0ddb51e95f4a378247efb671a7f0de",
            "fba9b14bf1564a77963841c84d83ebdc"
          ]
        },
        "id": "svqFWVaOkxx7",
        "outputId": "06654b8a-8a61-4a70-8e82-bc7b74049d44"
      },
      "execution_count": null,
      "outputs": [
        {
          "output_type": "display_data",
          "data": {
            "text/plain": [
              "config.json:   0%|          | 0.00/1.47k [00:00<?, ?B/s]"
            ],
            "application/vnd.jupyter.widget-view+json": {
              "version_major": 2,
              "version_minor": 0,
              "model_id": "dfb13ebf642d43849f968693ea4487c2"
            }
          },
          "metadata": {}
        },
        {
          "output_type": "display_data",
          "data": {
            "text/plain": [
              "model.safetensors:   0%|          | 0.00/115M [00:00<?, ?B/s]"
            ],
            "application/vnd.jupyter.widget-view+json": {
              "version_major": 2,
              "version_minor": 0,
              "model_id": "ad5de4358d0742cdae9fb7b01abef0d1"
            }
          },
          "metadata": {}
        },
        {
          "output_type": "display_data",
          "data": {
            "text/plain": [
              "model.safetensors:   0%|          | 0.00/46.8M [00:00<?, ?B/s]"
            ],
            "application/vnd.jupyter.widget-view+json": {
              "version_major": 2,
              "version_minor": 0,
              "model_id": "a79aa1d80d52478a8ae4de919e84ad08"
            }
          },
          "metadata": {}
        },
        {
          "output_type": "stream",
          "name": "stderr",
          "text": [
            "Some weights of the model checkpoint at microsoft/table-transformer-structure-recognition were not used when initializing TableTransformerForObjectDetection: ['model.backbone.conv_encoder.model.layer2.0.downsample.1.num_batches_tracked', 'model.backbone.conv_encoder.model.layer3.0.downsample.1.num_batches_tracked', 'model.backbone.conv_encoder.model.layer4.0.downsample.1.num_batches_tracked']\n",
            "- This IS expected if you are initializing TableTransformerForObjectDetection from the checkpoint of a model trained on another task or with another architecture (e.g. initializing a BertForSequenceClassification model from a BertForPreTraining model).\n",
            "- This IS NOT expected if you are initializing TableTransformerForObjectDetection from the checkpoint of a model that you expect to be exactly identical (initializing a BertForSequenceClassification model from a BertForSequenceClassification model).\n"
          ]
        }
      ]
    },
    {
      "cell_type": "code",
      "source": [
        "# Categorize by type\n",
        "tables = []\n",
        "texts = []\n",
        "for element in raw_pdf_elements:\n",
        "    if \"unstructured.documents.elements.Table\" in str(type(element)):\n",
        "        tables.append(str(element))\n",
        "    elif \"unstructured.documents.elements.CompositeElement\" in str(type(element)):\n",
        "        texts.append(str(element))"
      ],
      "metadata": {
        "id": "Y3s0R-eSk_8d"
      },
      "execution_count": null,
      "outputs": []
    },
    {
      "cell_type": "code",
      "source": [
        "len(tables), len(texts)"
      ],
      "metadata": {
        "colab": {
          "base_uri": "https://localhost:8080/"
        },
        "id": "RmsICZU0l5KU",
        "outputId": "10a9321d-65f7-40fd-d0fc-ff4b933d57da"
      },
      "execution_count": null,
      "outputs": [
        {
          "output_type": "execute_result",
          "data": {
            "text/plain": [
              "(2, 16)"
            ]
          },
          "metadata": {},
          "execution_count": 9
        }
      ]
    },
    {
      "cell_type": "code",
      "source": [
        "tables"
      ],
      "metadata": {
        "colab": {
          "base_uri": "https://localhost:8080/"
        },
        "id": "mzAJxOVWmABP",
        "outputId": "ccc7129b-c78d-4caf-b4a8-9a6fc5a9fa38"
      },
      "execution_count": null,
      "outputs": [
        {
          "output_type": "execute_result",
          "data": {
            "text/plain": [
              "['0. Low 1. Basic 2. Good 3. Best-in-class 1. Digital Marketing 2. Automation and personalisation of customer journey to segment of one Customer Experience 3. Digital channels offerings 4. Leveraging technology to promote remote banking 5. Impact of digitization of customers facing processes on customer experience 6. Innovating and leveraging AI technology/Big Data to enhance customer value propositions Digital Products 7. leveraging APIs technology to drive partnerships between organization and Fintechs 8. Innovating/incubating products and services leveraging technology 9. leveraging of data to offer personalized customer value propositions 10. Investment in digitised operations (i.e., Robotics Process Automation/ Intelligent Automation) Operations & Technology 11. Leveraging technology to reduce the costs and time associated with serving banking customers 12. Investment in a technology stack that enables the roll out of digitized and data led propositions. 13. Investment in talent and skills to roll out digital products 14. Movement towards an organization structure that enables the execution of digital banking Organisation 15. A mindset and behavioral change and methodologies allowing for agile, responsive, iterative, collaborative digital product development and execution',\n",
              " 'Benefits Drawbacks Convenience and constant access: The digitisation of banking means that customers can now access their accounts 24/7 and carry out all manner of transactions with a few touches of a button. Downtime/ Operational Stability: if you rely solely on an online bank, you could be challenged to access your accounts should your bank experience an online or mobile app outage and you have no branch to visit. Simplified customers journey: Digital banks can onboard new customers so much more easily than traditional banks. It is usually a paperless process with documents like proof of ID, employment and address uploaded via smartphones and verified quickly and efficiently. Security issues: Although security is of higher importance to digital banks, there is always the chance that personal information e.g., user username and password could be hacked. Personalisation: Digital banks are able to use alternative data to design products and services that meet individual specific requirements/needs Technology illiteracy: For those who are not tech- savvy, online banking and mobile banking apps might be very difficult to use. Lower fees: Automated services, the lack of physical branches and less employees means that digital banks have considerably fewer costs than traditional banks. These savings can be passed down to customers as reduced charges and services. Lack of a personal relationship: Digital banks de- emphasise face to face contact which may lead to some customers not being serviced adequately. Rapid product and feature development: Digital banks are quickly able to deploy new features and services in response to customer behavior/ data Digital Penetration: Smartphone ownership and data penetration is still low in South Africa, both critical enablers for digital banking adoption. Process agility and responsiveness: Digital banks use less cumbersome and more flexible processes than traditional banks in serving their customers and thus deliver a seamless/faster/simpler customer experience. Third Party risk management: many banks are outsourcing all or part of their digital strategy to Fintechs and other third-party vendors.']"
            ]
          },
          "metadata": {},
          "execution_count": 10
        }
      ]
    },
    {
      "cell_type": "code",
      "source": [
        "texts"
      ],
      "metadata": {
        "colab": {
          "base_uri": "https://localhost:8080/"
        },
        "id": "_L4-QtS6mBy7",
        "outputId": "a29600b4-32f4-4868-b224-d024aa55c3df"
      },
      "execution_count": null,
      "outputs": [
        {
          "output_type": "execute_result",
          "data": {
            "text/plain": [
              "['www.fsca.co.za \\n\\n1 2 0 2  DIGITAL BANKING RESEARCH DOCUMENT    \\n\\nCONTENT\\n\\n06\\n\\n01\\n\\n09\\n\\nKEY FINDINGS\\n\\nDIGITISING PRODUCTS AND SERVICES\\n\\nEXECUTIVE SUMMARY\\n\\n02\\n\\n17\\n\\n09\\n\\nINTRODUCTION\\n\\nDIGITISING OPERATIONS AND TECHNOLOGY\\n\\n02\\n\\n10\\n\\nWHAT IS DIGITAL BANKING\\n\\nDIGITISE THE ORGANISATION\\n\\n02\\n\\n11\\n\\nTYPES OF DIGITAL BANKS\\n\\nSURVEY RESULTS\\n\\n12\\n\\n05\\n\\nDIGITISING OF THE CUSTOMER EXPERIENCE\\n\\nTECHNOLOGIES POWERING DIGITAL BANKS\\n\\n13\\n\\n06\\n\\nDIGITISING OF PRODUCTS AND SERVICES\\n\\nDIGITAL BANKING TRENDS\\n\\n14\\n\\n08\\n\\nDIGITISING OF OPERATIONS AND TECHNOLOGY\\n\\nDIGITAL BANKING EMERGING BEST PRACTICES\\n\\n15\\n\\n08\\n\\nDIGITISING OF ORGANISATION\\n\\nDIGITISE CUSTOMER EXPERIENCE\\n\\nIMPLICATIONS FOR\\n\\nTHE FINANCIAL\\n\\nSECTOR\\n\\nEXECUTIVE SUMMARY\\n\\nDigital banking entails the digitisation of traditional banking services in order to deliver financial services to customers. This entails digitisation of marketing, customer onboarding, service channels, processes, products and features such as savings and deposits, loan management, bill payments, and also facilitating digital lifestyle services such ride hailing, ehealth, edtech, telecoms, media, etc, through ecosystem orchestration and partnerships. There are various technologies that are powering digital banks, such as (1) Big Data and artificial intelligence (AI), (2) cloud computing, (3) intelligent automation/robotics process automation, (4) application programming interfaces (APIs), (5) digital identity and biometrics, and (6) chatbots/robo advisory.\\n\\nThere are five distinct types of digital banks. These include (1) challenger/new banks, (2) neo banks, (3) beta banks, (4) non-banks and (5) digitised incumbents. Digital banking is growing across the world and is expected to maintain an upward growth path in the coming years. The number of people using digital channels is also growing, with the number forecasted to reach over 2 billion in 2024.\\n\\nThe advent of digital banking has led to an emergence of some best practices in the banking sector. For example, leading digital banks are achieving customer excellence by digitising the customer journey across eight key touchpoints, leading to improved customer experience; they are going beyond financial services by offering an ecosystem of services to address digital lifestyle needs that deepen engagement with customers; they are achieving operational and technological excellence by ensuring their top processes are automated and they have an agile digital stack and they are also organising in a way that allows them to innovate rapidly.\\n\\nTo understand the state of digital banking activities in South Africa (SA), a survey was conducted focusing on banks. From the survey, there were several benefits identified, including financial inclusion, convenience and personalisation, as well as several drawbacks around consumer education, cybersecurity and data privacy/misuse from digital banking activities. Stemming from these benefits and risks, the paper identifies several considerations for the financial sector focused on consumer education, data management, and cybersecurity in order to amplify the potential benefits of digital banking, while mitigating risks.\\n\\n1\\n\\n|',\n",
              " 'Digital Banking\\n\\nINTRODUCTION\\n\\nWhat is digital banking\\n\\nDigital banking entails the digitisation of traditional banking services in order to deliver financial services to customers. This entails the digitisation of marketing, customer onboarding, service channels, processes, products and features such as savings and deposits, loan management, bill payments, and also facilitating digital lifestyle services such ride hailing, ehealth, edtech, telecoms, media, etc, through ecosystem orchestration and partnerships, and open APIs.\\n\\nTypes of digital banks\\n\\nThere are five different types of digital banks, such as (1) challenger banks/new banks, (2) neobanks, (3) beta banks, (4) non-banks and (5) digitised incumbents banks.\\n\\nChallenger/new banks have full banking licences and are direct competitors of the traditional banks offering the same services as traditional banks. Essentially, they are fintechs with banking licences.\\n\\n(1)\\n\\nNeobanks do not have a banking licence, but partner with financial institutions to offer bank- licensed services. Typically, neobanks still require customers to have an account at an existing licensed bank. They are completely digital banks that have no physical presence and reach out to customers via mobile apps and web platforms.\\n\\n(2)\\n\\nBeta banks are joint ventures or subsidiaries of existing banks that offer financial services through the parent company’s licence. Beta banks are often set up as a way to enter new markets, offering limited services to a targeted consumer base. They are targeted at the tech-savvy, millennial customer segment, as well as to provide best-in-class innovative banking services.\\n\\nNon-banks have no connections to traditional banking licences. Instead, they provide financial services by other means. This unique model allows the company to operate independently of existing banks.\\n\\n(4)\\n\\nDigitised incumbents are incumbent banks that are pursuing total digital transformation. They compete with digital challengers by acquiring their capabilities. They segment digital and traditional customers.\\n\\n(5)\\n\\n2\\n\\n|',\n",
              " 'Box 1 below provides an example of some digital banks around the world.\\n\\nBOX 1: Digital Bank Examples\\n\\n(1) Challenger/new banks are offering traditional banking services in a more flexible way and they are also operating as marketplaces.\\n\\n= =— TymeBank\\n\\nTymeBank does not have any physical bank branches and relies on an Android banking app, an internet banking site and a partnership with two retail chains, Pick n Pay and Boxer, to host a national network of self-service kiosks that facilitate the account-opening process.\\n\\nMonzo Bank Ltd is an online bank based in the United Kingdom. The bank was one of the earliest of a number of new app-based challenger banks in the UK. Monzo offers a full suite of mobile banking features that make it easy to see where you are spending and saving money. You can create budgets, keep a close eye on your saving goals, and take advantage of Monzo’s cheaper international transfers and\\n\\nmonzo\\n\\ncash withdrawals.\\n\\nNubank is the largest fintech bank in Latin America. Among the company’s products are NuConta (a digital account), an international credit card, both without fees, personal loans, life insurance and investments. The company’s differentiating factor is to offer a credit card that is controlled completely by means of a mobile app. The app allows its users to track transactions in real time, block their respective credit cards, apply for a limit raise and contact customer support.\\n\\nNU bank\\n\\nRevolut is a digital bank that offers accounts featuring currency exchange, debit cards, virtual cards, Apple Pay, interest-bearing “vaults”, commission-free stock trading, crypto, commodities, and other services via a digital-only mobile banking app.\\n\\n(2) Neobanks are offering customers more user-friendly interfaces and fee-free services\\n\\nWeBan AREA\\n\\nWeBank is a private Chinese neobank, founded by Tencent, Baiyeyuan, Liye Group, and other companies. Tencent is the single largest shareholder, with an estimated 30 percent ownership share. WeBank bank has no physical branches or outlets and does not rely on property guarantees. Instead, it grants loans through face recognition technology and big data credit ratings.\\n\\n3',\n",
              " 'Revolut;\\n\\nDigital Banking\\n\\nchime\\n\\nChime is an American financial technology company which provides fee-free mobile banking services provided and owned by The Bancorp Bank or Central National Bank. Account holders are issued Visa debit cards and have access to an online banking system accessible through the Chime website or via the mobile app for Android or iOS.\\n\\n(3) Beta banks are enabling traditional banks to expand their service offerings and capture new customer segments\\n\\nYONO is an integrated digital banking platform offered by the State Bank of India (SBI) to enable users to access a variety of financial and other services such as flight, train, bus and taxi bookings, online shopping, and medical bill payments. YONO offers services from over 100 ecommerce companies, including online shopping, travel planning, taxi booking, train booking, film ticket booking, online education and offline retail with special discounts.\\n\\nyono Ost)\\n\\nHello bank! is a digital direct bank owned by BNP Paribas that started operations in 2013. The bank operates in France, Belgium, Germany, Italy, the Czech Republic and Austria. Hello bank! offers, banking, brokerage, insurance, loans and savings. The bank is supported through different BNP Paribas retail banking subsidiaries where they exist.\\n\\n4\\n\\n(4) Non-banks are increasing competition in the banking sector and defining the future of banking\\n\\nMONeSE RA\\n\\nMonese is a non-bank digital financial services provider in the United Kingdom that provides instant current accounts in the UK and the Eurozone. Monese provides its current account and other services through a fully featured mobile app that lets people open a bank account in pound sterling, euros, and even in Romanian lei, if you live in Romania.\\n\\nG CURVE 7\\n\\nCurve is a payment card that aggregates multiple payment cards through its accompanying mobile app, allowing a user to make payments and withdrawals from a single card. Curve card connect all of a user’s accounts to one card and one smart app.It enables customers to use all their current cards through one simple, secure Curve MasterCard.',\n",
              " '(5) Digitised incumbents are shifting to branchless banking and meeting customers’ demands for simple, secure and friction-free banking\\n\\nFNB\\n\\nStandard Bank and FNB have made the strategic shift towards a platform- based/digital banking approach to serve their customers. This entails undergoing a digital transformation in order to digitise channels, products, and processes\\n\\nTechnologies powering digital banks\\n\\nTechnology underpins the value propositions digital banks use to serve their consumers. Through technology, it is becoming possible for consumers to receive financial services and products that are customer-centric, easy to use, secured, frictionless, paperless, low-cost and always available. Because financial services provided digitally can be accessed from anywhere, customers are no longer bound by their physical location but can more freely to choose the financial institution of their choice to obtain a service.\\n\\n5\\n\\nBox 2 below describes Digital Banking powering technologies.\\n\\nBOX 2: Top technologies powering digital banking\\n\\nBig Data and AI: Data have emerged as the key to creating rich customer experiences, with AI being used to process the data to enhance customer value propositions and the customer experience through personalisation.\\n\\nIntelligent Automation/Robotics Process Automation: Digital banks are combining robotic process automation (RPA) and artificial intelligence (AI) technologies to drive rapid end-to-end business process automation and accelerate digital transformation.\\n\\nCloud Computing: Cloud computing is a catalyst for digital transformation and a game-changer for how banks operate, rapidly deploy products, and serve their customers.\\n\\nOpen APIs: APIs have made innovation in digital banking simple, convenient and cost-effective and have encouraged partnerships between banks and Fintechs.\\n\\nOpen Finance Use-Cases\\n\\nDigital Identity and Biometrics: Biometrics are helping digital banks to provide simple, one-touch banking securely and with reduced risk of fraud.\\n\\nChatbots/Robo Advisory: Digital banks are leveraging bots to drive sales and speedily resolve customer queries.',\n",
              " 'Digital banking trends\\n\\nConsumer use of digital banking has entered a stage of acceleration globally, fuelled largely by fintech innovations and a growth in digital usage. According to a 2021 McKinsey report on digital banking, nearly nine in ten consumers across the emerging and developed markets are using digital banking actively and most of them are open to purchasing more banking services through digital channels.\\n\\nFigure 1: Global digital banking market size, leading segment, services and region in US dollars\\n\\n803 billion Digital Banking Market Size 1,610 billion Digital Banking Retail Segment 1,320 billion Digital Banking Payment Services 403 billion 376 billion 721 billion M2019 Ml 2027 Digital Banking in North America\\n\\nSource: Digital Banking Market Report 2021\\n\\nThe global digital banking market size was valued at $803.8 billion in 2019 and is projected to reach $1610 billion by 2027. Retail banking segment commands the largest share in the digital banking market with a market size valued at $574.4 billion in 2019 and is projected to reach $1320 billion in 2027. The digital payment segment is the largest service segment in the digital banking market segment, valued at $194.5 billion in 2019 and is projected to reach $402.5 billion by 2027. Among the regions of the world, the North American region currently has the largest digital banking market value, at $376.2 billion in 2019, and is projected to reach $721.3 billion by 2027.\\n\\n6\\n\\nFigure 2: Digital-channel users percentage share by region\\n\\nOcenia & Central Asia Middle East & North Africa Sub-Saharan Africa Far East & China Latin America [575 Europe North America\\n\\nSource: © Statista 2021\\n\\nAcross the world, consumers are also adopting digital banking channels in big numbers. As of 2021, as many as 2 billion individuals worldwide actively used online banking services, with the number forecast to reach 2.5 billion by 2024. By 2021, the Far East and China already accounted for over 800 million active online banking users, which is about 41% of the global market and the figure is expected to reach nearly 1 billion by 2024. This was followed by Europe 19%, North America 12%, Oceania and Central Asia 11%, Middle East and North Africa 7%, Latin America 6% and Sub-Saharan Africa 3%.\\n\\nFigure 3: The proportion of the banked population that used a banking channel to make transactions\\n\\nRetail Store Bank Brach Cell phone banking Banking app Internet banking',\n",
              " 'Source: FinScope survey, 2019\\n\\nIn SA, there has been an increase in the adoption of digital channels by consumers. The proportion of individuals that used a banking app and cellphone banking increased by 4% points between 2018 and 2019. Retail stores have become increasingly popular as a distribution channel for simple transactions, with Tyme Bank partnering with Pick n Pay and the Checkers Money Markey product as examples. Individuals who used the retail stores to perform transactions between 2018 and 2019 increased by 4%.\\n\\nDigital Banking\\n\\n7\\n\\nDIGITAL BANKING EMERGING BEST PRACTICES\\n\\nDigital transformation marks a rethinking of how an organisation uses technology, people, and processes in pursuit of new business models and new revenue streams, driven by changes in customer expectations around products and services. Leading incumbents are digitising rapidly across four components: (1) digitise the customer experience, (2) digital products and services, (3) digitise operations and technology, (4) digitise the organisation.\\n\\nDigitise customer experience\\n\\nDigitise customer experience refers to digitising the end-to-end customer journey in order to radically transform/ enhance the customer experience. From creating awareness through digital marketing tools, to providing a digitally intensive/omni-channel experience to onboard customers, to delivering a personalised app experience that adapts to customers’ unique needs based on analytics/AI.\\n\\nFigure 4: Leading digital banks customer journey\\n\\nDigital Customer Journey management Sen. _ | Customer ae ~ e_core User . Tobe @-_ UA Uparade..-\"\" cored > First engagement’ ~ Engaged és o bi sa * Chum —Oo__9 @) @) (5) 9 Product 7 Orde (pre- Transaction —_—Product Produc} Relain “S. development -“ sale) (insale) service (after termingtion \\\\ identification) 4 eee eee eee eee eee sole) ee \\' +\" User Discovery -y* enrollment \"0 Introduction Customer Repeat engagement of Customer enrollment. customers oo re-engage e 9\\n\\n+ «s+s+«+ Touchpoints in customer lifecycle Touchpoints in product fife cycle © @ Key touch point\\n\\nAs shown in the graphic above (figure 4), digital banks are achieving customer excellence by digitising the customer journey across several key touchpoints. Digital banks successfully hone in on and digitise their customer experience, by focusing on critical touch points, on average experience a ~30% increase in customer satisfaction (CSAT), a ~50% increase in engagement and a ~40%-60% reduction in churn.',\n",
              " 'Digital Banking\\n\\n8\\n\\nDigitising products and services\\n\\nDigital products and services refers to innovating and leveraging data and technology to develop products and services to address customer needs. Leading digital banks are going beyond financial services by offering an ecosystem of services to address digital lifestyle needs that deepen engagement with customers. In order to deliver varied ecosystems of digital services to consumers, leading digital banks are partnering with and offering financial solutions to merchants/enterprises while also acting as an intermediary between them and consumers. Below (Figure 5) is an illustration of digital lifestyle needs being facilitated by platform-based digital banks.\\n\\nFigure 5: Leading digital banks’ ecosystem of services\\n\\nKoy eCommerce Gea —_—— Financial Services (Payments, Lending, Savings, Insurance, Investments) eHealth Utilities Transport services Media & Entertainment Communication e Food & Beverages eEducation\\n\\nDigitising operations and technology\\n\\nDigital banks are digitising their operations and technology and achieving operational excellence through intelligent automation (IA) and robotics process automation (RPA) to streamline manual/cumbersome processes in order to improve speed, quality and volumes. Additionally, digital banks are moving to agile-based technology stacks to ensure they are responsive and flexible in serving their customers.\\n\\nFigure 6: Leading digital banks automation and tech stack architecture\\n\\nAutomation of Top 20 - 30 end-to-end processes that account for ~40 - 50% of costs and 80 - 90% of customer activity Number of FTEs (000) 110 100 90 80 70 60 50 40 30 20 10 ‘Top ~30 processes * Account opening & onboarding + Home Loans = Lending (personal, SME, corporate) * Customer enquires: * Credit card issuance * Complaints handiings * Cash handling * Annual portfolio review 300 400 500 600 Number of processe Tech stack architecture that enables rapid development of Prova snes x & #as| es | cocter) | =?) Aim on\\n\\nAs shown in Figure 6, digital banks that successfully identify and automate their top 20-30 processes are able to reduce cost-to-serve by 20%, increase engagement, and improve turnaround times serving their customers. Additionally, moving to an agile tech stack enables rapid product and feature development, with a low turnaround time between new updates.',\n",
              " 'Digital Banking\\n\\n9\\n\\nDigitise the organisation\\n\\nDigital banks are not only focusing on customer journeys, processes, and products but also revolutionising their organisational culture/internal environment and attracting critical digital skills and capabilities in order to drive rapid digital innovation, within the context of a hyper-competitive and fast-changing fintech environment.\\n\\nFigure 7: Leading digital-bank teams’ organisation\\n\\nP ee e@ Business Stakeholders e Owner . tT 6 NYY ~ FF Ff Scrum Product T “—» Master Owner SME ee ee ® ¥ T T T oe 1m fl Dev Team SME Scrum Team\\n\\nLeaders of leading digital banks are embracing rapid innovation and experimentation as a means to successfully delivering digital banking propositions. Leaders are not only embracing innovation but also cascading the message across the organisation.\\n\\nAdditionally, leading digital banks are reorganising their delivery teams based on agile and DevOps principles. This enables teams to work more collaboratively, creatively, and to deliver solutions rapidly.\\n\\nLeading digital banks have also recognised that delivering rapid digital innovation requires critical skills, such as critical thinking, creative problem-solving, mental flexibility, agility, and data and digital literacy, among other skills, and are seeking these skills from individuals who have non-traditional backgrounds.\\n\\n10\\n\\nDigital Banking\\n\\nSURVEY RESULTS\\n\\nDuring 2021, the FSCA conducted a digital banking survey targeting banks. The survey consists of 15 questions covering four themes ranging across (1) digitising of the customer experience; (2) digital products and services; (3) digitising of operations and technology; and (4) digitising of organisations. The survey’s 15 questions were structured in a manner allowing the participants to provide comprehensive, precise and cohesive self-reported information. Figure 8 provides a schematic presentation of our findings followed by detailed analysis:\\n\\nFigure 8: SA Digital Banking Diagnostic findings',\n",
              " '11\\n\\n|\\n\\nDigital Banking\\n\\nDigitising of the customer experience\\n\\nIt emerged from our findings that a large number of banks have digitised the customer journey in order to radically transform/enhance the customer experience. Although this is happening at a wider scale, there is still more room for improvement to fully transform/enhance customers’ experiences to best in class.\\n\\nDigital Marketing: All the banks that were surveyed indicated that they are extensively using digital marketing channels to reach out to their customers. This includes both corporate and retail customers. Banks are extensively leveraging digital marketing channels, such as social media, internet, emails and SMS, to reach out to wider populations. Other channels that are also proving to be popular to banks include using third-party channels, ATMs and search-engine optimisation.\\n\\nAutomation and personalisation of the customer journey into a segment of one: A small proportion of banks are leveraging technology to a greater extent, promoting remote banking and making the banking experience seamless and hassle-free.\\n\\nDigital channels offerings: A majority of banks are offering their customers transacting channels such as internet banking, mobile apps, USSD, digital self-help channels, and Watsup solutions, as well as self- service terminals. Within the retail banking space, USSD, mobile apps and self-service terminals are very popular, while within the corporate banking space internet banking and mobile apps are most popular.\\n\\nAutomation and personalisation: Most banks indicated that they have partially automated the customer journey and personalised to a segment of one. Reasons for an inability to fully automate customer journey include some customers’ preference for a brick-and-mortar banking-service experience and other customers, due to the remoteness of their areas, struggling to access banking service via digital channels. However, to those customers who are tech-savvy, banks do offer a fully automated and personalised customer journey.\\n\\nImpact of digitization of customers facing processes on customer experience: A small number of banks indicated that they have digitise customer facing processes and it has resulted in realisation of benefits such as, reduction in human errors, increase in speed of servicing customers, increase in customers satisfaction, trust and increases in customers loyalty.\\n\\n12',\n",
              " 'Digital Banking\\n\\nDigitising of products and services\\n\\nOverall, a small number of banks are Innovating and leveraging technology to develop products and services to address customer needs, while majority of banks are still figuring it out.\\n\\nLeveraging AI/Big Data: Survey results are split between banks that are heavily invested in AI and Big Data to enhance customer value propositions and banks that have made plans to greatly invest in AI/Big Data technology. To the former, AI and Big Data tech are mostly assisting them in business operations, e.g., in lending to improve credit for clients and as regtech tools, for example, fraud detection and risk management. Big Data technology is also enabling banks to collect volumes of data, store it and use it more effectively. AI is also assisting banks to analyse Big Data and generate insights.\\n\\nLeveraging API technology: A small proportion of banks indicated that they are extensively leveraging API technology to drive partnerships with fintechs to enhance value propositions for their products and services to customers. Leveraging APIs to partner with fintechs is also helping banks to adopt new technologies, new skills and ways of doing things. There is a growing awareness among some banks that they cannot own all the technology and partnership is the future.\\n\\nInnovating/Incubating: Survey results are split between banks leveraging technology to innovate/ incubate products and services, banks having plans in place to innovate/incubate and banks which by nature are very innovative and pride themselves as innovative organisations. Innovative organisations are built up with an innovation mindset and see no need to build innovation/incubation capability within, since they do no legacy systems.\\n\\nLeveraging of data: A few surveyed banks indicated that they are greatly leveraging customers data to deliver personalisation/segment of one value proposition, while the majority of banks are still figuring out how to leverage customers data to deliver personalisation/segment of one value proposition.\\n\\n13',\n",
              " 'Digital Banking\\n\\nDigitising of operations and technology\\n\\nIt emerged from our findings that very few digital banks are leveraging technology to streamline manual/ cumbersome processes in order to improve speed, quality, volumes. Majority of banks are having plans in place to digitise operations and others have just begun the journey with no material impact to point out at the moment.\\n\\nInvestment in digitised operations: A small number of banks indicated that they have begun the process of automating manual repetitive processes by deploying RPA and IA to assist in some areas of work, but the process is still at early phase.\\n\\nLeveraging technology: All the banks surveyed have indicated that they are leveraging technology to reduce the costs associated with servicing banking customers.\\n\\nInvestment in tech stack: Survey results are split amongst the banks that have already invested significantly in a technology stack that enables them to roll out digitised and data-led propositions, those who are just beginning to invest in a technology stack and those who are planning to invest in a technology stack. For those banks that have already invested, some of the investments took the form of partnerships with big players in the technology sector, which enables them to leverage the best technology in the world.\\n\\n14\\n\\nDigitising of organisation\\n\\nFrom our study we observed that a small number of banks have built internal environment and capabilities that will result in an organisation that is innovative and responsive in a fast-changing environment. Majority of banks are having plans in place to digitise their organisations, whilst others have just started implementing their plans.\\n\\nInvestment in talent: All the participants indicated that they have extensively invested in talent needed to roll out digital products. Participants indicated that they have put in place various training programmes aimed at empowering all their employees. The organisations are also running recruitment drives targeting people with modern tech skills.\\n\\nInvestment in talent and skills: Almost all the banks interviewed indicated that they have aggressively invested in skills and capabilities required to execute digital banking. This has mostly taken the form of hiring new highly skilled staff and upskilling existing staff. Data science skills, AI skills and project managers with both waterfall and agile-method experience are some of the skills in high demand. Some banks are leveraging joint ventures and partnerships with third parties to gain new skills and product knowledge.\\n\\nOrganisation structure: Very few banks have put in place an organisation structure that enables the execution of digital banking. For majority of organisations this is still work in progress.\\n\\nMindset and behavioural change: A small proportion of banks indicated having embarked on deliberate efforts to mindset and behavioural change and methodologies that allow for agile, responsive, iterative, collaborative digital product development. However, due to the size and complexity of some of the organisations, this is still a work in progress in most organisations. A very small proportion of banks have managed to reach maturity level.\\n\\n15',\n",
              " 'Digital Banking\\n\\neU a\\n\\nKEY FINDINGS\\n\\nOur findings show that the digital-banking market in SA is growing. This is because of the benefits these digital banks are offering to customers. Digital banking introduced by incumbents provides easy access to services, while digital banking offered by challengers has more innovative features that traditional institutions do not normally offer.\\n\\nDespite many South African banks making significant strides in providing a great digital experience, the digital banking landscape still has major room for improvement. For example, “studies indicate that digital-only customers continue to report the lowest levels of satisfaction in the banking sector in SA” . There is a concern among South Africans over the security of their online banking activities and a lack of digital literacy and absence of infrastructure in some communities to support digital banking. For more information on the benefits and drawbacks of digital banking refer to Table 1 below.\\n\\nTable 1: Key Findings',\n",
              " '16\\n\\n|\\n\\nDigital Banking\\n\\nIMPLICATIONS FOR THE FINANCIAL SECTOR\\n\\nTo fully realise the benefits and mitigate the drawbacks emanating from digital banking activities, a set of considerations was proposed for the financial sector players to reflect upon.\\n\\nCONSIDERATION 1: DIGITAL LITERACY AND CONSUMER EDUCATION\\n\\nA transition towards digital banking propositions will require commensurate digital literacy and consumer education to bring customers along.\\n\\nDigital Literacy and Digital Divide: A collaborative effort among financial-sector stakeholders is needed to provide adequate digital infrastructure and services to rural areas and enable necessary conditions to empower consumers to compete in the digital economy.\\n\\nFit-for-Purpose Consumer Education: Digital banks need to build in fit-for-purpose consumer education throughout customer journey processes, to ensure that consumers are informed of risks and benefits emanating from digital banking activities, as well as how these products and services work.\\n\\nInformed consent: Digital banks need to provide clear and accessible information upfront about how customer data will be used (for example, terms and conditions), and keep the customer in the loop around usage of their data on an ongoing basis.\\n\\nCONSIDERATION 2: DATA PROTECTION AND PRIVACY\\n\\nA digital bank’s dependency on data to serve customers consequently requires enhanced data-privacy and data-protection practices.\\n\\nTransparency: Digital banks should be transparent to the customers regarding the data that are collected about them, how they are used and whether they are shared with a third party.\\n\\nData protection: A clear liability framework should be in place that ensures the responsible party is held accountable for data security and for harm caused by breaches of its data security duties of care and digital banks need to be able to identify where data were improperly used or accessed in the event of a security breach.\\n\\nData Misuse: Safeguards should be in place to ensure that there is no inappropriate use of consumer data beyond the scope of their consent.\\n\\nTo fully realise the benefits and mitigate the drawbacks emanating from digital banking activities, a set of considerations was proposed for the financial sector players to reflect upon.\\n\\n17',\n",
              " 'Digital Banking\\n\\nCONSIDERATION 3: CYBER SECURITY AND DIGITAL IDENTITY\\n\\nDigital Banking increases the risk around AML/ CFT, eKYC, and cybersecurity and will require practices to mitigate these.\\n\\nCybersecurity: To mitigate cybersecurity risk, a multi-pronged strategy including multifactor authentication, cyber risk assessment, cyber insurance and employee training should be put in place.\\n\\nDigital identity theft: A multi-layered approach involving advanced identity verification, intelligent data use and continuous behavioural monitoring could give the financial sector the power to fight back against digital identity theft.\\n\\nAML/CFT: Digital banks should deploy regtech tools, i.e., Artificial Intelligence (AI) to help monitor customer behaviour and quickly flag risks.\\n\\nCONSIDERATION 4: DATA ETHICS\\n\\nDigital Banks’ intensified use of Big Data to serve their customers’ needs to be underpinned by a data ethical framework that ensures customers are treated fairly.\\n\\nData Governance and Data Mindfulness: There must be a framework in place to guide how digital banks manage, utilise, and protect customer data.\\n\\nAlgorithmic Bias and Discrimination: Digital Banks must have a data ethics framework in place and must also fully demonstrate their comprehension of data algorithms to ensure they are in a position to protect consumers from any form of discrimination that may emanate from the use of algorithms.\\n\\nResponsible Data-Led Innovation: There is a need to have an ethical framework in place to ensure that innovation is not to the detriment of customers; otherwise we risk losing confidence among the public and gains from financial sector innovation.\\n\\nCONSIDERATION 5: PARTNERSHIPS AND THIRD-PARTY RISK\\n\\nDigital banks’ dependency on third-party service providers and fintech/digital ecosystem partners requires a third-party management framework that mitigates inherent risks.\\n\\nBusiness continuity management: A holistic management process must be put in place that identifies potential impacts that threaten digital banks and provides a framework for building resilience and capability for an effective response that safeguards the interests of its key stakeholders, reputation, brand and value-creating activities.\\n\\nLevelling the playing field: Level the playing field between digital banks and third parties by ensuring that, through agreements entered, third parties are compelled to uphold banks’ regulatory compliance standards.\\n\\nInteroperability and API management: The financial sector must work in collaboration with other industry standards bodies domestically and globally to promote interoperability and API standardisation.',\n",
              " 'Digital Banking\\n\\n18\\n\\nCONSIDERATION 6: DIGITAL OPERATIONAL RISK\\n\\nDigital banks’ emphasis on digital channels increases digital operational and technological risks that may negatively affect customers in adverse/stress scenarios.\\n\\nBackup channels to serve customers in the event of stress/systems failure: Financial institutions should look into backup solutions. These systems not only can help companies bounce back from attacks; they can also minimise the effect of disasters and support business continuity.\\n\\nRegtech and compliance: Digital banks must consider deploying regtech tools, i.e., artificial intelligence (AI), to help monitor operational and technological risks and quickly flag risks.\\n\\n19\\n\\nDigital Banking\\n\\nContact Us For more information, or any queries regarding the contents of this paper, contact\\n\\nKagiso.Mothibi@fsca.co.za or Awelani.Rahulani@fsca.co.za\\n\\nAddress: 41 Matroosberg Rd, Riverwalk Office Park, Block B Ashlea Gardens, Pretoria, 0002 Phone: +27 12 428 8000 Call Centre: 0800 20 37 22 E-mail: info@fsca.co.za Website: www.fsca.co.za']"
            ]
          },
          "metadata": {},
          "execution_count": 11
        }
      ]
    },
    {
      "cell_type": "code",
      "source": [
        "prompt_text = \"\"\"You are an assistant tasked with summarizing tables and text. \\\n",
        "Give a concise summary of the table or text. Table or text chunk: {element} \"\"\"\n",
        "prompt = ChatPromptTemplate.from_template(prompt_text)\n",
        "\n",
        "# Summary chain\n",
        "model = ChatOpenAI(temperature=0, model=\"gpt-4\")\n",
        "summarize_chain = {\"element\": lambda x: x} | prompt | model | StrOutputParser()"
      ],
      "metadata": {
        "id": "bSEgXrPgqLZ-"
      },
      "execution_count": null,
      "outputs": []
    },
    {
      "cell_type": "code",
      "source": [
        "text_summaries = summarize_chain.batch(texts, {\"max_concurrenct\": 5})\n",
        "table_summaries = summarize_chain.batch(tables, {\"max_concurrency\": 5})"
      ],
      "metadata": {
        "id": "J_P5R4biqZUV"
      },
      "execution_count": null,
      "outputs": []
    },
    {
      "cell_type": "code",
      "source": [
        "text_summaries"
      ],
      "metadata": {
        "colab": {
          "base_uri": "https://localhost:8080/"
        },
        "id": "Sp9H6u7Hq6Qh",
        "outputId": "f3b61b79-0a36-46e1-e9df-439a2636f310"
      },
      "execution_count": null,
      "outputs": [
        {
          "output_type": "execute_result",
          "data": {
            "text/plain": [
              "['The Digital Banking Research Document from the Financial Sector Conduct Authority of South Africa discusses the digitization of traditional banking services. It covers the technologies powering digital banks, such as Big Data, AI, cloud computing, and more. The document identifies five types of digital banks and predicts a growth in digital banking usage. It also outlines best practices in the sector, such as digitizing customer journeys and offering a range of services. A survey conducted in South Africa revealed benefits of digital banking like financial inclusion and convenience, but also highlighted drawbacks like cybersecurity and data privacy concerns. The document suggests focusing on consumer education, data management, and cybersecurity to maximize benefits and minimize risks.',\n",
              " 'Digital banking refers to the digitization of traditional banking services, including marketing, customer onboarding, service channels, and various financial products. There are five types of digital banks: challenger banks, neobanks, beta banks, non-banks, and digitized incumbent banks. Challenger banks are fintechs with banking licenses, while neobanks partner with financial institutions to offer licensed services. Beta banks are subsidiaries of existing banks, targeting tech-savvy customers with innovative services. Non-banks operate independently of traditional banking licenses, and digitized incumbents are traditional banks undergoing digital transformation.',\n",
              " 'The text provides examples of digital banks around the world, including TymeBank, Monzo Bank Ltd, Nubank, Revolut, and WeBank. TymeBank operates without physical branches, using an Android app, an internet banking site, and retail partnerships. Monzo Bank Ltd is a UK-based online bank offering a full suite of mobile banking features. Nubank, the largest fintech bank in Latin America, offers a range of products including a digital account and an international credit card, both without fees. Revolut is a digital bank offering a variety of services via a mobile banking app. WeBank is a private Chinese neobank that operates without physical branches, granting loans through face recognition technology and big data credit ratings.',\n",
              " 'The text discusses various digital banking and financial service providers. Chime, an American fintech company, offers fee-free mobile banking services through The Bancorp Bank or Central National Bank. YONO, a platform by the State Bank of India, provides a variety of financial and other services, including travel bookings and online shopping. Hello bank!, owned by BNP Paribas, is a digital direct bank operating in several European countries. Monese, a UK-based non-bank digital financial services provider, offers instant current accounts in the UK and the Eurozone. Curve is a payment card that aggregates multiple payment cards through its mobile app, allowing users to make payments and withdrawals from a single card. These companies are increasing competition in the banking sector and defining its future.',\n",
              " 'Incumbent banks like FNB and Standard Bank are shifting towards digital banking to meet customer demands for simple, secure, and friction-free banking. This involves digitizing channels, products, and processes. Technologies such as Big Data and AI, Intelligent Automation/Robotics Process Automation, Cloud Computing, Open APIs, Digital Identity and Biometrics, and Chatbots/Robo Advisory are powering this transformation. These technologies enable customer-centric, easy-to-use, secure, low-cost, and always available financial services. They also facilitate personalization, rapid business process automation, rapid product deployment, and efficient customer service.',\n",
              " 'The use of digital banking is rapidly increasing worldwide, driven by fintech innovations and increased digital usage. A 2021 McKinsey report revealed that almost 90% of consumers in emerging and developed markets actively use digital banking, with many open to purchasing more banking services digitally. The global digital banking market was valued at $803.8 billion in 2019 and is projected to reach $1610 billion by 2027. The retail banking segment is the largest in the digital banking market, while the digital payment segment is the largest service segment. North America currently has the largest digital banking market value. As of 2021, 2 billion individuals worldwide actively used online banking services, a number expected to reach 2.5 billion by 2024. The Far East and China account for the largest share of active online banking users.',\n",
              " 'The adoption of digital channels by consumers in South Africa has increased, with a 4% rise in the use of banking apps and cellphone banking from 2018 to 2019. Retail stores have also become a popular channel for simple transactions, with a 4% increase in use. Digital transformation in banking involves rethinking the use of technology, people, and processes to meet changing customer expectations. This includes digitizing the customer experience, products and services, operations and technology, and the organization itself. Digital banks are enhancing customer experience by digitizing the customer journey across key touchpoints, leading to increased customer satisfaction and engagement, and reduced churn.',\n",
              " 'Digital banking involves digitizing products and services to meet customer needs, often by creating an ecosystem of services that go beyond financial offerings. This includes partnering with merchants and enterprises to offer financial solutions and acting as an intermediary between them and consumers. Digital banks are also digitizing their operations and technology, using intelligent automation and robotics process automation to streamline processes and improve speed, quality, and volumes. They are also moving to agile-based technology stacks for flexibility and responsiveness. Successful digital banks can reduce cost-to-serve by 20%, increase engagement, and improve turnaround times by automating their top 20-30 processes.',\n",
              " 'Digital banks are focusing on digitizing not only their customer journeys, processes, and products, but also their internal organizational culture. They are attracting critical digital skills and capabilities to drive rapid digital innovation in a competitive fintech environment. Leaders of these banks are promoting rapid innovation and experimentation across the organization. They are reorganizing their delivery teams based on agile and DevOps principles for more collaborative and creative work and rapid solution delivery. They are also seeking individuals with non-traditional backgrounds who possess skills like critical thinking, creative problem-solving, mental flexibility, agility, and data and digital literacy. In 2021, the FSCA conducted a survey on digital banking, covering themes like digitizing of the customer experience, digital products and services, operations and technology, and organizations.',\n",
              " \"The text discusses the digitization of banking, highlighting that many banks have digitized the customer journey to improve the customer experience, but there is still room for improvement. Banks are using digital marketing channels extensively to reach their customers, including social media, internet, emails, SMS, third-party channels, ATMs, and search-engine optimization. A small number of banks are using technology to promote remote banking and make the banking experience seamless. Most banks offer digital transaction channels like internet banking, mobile apps, USSD, digital self-help channels, and self-service terminals. While most banks have partially automated the customer journey, full automation is hindered by some customers' preference for traditional banking and others' inability to access digital channels due to their remote locations. However, banks offer a fully automated and personalized customer journey for tech-savvy customers. Digitizing customer-facing processes has resulted in benefits like reduced human errors, faster customer service, increased customer satisfaction, trust, and loyalty.\",\n",
              " 'The text discusses the digitization of banking products and services. A small number of banks are innovating and using technology to meet customer needs, while most are still figuring out how to do so. Banks are split on their use of AI and Big Data, with some heavily investing in these technologies for business operations, such as improving credit for clients and detecting fraud. A few banks are using API technology to partner with fintechs and enhance their offerings. Some banks are also focusing on innovation and incubation of products and services. Lastly, a few banks are leveraging customer data for personalization, but most are still figuring out how to do so.',\n",
              " 'The text discusses the digitization of banking operations and organizations. It reveals that while most banks have plans to digitize, only a few have made significant progress. Some banks have started automating manual processes using Robotic Process Automation (RPA) and Intelligent Automation (IA), but this is still in the early stages. All surveyed banks are using technology to reduce customer service costs. Investments in technology vary, with some banks partnering with tech giants to leverage top-tier technology. \\n\\nRegarding the digitization of organizations, only a few banks have created an innovative and responsive internal environment. All participants have invested heavily in talent for digital product development, with training programs and recruitment drives targeting modern tech skills. Most banks have invested in skills for digital banking, hiring new staff and upskilling existing ones. Few banks have an organizational structure that supports digital banking execution, and mindset and behavioral changes towards agile and collaborative digital product development are still in progress for most.',\n",
              " 'The digital banking market in South Africa is expanding due to the convenience and innovative features it offers. However, there is still significant room for improvement, as digital-only customers report low satisfaction levels. Concerns over online banking security, lack of digital literacy, and insufficient infrastructure in some areas are some of the challenges faced.',\n",
              " 'The text discusses the implications of digital banking for the financial sector, focusing on two main considerations. The first is digital literacy and consumer education, emphasizing the need for digital infrastructure in rural areas, consumer education about digital banking risks and benefits, and clear information about customer data usage. The second consideration is data protection and privacy, stressing the importance of transparency about data collection and usage, a clear liability framework for data security, and safeguards against data misuse.',\n",
              " 'The text discusses three key considerations for digital banking: cybersecurity and digital identity, data ethics, and partnerships and third-party risk. For cybersecurity, it suggests a multi-pronged strategy including multifactor authentication and cyber risk assessment, and the use of AI to monitor customer behavior. Regarding data ethics, it emphasizes the need for a data ethical framework to ensure fair treatment of customers, and to protect them from algorithmic bias and discrimination. Lastly, it highlights the need for a third-party management framework to mitigate risks associated with partnerships and third-party service providers, and suggests promoting interoperability and API standardisation.',\n",
              " 'The text discusses the digital operational risks associated with digital banking. It emphasizes the need for financial institutions to have backup channels to serve customers in case of system failures or stress scenarios. It also suggests the use of regtech tools, such as artificial intelligence, to monitor operational and technological risks and flag them quickly. The text provides contact information for further queries regarding the content.']"
            ]
          },
          "metadata": {},
          "execution_count": 25
        }
      ]
    },
    {
      "cell_type": "code",
      "source": [
        "table_summaries"
      ],
      "metadata": {
        "colab": {
          "base_uri": "https://localhost:8080/"
        },
        "id": "lBxMWoCJq_zP",
        "outputId": "8800fab7-cef0-4234-d06f-f567f5f75ae6"
      },
      "execution_count": null,
      "outputs": [
        {
          "output_type": "execute_result",
          "data": {
            "text/plain": [
              "['The text discusses various aspects of digital transformation in banking. It covers four main areas: Customer Experience, Digital Products, Operations & Technology, and Organisation. \\n\\nIn Customer Experience, it talks about digital marketing, automation, personalisation, digital channel offerings, remote banking, and the impact of digitization on customer experience. \\n\\nIn Digital Products, it discusses leveraging APIs for partnerships, innovating products and services using technology, personalizing customer value propositions using data, and investing in digitized operations. \\n\\nIn Operations & Technology, it highlights the use of technology to reduce costs and time, investment in technology stack for digitized and data-led propositions, investment in talent and skills for digital products, and organizational structure for digital banking execution. \\n\\nIn Organisation, it emphasizes the need for a mindset and behavioral change for agile, responsive, iterative, and collaborative digital product development and execution.',\n",
              " 'The digitization of banking offers several benefits including 24/7 access to accounts, simplified customer onboarding, personalized services, lower fees, rapid product development, and agile processes. However, it also presents drawbacks such as potential downtime, security risks, difficulty for those not tech-savvy, lack of personal relationships, low digital penetration in some areas, and risks associated with outsourcing digital strategies to third parties.']"
            ]
          },
          "metadata": {},
          "execution_count": 26
        }
      ]
    },
    {
      "cell_type": "code",
      "source": [
        "import io\n",
        "import os\n",
        "import base64\n",
        "import numpy as np\n",
        "from PIL import Image\n",
        "from langchain.chat_models import ChatOpenAI\n",
        "from langchain.schema.messages import HumanMessage, SystemMessage\n",
        "\n",
        "def encode_image(image_path):\n",
        "    with open(image_path, \"rb\") as image_file:\n",
        "        return base64.b64encode(image_file.read()).decode('utf-8')\n",
        "\n",
        "def image_summarize(img_base64,prompt):\n",
        "    ''' Image summary '''\n",
        "    chat = ChatOpenAI(model=\"gpt-4-vision-preview\",\n",
        "                      max_tokens=1024)\n",
        "\n",
        "    msg = chat.invoke(\n",
        "        [\n",
        "            HumanMessage(\n",
        "                content=[\n",
        "                    {\"type\": \"text\", \"text\":prompt},\n",
        "                    {\n",
        "                        \"type\": \"image_url\",\n",
        "                        \"image_url\": {\n",
        "                            \"url\": f\"data:image/jpeg;base64,{img_base64}\"\n",
        "                        },\n",
        "                    },\n",
        "                ]\n",
        "            )\n",
        "        ]\n",
        "    )\n",
        "    return msg.content\n",
        "\n",
        "# Store base64 encoded images\n",
        "img_base64_list = []\n",
        "\n",
        "# Store image summaries\n",
        "image_summaries = []\n",
        "\n",
        "# Prompt\n",
        "prompt = \"DESCRIBE the image in detail. Be specific about graphs, such as bar plots, pie charts, line graphs etc.\"\n",
        "\n",
        "# Read images, encode to base64 strings\n",
        "for img_file in sorted(os.listdir(path)):\n",
        "    if img_file.endswith('.jpg'):\n",
        "        img_path = os.path.join(path, img_file)\n",
        "        base64_image = encode_image(img_path)\n",
        "        img_base64_list.append(base64_image)\n",
        "        image_summaries.append(image_summarize(base64_image,prompt))"
      ],
      "metadata": {
        "colab": {
          "base_uri": "https://localhost:8080/"
        },
        "id": "f-Njn5e7mHcA",
        "outputId": "1950907b-a945-443f-8c4c-fde1c70a1f15"
      },
      "execution_count": null,
      "outputs": [
        {
          "output_type": "stream",
          "name": "stderr",
          "text": [
            "/usr/local/lib/python3.10/dist-packages/langchain_core/_api/deprecation.py:117: LangChainDeprecationWarning: The class `langchain_community.chat_models.openai.ChatOpenAI` was deprecated in langchain-community 0.0.10 and will be removed in 0.2.0. An updated version of the class exists in the langchain-openai package and should be used instead. To use it run `pip install -U langchain-openai` and import as `from langchain_openai import ChatOpenAI`.\n",
            "  warn_deprecated(\n"
          ]
        }
      ]
    },
    {
      "cell_type": "code",
      "source": [
        "len(img_base64_list)"
      ],
      "metadata": {
        "colab": {
          "base_uri": "https://localhost:8080/"
        },
        "id": "ODPLn5FP9XJj",
        "outputId": "e1811fac-1697-4b39-f6ac-206f325bcc70"
      },
      "execution_count": null,
      "outputs": [
        {
          "output_type": "execute_result",
          "data": {
            "text/plain": [
              "45"
            ]
          },
          "metadata": {},
          "execution_count": 13
        }
      ]
    },
    {
      "cell_type": "code",
      "source": [
        "len(image_summaries)"
      ],
      "metadata": {
        "colab": {
          "base_uri": "https://localhost:8080/"
        },
        "id": "mkPqn2WlmhvU",
        "outputId": "ffd04e5c-0e02-45ce-b0cb-8046d9e0d1d1"
      },
      "execution_count": null,
      "outputs": [
        {
          "output_type": "execute_result",
          "data": {
            "text/plain": [
              "45"
            ]
          },
          "metadata": {},
          "execution_count": 14
        }
      ]
    },
    {
      "cell_type": "code",
      "source": [
        "image_summaries"
      ],
      "metadata": {
        "colab": {
          "base_uri": "https://localhost:8080/"
        },
        "id": "oWBY0Ex2sTS6",
        "outputId": "e8260315-c77c-4d74-f424-9355d1bdacd5"
      },
      "execution_count": null,
      "outputs": [
        {
          "output_type": "execute_result",
          "data": {
            "text/plain": [
              "['The image you\\'ve provided appears to be a very simple slide or graphic with a dark background. In the center of the image, there is a URL written in light text that reads \"www.fsca.co.za\". The color of the text contrasts with the background, making it stand out. There are no other discernible features, such as graphs, pictures, or additional text. The bottom of the image has a thin, horizontal orange line that spans the width of the image, adding a small pop of color to the otherwise monochrome slide.',\n",
              " 'The image appears to be the cover of a report or document, with the title \"DIGITAL BANKING RESEARCH DOCUMENT\" prominently displayed in white and orange text on a dark background, towards the bottom left corner. The year \"2021\" is also visible in orange, indicating the document may pertain to that year.\\n\\nThe photograph occupying most of the cover features the hands of a person engaging in an online transaction. The person\\'s right hand is holding a blue credit card, with the card number, expiration date, and cardholder name intentionally blurred for privacy reasons. The left hand is typing on a laptop keyboard, suggesting the person is entering payment details for an online purchase or some form of digital banking activity.\\n\\nThe person is likely seated, as we can see what appears to be a part of their thigh clad in a brown fabric, probably clothing, with a blurred beige or light tan background that could be a couch or a soft chair, giving the impression of a casual, possibly home environment. The focus is on the hands and credit card, drawing attention to the action of a digital banking transaction, which corresponds with the title of the document. The overall tone of the image suggests a user-friendly and accessible approach to digital banking.',\n",
              " 'The image shows a logo with the acronym \"FSCA\" in large, bold, white letters, which stands for \"Financial Sector Conduct Authority.\" Above the acronym, there is a stylized icon that resembles a house or an upward-pointing arrow with a line underneath it, suggesting a roof or a protective shelter. The logo and text are set against a solid orange background. The font used for the acronym is sans-serif, which gives the design a modern and clean look. The full name of the organization is written in smaller white letters below the acronym. The overall design is simple and professional, conveying a sense of stability and authority.',\n",
              " 'The image displays a colorful schematic describing the Digital Customer Journey, which is typically a visualization of the process that a customer goes through when engaging with a company\\'s digital product or service.\\n\\nThe journey is represented as a non-linear path with multiple stages and possible loops back through earlier stages. The stages are marked by numbered circles and brief descriptions, and the flow is indicated by arrows and lines. The path is color-coded, with green, pink, and yellow sections indicating different parts of the journey.\\n\\nHere are the key components of the image:\\n\\n1. **Introduction/Discovery Phase (Green Path)**\\n   - Points marked \"Introduction\" and \"Discovery\" at the beginning of the journey.\\n   - A green line progresses from these points to a circle labeled \"1 Product development identification\" and then to a circle labeled \"2 Order (pre-sale)\" with a subtext \"User enrollment.\"\\n\\n2. **First Engagement (Pink Path)**\\n   - A pink dotted line starts from the \"Order (pre-sale)\" stage, looping upwards indicating trust building and reaching a point labeled \"3 Transaction (in sale).\"\\n   - It continues to \"4 Product/service (after-sale)\" and then loops up to \"5 Product termination\" with a dotted arrow pointing towards \"User Upgrade\" and then \"Engaged customer,\" forming an oval loop that represents ongoing engagement and user management (marked by \"6\").\\n\\n3. **Customer Care/Churn (Yellow Path)**\\n   - After the \"Product termination\" stage, a yellow dotted line leads downwards to the stages \"To be cared\" and \"7 Retain,\" and ultimately to \"8 Churn,\" which indicates the customer leaving the service.\\n\\n4. **Customer Re-engagement (Green Path)**\\n   - The journey does not end at churn; a green line indicates the possibility of re-engagement, looping back from \"Churn\" to earlier stages of the journey.\\n\\n5. **Key Points Along the Path**\\n   - Three vertical lines are marked with letters A, B, and C, indicating key milestones or checkpoints:\\n     - A: Customer enrollment\\n     - B: Repeat engagement of customers\\n     - C: Customer re-engage\\n\\nThe visual design uses a mix of solid and dotted lines, circles, and color-coding to differentiate between stages and suggest a dynamic rather than a strictly linear process. The diagram suggests that the customer journey is cyclical with multiple touchpoints where a business can engage with the customer to either advance the relationship or re-engage after potential churn.',\n",
              " 'The image appears to be a legend or key for a chart or graph, although the actual chart or graph is not visible within the image. The legend provides explanations for three types of elements that one might expect to find on the corresponding chart or graph:\\n\\n1. \"Touchpoints in customer lifecycle\" - This is represented by a pink dashed line. This would likely correspond to various moments or stages in the customer\\'s interaction with a service or product, from initial awareness to post-purchase.\\n\\n2. \"Touchpoints in product life cycle\" - This is depicted with a solid pink line. This would indicate different stages or events in the lifecycle of a product, from its development and launch to its withdrawal from the market.\\n\\n3. \"Key touch point\" - It is symbolized by a pink icon with an \"x\" in the center. This icon is likely used to highlight particularly important moments or interactions within the customer or product lifecycle on the chart or graph.\\n\\nWithout the actual chart or graph, we can only speculate about the specific data or touchpoints these elements represent. However, they are clearly intended to help someone understand the lifecycle stages of customers and products, as well as to identify crucial interaction points.',\n",
              " 'The image appears to be an infographic that illustrates various sectors of services that are presumably available to an individual, represented by a stylized character in the center. The character is a simplified, faceless figure with a light-colored shirt.\\n\\nAround this central figure, there are icons and text representing different service sectors:\\n\\n1. Financial Services (Payments, Lending, Savings, Insurance, Investments): Represented by an icon of a bank with columns.\\n2. eCommerce: Represented by the \\'@\\' symbol often associated with email or online activity.\\n3. Utilities: Represented by a circular gauge or meter icon, suggesting measurement of utility usage such as electricity, water, or gas.\\n4. Media & Entertainment: Represented by the front page of a newspaper with the word \"NEWS\" visible.\\n5. Food & Beverages: Represented by an icon of a delivery truck, suggesting the delivery of food and beverage items.\\n6. eHealth: Represented by a heart with a plus sign, typically symbolizing health care services.\\n7. Transport services: Represented by a stylized icon of a printer with a car, which might indicate services related to vehicle hire or transportation.\\n8. Communication: Represented by a smartphone with symbols indicating sound or connection, which suggests telecommunications services.\\n9. eEducation: Represented by a graduation cap, symbolizing educational services or online learning.\\n\\nThe infographic does not contain any graphs such as bar plots, pie charts, or line graphs. It is a simple representation of services with corresponding icons, arranged around the central character to demonstrate the variety of services that might be interconnected with or available to an individual in the modern digital age.',\n",
              " 'The image contains two sections, each with a different type of diagram.\\n\\nOn the left side, there is a line graph with the title \"Automation of Top 20 - 30 end-to-end processes that account for ~40 - 50% of costs and 80 - 90% of customer activity.\" The X-axis is labeled \"Number of processes\" and scales from 0 to 600 in increments of 100. The Y-axis is labeled \"Number of FTEs (\\'000)\" and scales from 0 to 110 in increments of 10. FTE stands for Full-Time Equivalent, a unit that indicates the workload of an employed person.\\n\\nThe graph has a steep curve that starts at 0,0, rises sharply to about 40 on the Y-axis (which corresponds to about 20 on the X-axis), and then gradually flattens out as it approaches 100 on the Y-axis (around 30 on the X-axis). The curve continues to flatten and extends toward the upper right end of the graph. This suggests that automating the top 20-30 processes significantly reduces the number of full-time employees needed.\\n\\nThere is a list of the \"Top ~30 processes\" in a box to the right of the line graph:\\n- Account opening & onboarding\\n- Home Loans\\n- Lending (personal, SME, corporate)\\n- Customer enquires\\n- Credit card issuance\\n- Complaints handlings\\n- Cash handling\\n- Annual portfolio review\\n\\nOn the right side of the image, there is a circular diagram representing a \"Tech stack architecture that enables rapid development of products and features.\" The diagram includes various icons representing different software and tools arranged in a circle, indicating their role in the development lifecycle. At the center, there are four overlapping circles with the labels \"CODE,\" \"BUILD,\" \"DEPLOY,\" and \"MONITOR,\" which represent the continuous integration and deployment pipeline.\\n\\nAround these central circles are icons for various development tools. Starting from the top clockwise, the icons and their labels include:\\n- Confluence\\n- JIRA\\n- git\\n- Jenkins\\n- Docker\\n- AWS (Amazon Web Services)\\n- CHEF\\n- ANSIBLE\\n- splunk\\n- Nagios\\n- JUnit\\n- Selenium\\n- Maven\\n- SonarQube\\n\\nThese icons indicate popular tools used for project management (Confluence, JIRA), version control (git), continuous integration (Jenkins), containerization (Docker), cloud services (AWS), configuration management (CHEF, ANSIBLE), monitoring (splunk, Nagios), testing (JUnit, Selenium), and build automation (Maven, SonarQube). The arrangement suggests these tools work together to support rapid software development and deployment.',\n",
              " \"The image is very blurry and lacks clear focus, making it difficult to discern specific details. However, it appears to be an interior scene with various out-of-focus objects. On the left side, there's a large, dark, blurry area that may be part of a piece of furniture or electronic equipment. Moving right, there seems to be a reflective surface with a white edge—possibly a monitor or television screen—with a blurred reflection visible on it. Further to the right, we can see what might be a corner of a room with a bit of greenery, possibly from a plant, in the midground and what looks like a book or some rectangular objects (potentially more electronic devices or decorative items) in the background. On the far right, there's a small, round object with a reflective surface that could be a part of some sort of decorative item or hardware.\\n\\nOverall, due to the blurriness of the image, it's challenging to provide a precise description, and the interpretation of the objects is speculative. There are no clear graphs, text, or distinguishable features that can be described in detail.\",\n",
              " 'The image is a diagram representing the roles and interactions within a Scrum team, which is a framework for agile software development. Central to the image is a circular shape labeled \"Scrum Team,\" inside of which are three figures representing different roles:\\n\\n1. The \"Scrum Master\" is at the top left inside the circle, depicted in blue.\\n2. The \"Product Owner\" is at the top right inside the circle, also in blue.\\n3. Below these two figures, there is a group of three smaller blue figures labeled \"Dev Team,\" indicating the development team members.\\n\\nAround the Scrum Team circle, there are dashed lines indicating interactions with other roles:\\n\\n1. At the top of the image, outside the circle, there is an orange figure labeled \"Business Owner,\" with two-way arrows going between the Business Owner and both the Scrum Master and Product Owner.\\n2. On the right side, outside the circle, there is a group of four gray figures labeled \"Stakeholders,\" with two-way arrows showing interactions with the Business Owner and the Product Owner.\\n3. On the left side, outside the circle, there are three green figures labeled \"SME\" which stands for Subject Matter Expert. Each of these figures has two-way arrows indicating interaction with the Scrum Master.\\n\\nThe two-way arrows suggest a continuous exchange of information or feedback between the roles. The diagram emphasizes the collaborative nature of the Scrum process and the importance of communication between the Scrum Team and external parties like the Business Owner, Stakeholders, and Subject Matter Experts.',\n",
              " 'This is a panoramic image showing a person\\'s hand interacting with a smartphone. The screen displays an interface for an online banking application. You can see two text fields at the top of the smartphone screen labeled \"Username\" and \"Password,\" underneath which there is a \"Login\" button, indicating where users would enter their credentials to access their bank account.\\n\\nBelow the login area, there are four icons arrayed horizontally, which seem to represent different functions or features of the app. From left to right, the first icon looks like a download arrow, possibly suggesting a feature to download statements or transactions. The second icon resembles a hand pointing upwards, which could indicate a feature related to making payments or transferring money. The third icon is a shopping bag, which might be for a feature associated with shopping or managing expenses. The fourth icon shows two arrows forming a circle, which typically represents a refresh or update action.\\n\\nThe overall color scheme of the application user interface is a gradient of blue tones, which gives it a professional and secure look, often associated with financial institutions. The hand holding the phone appears to be using a thumb to interact with the device, which is a common way of navigating through a smartphone.\\n\\nPlease note that no confidential information is visible on the screen, and the image is a generic representation of online banking activities.',\n",
              " \"I'm sorry, but the image provided is very blurry and lacks clear details. It appears to be a close-up of a digital device, possibly a tablet or smartphone, with a blue screen that has several out-of-focus white icons or symbols floating on it. The quality of the image is too poor to accurately describe the content or the context of the icons. The perspective is skewed, and there's a strong light reflection on the surface of the device, which further obscures the view. If there's another image or more context you can provide, I might be able to give a more accurate description.\",\n",
              " 'The image provided is not clear. It appears to be heavily distorted, with vertical and horizontal streaks of various colors, predominantly shades of blue, white, and black. There is no discernible content such as graphs, text, or recognizable figures due to the distortion. It looks like a digital or technical error may have caused this effect, rendering any original content indecipherable. If you intended to show a specific kind of image, please provide a different, clear image.',\n",
              " \"The image you've shared is quite blurry and doesn't provide a clear view of any specific details. It seems to capture the edge of an illuminated object, likely a screen, with a blue glow emanating from it. The object appears to be placed on a stand or table with a dark background. On the left side of the screen, there is a faint circular symbol with lines, which resembles a stylized letter 'E' or perhaps a logo, surrounded by a circular boundary with a dotted pattern.\\n\\nDue to the blurriness, it's challenging to make out precise details or provide a more specific description of the content displayed on the screen or the surrounding environment. The image may be part of a larger context that is not visible in the cropped version provided.\",\n",
              " 'The image is a composite, combining elements of technology with the human element to suggest a theme of digital transactions or online banking. Dominating the left side of the image is a close-up of a human hand, with focus on the thumb pressing down, potentially on a digital surface or screen, as indicated by the graphical interface overlaid on the image. The hand is wearing a blue shirt with a white stripe, indicating a dress shirt which may suggest a business or formal setting.\\n\\nThe graphical elements superimposed on the image include a variety of digital icons and graphics that are commonly associated with online interfaces, digital transactions, and security. In the center and right portion of the image, we can see an illustration of a credit or debit card, complete with abstract numbers, a chip illustration, and a mock expiration date labeled \"MONTH/YEAR\" followed by \"11/98\", which seems to be a placeholder rather than a real date.\\n\\nThe background and overlaying graphics create a sense of depth and digital connectivity with lines and dots that could be interpreted as a network or data points. The overall aesthetic is futuristic, with a blue and cyan color scheme that adds to the technological feel. There are no actual graphs such as bar plots, pie charts, or line graphs in the image; instead, the image uses various digital and abstract elements to convey a general theme of technology and finance.',\n",
              " 'The image depicts a close-up view of a person\\'s hand interacting with a smartphone. The focus is on the thumb, which seems to be touching or about to touch the screen of the phone. The phone\\'s screen displays various colorful app icons, though they are not clearly identifiable due to the overlaid graphical elements.\\n\\nOverlaying the image of the hand and smartphone are translucent, futuristic-looking digital graphics. These graphics include a variety of abstract shapes, lines, and dots that give the impression of a digital network or interface. There are also some numbers visible in the background, \"7876\" and \"5462,\" but their context or meaning is not clear.\\n\\nThere are no traditional graphs such as bar plots, pie charts, or line graphs visible in the image. Instead, the graphical elements are more artistic and abstract, contributing to a high-tech, digital atmosphere. The color scheme is a blend of blues, purples, and whites, which adds to the futuristic aesthetic. The overall image evokes themes of technology, connectivity, and the digital world.',\n",
              " 'The image you have provided appears to be completely black and does not contain any visible content to describe. If this is not intentional, there might be an issue with the image file. Please provide an image with visible content for a detailed description.',\n",
              " 'This image features a close-up of a person\\'s hand interacting with a futuristic digital interface. The hand, which appears on the right side of the image, is touching a transparent circular element with inscriptions that read \"SELL\" and \"BUY\", suggesting a theme of financial transactions or trading. The interface has a high-tech, digital aesthetic with various graphical elements that resemble a user interface of a trading platform or a financial software.\\n\\nThe graphical elements include a variety of icons, charts, and diagrams that are commonly associated with financial data and trading activities, such as:\\n\\n- Bar plots with different lengths, indicating some kind of measurement or data comparison.\\n- Line graphs, typically used to represent changes over time, which may include stock prices or market trends.\\n- Hexagons that could represent nodes or key points in a network or system.\\n- Geometric shapes and abstract forms that are part of the overall design of the interface, giving it a modern and technological feel.\\n\\nThe color scheme of the interface consists of dark and light blue hues, with white and lighter elements providing contrast, which contributes to the sleek and professional look. The background is out of focus and has a bokeh effect with blurred lights, which further emphasizes the central theme and supports the impression of an advanced digital environment.\\n\\nIt\\'s important to note that this image is a stylized representation and may not correspond to an actual software or specific financial tool.',\n",
              " 'The image is completely black, indicating that it may not have loaded properly or it could be an image that contains no visible content. There are no discernible shapes, text, or details to describe within this image. If this was not the intended result, you might consider providing another image or checking the image source.',\n",
              " \"The image features a close-up of a person's hand holding a smartwatch or a device with a touchscreen interface. The smartwatch screen displays various white icons and graphs against a dark background, suggesting a technology or data analytics theme. The icons include representations of a bar chart, pie chart, and what could be a dashboard or monitoring symbols. The graphs and icons are stylized and abstract, likely meant to symbolize data tracking or business analytics.\\n\\nAround the smartwatch interface, there are additional digital graphics and symbols that appear to float in a virtual space, enhancing the futuristic and high-tech feel of the image. These graphics include various lines, dots, arrows, and rectangular shapes arranged in a pattern that suggests a flow or progression of data. The overall aesthetic is sleek and modern.\\n\\nThe background of the image is blurred and indistinct, giving the impression that the focus is on the interaction between the person and the smartwatch device. The blurring effect suggests movement or a fast-paced environment, which could be symbolic of the quick access to information and real-time data analysis that modern technology provides. The color palette is dominated by dark blues and neutral tones, emphasizing the professional and sophisticated nature of the technology being represented.\",\n",
              " \"The image you've provided appears to be extremely zoomed in or cropped, resulting in an unclear picture. From what is visible, it seems to consist of vertical lines or bands in a range of shades from white to black, which could be due to compression artifacts, a close-up of a digital display, or some form of abstract design. Unfortunately, there is not enough context or clarity to provide a meaningful description of the content. If this is a technical issue or an error, providing a full-resolution image or additional context would be helpful for a more accurate description.\",\n",
              " \"The image shows a close-up of a person's hands holding a smartphone. The smartphone appears to be a modern device with a metallic frame and a black front. The individual's fingers are wrapped around the phone, suggesting they are either typing, swiping, or holding it steady to read the screen. The thumb is visible and resting on the side of the phone, indicating a secure grip.\\n\\nIn the foreground, slightly out of focus, is what appears to be an open book or journal with pages spread apart, resting on a surface. The pages look clean and unmarked, and the spine of the book suggests it may be a hardcover. The book is in the lower part of the image and is blurred, indicating a shallow depth of field used in the photograph, which places the emphasis on the hands and smartphone in the background.\\n\\nThe background beyond the hands and smartphone is out of focus and does not provide any distinguishable details. The colors in the background are neutral and muted, which helps keep the focus on the subject in the foreground. There are no graphs, pie charts, or line graphs in the image.\",\n",
              " \"The image appears to be a banner or a header with a focus on a person's hands and the objects they are holding. The person is dressed in business or formal attire, indicated by the dark suit sleeve and a wristwatch with a gold case and black strap on their left wrist. They are holding a credit card or a similar type of card in their right hand, and it looks like they are about to make a payment or perform a transaction. They are also holding a smartphone in their left hand, which suggests that they might be completing a mobile transaction or verifying something on their phone in relation to the card usage.\\n\\nIn the background, there's a partially visible notebook or planner and what seems like a pen, indicating a work or office setting. The background is blurred, keeping the viewer's attention on the hands and the objects being held. The image could be related to business, finance, technology, mobile banking, or commerce, given the context of the items shown. The lighting is warm, and the focus is sharp on the hands and the objects, with a shallow depth of field blurring the background.\",\n",
              " \"The image is a conceptual representation blending a photograph with digital graphics to illustrate modern technology, data analysis, and connectivity in a business context. It features a close-up of a person's hands typing on a laptop keyboard. The person appears to be wearing a dark, formal suit, suggesting a professional or business setting.\\n\\nOverlaying the photograph is a montage of semi-transparent, futuristic digital graphics that seem to emerge from the laptop screen, creating an illusion that the user is interacting with a high-tech, augmented reality interface. These graphics include a variety of symbols and data visualizations such as:\\n\\n- Pie charts\\n- Bar graphs\\n- Line graphs\\n- User icons indicating social connections or customer profiles\\n- A world map possibly representing global reach or connectivity\\n- Various abstract icons and symbols that could represent different aspects of digital operations or data analytics\\n\\nThe digital elements are presented in a cool, blue-toned color scheme, which contrasts with the warmer tones of the photograph underneath. This combination of imagery is often used to convey themes of big data, advanced analytics, cloud computing, or the Internet of Things (IoT) in a business environment.\",\n",
              " 'The image displays a logo and text on a dark background. The logo consists of a white, stylized roof-like shape with an upward-pointing arrow forming the peak of the roof. To the right of the logo, in capitalized letters, is the acronym \"FSCA,\" which stands for Financial Sector Conduct Authority, as indicated by the smaller text beneath the acronym. Below this, the words \"Contact Us\" are visible, although the rest of the text or information that would likely accompany this prompt appears to be cut off or not included in the visible area of the image. The overall design is clean, with a monochrome color scheme that gives it a professional appearance.',\n",
              " 'The image appears to be an abstract digital art piece consisting of vertical lines and bars in various shades of blue against a dark background. The pattern is reminiscent of visualizations like a sound equalizer or data bars, with some bars taller than others, creating a sort of rhythm or pattern across the image. However, there is no clear indication that this is a graph representing any specific data or measurements. The aesthetic is modern and could be associated with technology, music, or digital themes. The image is too low-resolution to provide further specific detail, but the overall impression is one of dynamic movement or fluctuation, as represented by the varying heights of the blue bars.',\n",
              " 'This image is a stylized representation of financial market data and trends. It appears to be intentionally blurred, likely to convey movement or the rapid change often associated with financial markets.\\n\\nOn the left side, you can see fragments of numerical data that resemble stock prices or index values. Numbers such as \"1.75\", \"24.30\", \"+0.45\", and \"-0.25\" suggest changes in stock values or financial indices, with plus and minus signs indicating gains and losses.\\n\\nTowards the right, the image features a superimposed, white line graph against a blue background, representing the fluctuation of market data over time. The graph has peaks and troughs, which could symbolize the volatility and variability typical of financial markets. The line graph is simple, with no axes or scale markings visible, and it is overlaid on what appears to be a blurred background of additional market data.\\n\\nThe overall image has a blue tone, which is a common color theme for corporate and financial visuals. The use of the blue color scheme and the abstract depiction of data can evoke a sense of professionalism and high-tech analysis. The motion blur along with the line graph likely aims to create a dynamic impression, emphasizing the fast-paced nature of financial trading and analysis.',\n",
              " \"The image you've provided appears to be a very narrow, vertical strip that is mostly black. Due to the extremely limited view, it's not possible to determine any specific content or context from this image. There are no discernible features, graphs, text, or objects that can be described. It might be a technical error, a corrupted image file, or an unintended capture of a camera lens cover or a dark environment. If you were expecting to see something specific, you might want to try uploading the image again or providing a different image.\",\n",
              " 'The image provided is extremely blurry and lacks any discernible content. It appears to be a vertical strip with varying shades of blue and black, but due to the low resolution and lack of clear features, no specific details can be made out. There are no visible graphs, text, or recognizable shapes that can be described accurately. If this image is intended to contain specific content, you may need to provide a clearer version for a detailed description.',\n",
              " 'The image depicts a blurred background overlaid with sharp graphics that represent financial data and trends. The background features a series of numbers suggesting stock prices or financial statistics, with positive and negative values such as \"+0.45\" and \"-0.25\". These numbers are blurred and appear to be on a digital screen with a blue tone, common for financial market displays.\\n\\nOverlaying this, in sharp focus, is a stylized representation of a line graph with white lines on the same blue background. The graph consists of a series of peaks and valleys, indicative of the fluctuations typical in a financial chart showing stock prices, market indices, or other economic indicators over time. The lines do not have any labels or axes indicating specific values, times, or dates, so it\\'s a generic representation rather than real data.\\n\\nThe image conveys a theme of financial analysis, market tracking, or economic reporting, suggesting a dynamic and active financial environment. The use of focus and blur implies that the sharp lines of the graph are the primary subject, perhaps signifying clarity of insight or analysis against the backdrop of complex and voluminous market data.',\n",
              " 'The image shows a logo consisting of the words \"TymeBank\" in a sans-serif, bold typeface. The word \"Tyme\" is on top and \"Bank\" is directly below it. To the left of the text, there is a graphical element composed of four horizontal bars that appear to be stacked on top of each other with a slight 3D effect, suggesting layers or steps. The bars are shaded with a gradient that goes from a darker yellow or gold color at the top bar to a lighter yellow at the bottom bar. The design gives the impression of growth or building, which could be symbolic of financial growth or progress, in line with the branding of a bank. The overall logo has a modern and professional appearance.',\n",
              " 'The image shows a stylized logo consisting of the word \"monzo\" in lowercase letters. The \"M\" in the logo is particularly distinctive; it\\'s designed using three-dimensional geometric shapes that form the letter. The shapes are colored in different shades: teal, blue, and red, creating a visual effect that the \"M\" is a three-dimensional object with depth. The rest of the letters are in plain black and follow a simple, clean sans-serif font. The logo is modern and suggests a sense of innovation or technology, which is fitting for a digital or fintech company.',\n",
              " 'The image displays a logo consisting of the stylized text \"nybank\" in lowercase letters. The \"ny\" portion is significantly larger than the \"bank\" part. The \"ny\" is in a bold, rounded font, while \"bank\" is in a thinner, more standard font. The color of the entire text is purple, and there appears to be a graphical element that connects the \"y\" to the \"b,\" suggesting a continuous and interconnected relationship between the two parts of the word. The logo is set against a plain white background. The design is simple and modern, with a focus on readability and a clear color scheme.',\n",
              " 'The image shows a logo consisting of the word \"Revolut\" written in a stylized font. The text is in a gradient of blue colors, giving it a dynamic and modern appearance. The font used for the logo is bold and sans-serif, with a distinctive cut in the letter \\'o\\' that suggests a sense of innovation or a break from tradition. The letters are capitalized, and the overall design is simple yet impactful, which is often a characteristic of logos designed for tech or finance companies. There are no graphs, pie charts, line graphs, or any other visual data representations in the image.',\n",
              " 'The image shows a logo consisting of text elements. The upper part of the logo features the English words \"WeBank\" in a bold sans-serif font. The color of \"We\" is red, and \"Bank\" is in dark blue. Below the English text, there is a line of Chinese characters \"微众银行\" in a smaller font, also in dark blue. The Chinese characters translate to \"WeBank\" as well, which is the name of the company represented by the logo. There are no graphs, pie charts, or line graphs in this image. The logo is simple, with no additional graphic elements other than the text.',\n",
              " \"The image depicts an individual in a business suit interacting with a futuristic digital interface. The person is slightly out of focus, and we can't see their face, but we can see their hands in a gesturing position as if they are manipulating or navigating the interface.\\n\\nThis interface is a composite of various graphical elements that suggest a high-tech, data-driven environment. There are several icons encircling the central part of the interface that are commonly associated with different business and technology concepts:\\n\\n- A cloud with a lock, representing cloud security.\\n- A bar chart, indicating data analysis or reporting.\\n- A WiFi symbol, denoting connectivity.\\n- A house with a security padlock, possibly implying smart home security.\\n- A circular chart with a part shaded, which could be a pie chart or a loading symbol.\\n- A hand holding a coin, suggesting financial transactions or investments.\\n- A filmstrip, which could represent media or video content.\\n- A location pin, symbolizing GPS or location services.\\n- A dollar sign, representing money or financial services.\\n- A smaller bar chart, again indicating some form of data analysis.\\n\\nOn the left and right sides of the interface, there are additional hexagonal and circular shapes that contain gears, more location pins, and other abstract elements, further emphasizing the technology theme.\\n\\nThe background is a gradient of dark blue to light blue, overlaid with a world map made of dots, suggesting a global reach or international scope. There's also a pattern made up of hexagons that fades into the background, adding to the digital, networked aesthetic.\\n\\nOverall, the image conveys a sense of advanced technology, data management, global connectivity, and digital security within a corporate or business context. It's a stylized representation often used in marketing materials to showcase concepts related to digital transformation, cybersecurity, and business intelligence.\",\n",
              " 'The image displays a word \"chime\" in lowercase letters. The font is simple, sans-serif, and modern. The color of the text is a bright, grassy green. There is no additional imagery or text surrounding the word, and the background is plain white. The logo is straightforward and unembellished, suggesting a clean and modern brand identity.',\n",
              " 'The image shows a logo with a gradient background that fades from purple to pink. The logo is for \"YONO SBI\". The text \"YONO\" is in white and capitalized, whereas \"SBI\" is also in white but with a smaller font size, placed under \"YONO\". There is a blue dot or circle above the \"i\" in \"SBI\". The overall logo is contained within a rounded square shape, which is commonly used for app icons on smartphones and tablets. The image is slightly blurry, making the details a bit less sharp.',\n",
              " 'The image displays a logo consisting of a stylized text \"Hello bank!\" on a rectangular aqua-blue background. The text \"Hello bank!\" is written in white lowercase letters, with a friendly and casual font, which gives an approachable feel to the design. The exclamation point at the end of \"Hello bank!\" adds an enthusiastic and welcoming tone. Below the main text, to the right, is the phrase \"by BNP Paribas\" in smaller white capital letters, denoting the affiliation with BNP Paribas, which is a multinational banking group. The overall design is modern and suggests a brand identity associated with simplicity and vibrancy.',\n",
              " 'The image shows a logo consisting of the word \"monese\" in lowercase letters, with a graphic element above it. The graphic element is composed of two overlapping, stylized letter \"M\"s that form an abstract, symmetrical shape. The right leg of each \"M\" merges with the other, creating a continuous loop. The color scheme includes two colors: a bright green for the graphic element and a deep blue for the text. The font used for the text is sans-serif, modern, and clean, with even spacing between the letters. The overall design is simple, contemporary, and likely represents a company or brand identity.',\n",
              " 'The image displays the word \"CURVE\" in capital letters. The typography is stylized in such a way that the letter \"C\" is designed to look like a circular object that is partially unwound or unraveling at the top, giving it a dynamic and three-dimensional appearance. The rest of the letters are in a bold, sans-serif font. The logo is monochromatic, using only black and white colors, with the \"C\" having a pattern that gives the impression of a textured surface, possibly resembling a tire tread or a similar patterned surface. The overall effect is modern and eye-catching, suggesting movement or an association with dynamic curves.',\n",
              " 'The image displays a logo consisting of graphical elements and text. The main graphical element is a stylized representation of a tree with branches spreading outward, set against a circular backdrop that suggests the sun. The colors of the graphic are shades of orange, yellow, and black, evoking the look of a sunset or sunrise. To the right of the graphic is the acronym \"FNB\" in bold, capital letters, indicating the name or abbreviation of the organization the logo represents. The font is simple and modern. The background of the image is white, which contrasts with the logo, making it stand out prominently.',\n",
              " 'The image shows a logo consisting of a shield-like shape with a design that seems to represent a stylized letter \"F\" in the center. The shield has a thick border, and the overall color scheme is two-toned, with the shield border and the background of the letter being white, and the rest of the shield and the stylized \"F\" being a bright blue. The design is simple yet bold, and it uses negative space effectively to create the impression of the letter. There are no graphs, pie charts, bar plots, or line graphs in this image. The logo is set against a plain, light background, enhancing its visibility.',\n",
              " \"The image shows a bar chart comparing the sizes of different aspects of the digital banking market in two different years: 2019 and 2027. There are four pairs of horizontal bars, each pair representing a different category within the digital banking market. Each category has two bars – one for the year 2019 (colored in blue), and one for the year 2027 (colored in green). The length of each bar represents the size of the market in billions.\\n\\nFrom top to bottom, the categories and their corresponding market sizes are as follows:\\n\\n1. Digital Banking Market Size: In 2019, the market size was 803 billion, and it's projected to grow to 1,610 billion by 2027.\\n2. Digital Banking Retail Segment: In 2019, the market size was 574 billion, and it's projected to grow to 1,320 billion by 2027.\\n3. Digital Banking Payment Services: In 2019, the market size was 195 billion, and it's projected to grow to 403 billion by 2027.\\n4. Digital Banking in North America: In 2019, the market size was 376 billion, and it's projected to grow to 721 billion by 2027.\\n\\nThe chart indicates significant growth across all aspects of the digital banking market, with the total market size and the retail segment nearly doubling, while the payment services and North American market are also showing substantial increases.\",\n",
              " 'The image displays a donut chart, which is a variation of a pie chart with a central hole. The chart is divided into six differently colored segments, each representing a different geographic region, with corresponding percentages indicating the proportion of each segment within the whole.\\n\\nThe segments and their respective percentages are as follows:\\n\\n1. Far East & China - 41% (the largest segment), colored in a light blue tone.\\n2. Europe - 19%, colored in green.\\n3. North America - 12%, colored in red.\\n4. Oceania & Central Asia - 11%, colored in dark blue.\\n5. Middle East & North Africa - 7%, colored in orange.\\n6. Latin America - 6%, colored in purple.\\n7. Sub-Saharan Africa - 3%, colored in light green (the smallest segment).\\n\\nThe chart is used to visualize the distribution of a certain quantity across these regions. The specific quantity being represented, however, is not provided in the image. The percentages add up to 99%, which may suggest either a rounding error or that the remaining 1% is attributed to regions not specified in the chart.',\n",
              " 'The image shows a horizontal bar graph with data for two years, represented by two different colors. The blue color represents data for the year 2018, and the red color represents data for the year 2019. The graph is comparing the percentages of usage across different banking channels for these two years.\\n\\nFrom top to bottom, the categories and their corresponding percentages for each year are as follows:\\n\\n1. Retail Store: \\n   - 2018: 84%\\n   - 2019: 81%\\n\\n2. Bank Branch:\\n   - 2018: 34%\\n   - 2019: 37%\\n\\n3. Cell phone banking:\\n   - 2018: 19%\\n   - 2019: 23%\\n\\n4. Banking app:\\n   - 2018: 8%\\n   - 2019: 12%\\n\\n5. Internet banking:\\n   - 2018: 9%\\n   - 2019: 7%\\n\\nThe graph indicates that Retail Store banking has the highest percentage of usage among the options listed, although there is a slight decrease from 2018 to 2019. On the other hand, usage of Bank Branches has increased slightly from 2018 to 2019. Cell phone banking and Banking app usage have both increased, while Internet banking has seen a decrease in usage percentage from 2018 to 2019.\\n\\nThe graph is labeled clearly, with the percentages indicated at the end of each bar. The legend in the upper right corner identifies the colors associated with each year.']"
            ]
          },
          "metadata": {},
          "execution_count": 35
        }
      ]
    },
    {
      "cell_type": "code",
      "source": [
        "from IPython.display import display, HTML\n",
        "\n",
        "def plt_img_base64(img_base64):\n",
        "\n",
        "    image_html = f'<img src=\"data:image/jpeg;base64,{img_base64}\" />'\n",
        "    display(HTML(image_html))"
      ],
      "metadata": {
        "id": "4zCJE4f3mnwo"
      },
      "execution_count": null,
      "outputs": []
    },
    {
      "cell_type": "code",
      "source": [
        "plt_img_base64(img_base64_list[3])"
      ],
      "metadata": {
        "colab": {
          "base_uri": "https://localhost:8080/",
          "height": 491
        },
        "id": "AqKX-Ke2nLow",
        "outputId": "79404b35-be83-4e62-e2fe-e62486fafe26"
      },
      "execution_count": null,
      "outputs": [
        {
          "output_type": "display_data",
          "data": {
            "text/plain": [
              "<IPython.core.display.HTML object>"
            ],
            "text/html": [
              "<img src=\"data:image/jpeg;base64,/9j/4AAQSkZJRgABAQAAAQABAAD/2wBDAAgGBgcGBQgHBwcJCQgKDBQNDAsLDBkSEw8UHRofHh0aHBwgJC4nICIsIxwcKDcpLDAxNDQ0Hyc5PTgyPC4zNDL/2wBDAQkJCQwLDBgNDRgyIRwhMjIyMjIyMjIyMjIyMjIyMjIyMjIyMjIyMjIyMjIyMjIyMjIyMjIyMjIyMjIyMjIyMjL/wAARCAHWA0MDASIAAhEBAxEB/8QAHwAAAQUBAQEBAQEAAAAAAAAAAAECAwQFBgcICQoL/8QAtRAAAgEDAwIEAwUFBAQAAAF9AQIDAAQRBRIhMUEGE1FhByJxFDKBkaEII0KxwRVS0fAkM2JyggkKFhcYGRolJicoKSo0NTY3ODk6Q0RFRkdISUpTVFVWV1hZWmNkZWZnaGlqc3R1dnd4eXqDhIWGh4iJipKTlJWWl5iZmqKjpKWmp6ipqrKztLW2t7i5usLDxMXGx8jJytLT1NXW19jZ2uHi4+Tl5ufo6erx8vP09fb3+Pn6/8QAHwEAAwEBAQEBAQEBAQAAAAAAAAECAwQFBgcICQoL/8QAtREAAgECBAQDBAcFBAQAAQJ3AAECAxEEBSExBhJBUQdhcRMiMoEIFEKRobHBCSMzUvAVYnLRChYkNOEl8RcYGRomJygpKjU2Nzg5OkNERUZHSElKU1RVVldYWVpjZGVmZ2hpanN0dXZ3eHl6goOEhYaHiImKkpOUlZaXmJmaoqOkpaanqKmqsrO0tba3uLm6wsPExcbHyMnK0tPU1dbX2Nna4uPk5ebn6Onq8vP09fb3+Pn6/9oADAMBAAIRAxEAPwD3+iiigAooooAK5TxB8RNA8N62ukXz3DXrQifZFFkBCSM5OB2rq68S0bx34e0z4n+Nda1i+MTBo7K1QQuzMsYw2MA4yQO4z6UAeoN4u0oeHrLXI3llsbxkWFljIYljgZBxitzIrw/RtOvV1nwJoE37uUTXWuXEQf5VRmLRj0JyRxzjnmuXla212LRtMmnuP+Eqv/EDrqAzwIg5Owuc7gB5ZAywH4UAfQ93rljYy3i3UjRraW63Mz7CQqEsO3JPyntVuzvIb6ygu4GJhnRZIyRjIIyOK+ffGl/aavpPia8uXJtbjxLb2EUhUkRJCgDHHJHBPQc56VH8UNX05bp9F0mBYxY2kMMAkiCriQqyvDt+63PJIXjsaAPd9Q8SadpuvaXotzI4vdT3/ZkVCQdgy2T0HFa1eY6BC+ofGO4LymZdA0eGyZnJJ858EnnrwDzx1r06gAooooAKKKKACiiigAooooAKKKKACiiigAooooAKKKKACiiigAoqK6OLSYgkfI3T6UsHNvH/ALo/lQBJRRRQAUUUUAFFFFABRRRQAUUUUAFFFFABRRRQAUUUUAFFFFABRRRQAUUUUAFFFFABRRRQAUUUUAFFFFABRRRQAUUUUAFFFFABRRRQAUUUUAFFFFABRRRQAUUVBIT9thGTjY/H/fNAE9FFFABRRRQAUUUUAFFFFABRRRQAUUUUAFFFFABRRRQAUUUUAFFFFABRRRQAUUUUAFFFFABRRRQAUUUUAFFFFABWBquv+G9Hvktr6e3W9Yb1gjhMsuP72xAWx74rfryLS7zStP8Aid4uv/GEkVvPvSPTvtyZQ24ByYiwPXjIU9+lAHpNvfaTr2l/arO8hlt7lWhWeJgDzwQCejA9jyD2rmdA+HOm6BrUerz63qOpS2ausP2+ZZBBu6nJHBwcZGOK53V7+yste8G6dZyT6No000upylEaAPjJWMptXhjzgjPPTvWdquuXeq+Crq8j1qbT5tR1iae2V3eISwRnYI1kYqqZCbsN6n5aAPXL3UdH0/TZLu9urOCyGWaSR1CZ/qan3WMqwykwMJQBExx8w7AV87XgOr+C9Kt76+1m2t73XjDKbq7MqLCFG4hioVk44xxnPWtjxTNfR6prNi2saxYy6PbQRaDa28kgbUGwPnOB85yMHaBweTxQB7szQQMSzRxs3JJIBOO9OE0Rk8sSoXxnaGGceuK8Z1+41rW9fit7m+1DTk0jw013qItJmTNwyfcPJGev948VFpNtrum+NPDEa6rqt/fDRpb3ULead2jzs/doRnru45J9cCgD2tZonkaNZEZ1+8oYEj6ikWeJ3KJKjOOSoYEjtXg3gfXPED+KE1e9muhFHbzz6pBLdmRIwASBszmMqRgBtx9BXdfCbTr6Tw3F4i1S+1Ca91MPIYLiUtHChkYqFByRxjv0xxQB6HRRRQAUUUUAFFFFABRRRQAUUUUAFFFFABRRRQAUUUUARXX/AB6Tf9c2/lSwf8e8f+4P5Ul1/wAek3/XNv5UsH/HvF/uD+VAElFFFABRRRQAUUUUAFFFFABRRRQAUUUUAFFFFABRRRQAUUUUAFFFFABRRRQAUUUUAFFFFABRSEhQSSAB1JpA6EgBlJIyOeopXS0Cw6iiimAUUUUAFFFFABRRRQAUUUUAFFFFABRSMyopZiAoGST2oVg6hlIKkZBHeldXsAtFFFMAqvJ/x/Qf7j/+y1YqvJ/x/Qf7j/8AstAFiiiigAooooAKKKKACiiigAooooAKKKKACiiigAooooAKKKKACiiigAooooAKKKKACiiigAooooAKKKKACiiigArN1LQ9E1BvtOqaXp9y0an97dW6OVX6sOBWlXBfEfxTbxfDjVJ9IvkmuJ2FjC1rMrMJWYKQME8jJ4HNAHXT6TpGpC3muNPsboRKDA8kKPsHbaSOB9KZL4d0Oe0itJtG0+S2iJaOF7VCiE9SFxgdTXktx4k8Sy6Tr2qab4gi0vTvDUhshZSRxyNcvCADlmGV3YwPvHmt638c382p3epXFx9k0zT/AA9DeXFpJsy1xKCyjcQMEAYx3yOKAO9fw/ostpFaSaRYPbQtuiha2Qoh9QuMA/SpJ9G0u6u4ru402zmuYuI5pIFZ0+jEZFeW6Xq/jfWW8K6bFrn2a7vdNn1C9ne1RtqMwEY27eozj+EGszWfGPjGJfEl9p2s5stIvrawiTyIy1zLlUkA+U4yST1JHTFAHs76Xp8ktzI9jbNJcp5c7NCpMqdNrHHzD2NOTT7KO8+2JZ263XliLzxEA+wfw7sZx7dK8e8YfELxEvi3UdM0g31tHpKJ5pt7RJ1mkKhvmJGY17Z5+laGt/EPVPD3ibXrK4Mkzz2dq+kWYVQyyyfKQPly2GOTw3TpQB6VFoWkQtcNFpVjGbkETlLdB5oPUNx82ferlvbwWlvHb20McMMY2pHGoVVHoAOAKp6HDqFvodlFqt0t1qCwqLiZV2h3xyQMDHPsK0KACiiigAooooAKKKKACiiigAooooAKKKKACiiigAooooAiuv8Aj0m/65t/Klg/494/9wfypt1/x5z/APXNv5U6D/j3i/3B/KgCSiiigAooooAKKKKACiiigAooooAKKKKACiiigAooooAKKKKACiiigAoooJAGScCgApskiQxPJIwVEBZmY4AAqtcapZWsAmluoVQttB8xRk+g561z3jjVjBoF/aQx3AlaBW85V+QKXCkZ9cGg0o0/a1I0+7S+8yr/AOKVtHcGCw06e5IbAfeAGPtgNmrWifEmx1K8S0u7WSzkc7Q7yLsz7k4xXFeCrC3aW91e5hNxDpyBhbRx73dmyAQMgHGO9Ymr2cmmazc2zTK8kMh/eJxz1z7Hn8KZ9UsswU5SoRWqW93v/TX3n0Begmxn25z5Zxj6VmxSlvIaKVdy2pyS3CnjrVXw5darf6LpdxL5TwyQjzmkkO8nJGcbecjHcVpR20sT3WbS38or+6CyHLexG35fwzXnYrCVKtVTg7afk7qx81dUXKnLdN/5FNb+5+zsnnbpfMCl8DC8Zp32u82RJ5wBeYJvGDwfwpr3X2XS3nuNFlLeaFMNsDIx4+9khTirguNNSS2gkMUMsmJYo5WCsT7AnJNcay/F2s6vTu+/9a7lOtT/AJfyH6nNNEkAhk2M8oQnGeMGqBurxLeWY3ORBL5ZG0fNz+lbUkUcu3zEDbTuXPY0w2kBjdDEu123MMdT61vicFXq1JThUaTWmrWttNvPUinVhGKTRl3d1cBLiZLsReW21YiBk9OabLeXayTyCf5ImQbMDnPvWrJZW0rFnhVieuR1pTaW7BwYlIcgtx1x0rGeX4uUm1Ut85b+992rWi00LVamkvd/BeRl3N5cF7tluRAIeFjIGW4680r3VxJJKBdCARRggMB85xnNaUllbSsWeFCSME46/Wq11pf2iXcsioMbcbO31qK2DxkbyjJyu9lJrv5q1rrbsOFWk7Jq3y9Ck9/dO6Isnl4iDFjj5ie/Snie9mkkVbkR7IQ5woOT+VaRsrdlUNEp2rtB74p4toVZiI1BZdp46j0q45fim/fqu3q108v6YnWp20j+BlQ31yipJI5lEsLOEAAwR+FJBe3bRPI0oYGJmHTKn8q1ltYF2YiX5FKrx0B6imrZ26BgsSgMMEdsU1gMWmv3ui83vZfrf06C9tT190x5p7sWsfmXO9biFjjaBjAzWtp6sunwbn3HYCDjtjpT2tIGVFaJSEBVRjoDxUqKqIEUAKowAOwrbCYGpRrOpOV9LLVvtffzu/mTUqxlHlSsLRRRXqHOFV5P+P6D/cf/ANlqxVeT/j+g/wBx/wD2WgCxRRRQAUUUUAFFFFABRRRQAUUUUAFFFFABRRRQAUUUUAFFFFABRRRQAUUUUAFFFFABRRRQAUUUUAFFFFABRRRQAVysPw78NQeJDr0en4v/ADDL5nnSffPfG7H4YrqqKAOVv/h14Z1LxCNcutP33u4OX86QZYdDgNj9KdrXw+8N6/qVxqGo2HnXNxCIJG86RcqOnCsBXUUUAZ9votja6it9FDtuFtEs1bcxxEpJC4zjqevX3rOt/BOh21gtlHaYgF+NR2+Y/wDrwc7s7s9QOOntXQ0UAc3rPgXw/r2swarf2Xm3kO3a/myL905HAYD9KxYfB+oat8T4/F2ri2ihsLc29lbxyO7E5b5ydqY4Y8fN16131FABRRRQAUUUUAFFFFABRRRQAUUUUAFFFFABRRRQAUUUUAFFFFAEV1/x6Tf9c2/lSwf8e8X+4P5Ul1/x6Tf9c2/lSwf8e8f+4P5UASUUUUAFFFFABRRRQAUUUUAFFFFAHLXV7qOm6rfzz3xlsrSEXBgWFQWViwC568betXLTxMl1LDG1lPEZoHnTf/dXH881av8ARYb/AO3b3cfa4FgbaRwASeOOvzVDcaBHLFaiKeWKa2hMCyKRkoRgg5BHb0oAor40gkWx2WNyTdqWUccYbbj3PGaPB9/c3v8AaYuI3XbdvtLLjAz93p1FWZvC9s9nbWUc0yWsKhfLDD5sNuzkqTnPvV/S9Ki0sXIjd2+0TtM24g4LHPHAoAv0UUUAFFZ82sWsTXMce+aa32+ZFGuD8xwMFsD9aa51W4WyeIRWw35uUkwX29guNw+vNAGizKilmYKoGSScYFZk+uQrp/2yzgmv1MnlgWoEmT68dvenxaJYxapLqQRjdSgqWLHAB6gD8K0AAAAOgoAoZ1Ke4tpY/LhtioaVGPz9OVxt/rUcWjZm1E3lx9ohvMDy9mzYnPy5B569a1KKAKtjp1rp1slvaReXEhJVdxOPzNN1WwTVNKurGQ4WeMpn0z0NXKKBxk4tSW6PE7vwn4i8O3m+0DTsOBLBCz5H0K4qbRPAOq6vcCW9/wBFh3bpPNjYM/POBgfzr2ainc9p57XcLJJS7jIYUt4I4YxtjjUKoznAHAp9FFI8Ru+rCmSRJKFDrkKwYc9x0p9FAHPoJvC1hd3FzNLe2YkDpHDCA0KsfmzzyBnJJPSt9WDKGByCMilqlpgvhaMNRMbTiaQKY+hj3nZ+O3bn3oAu0UUUAFFFFABRRRQAUUUUAFFFFABRRRQAVXk/4/oP9x//AGWrFV5P+P6D/cf/ANloAsUUUUAFFFFABRRRQAUUUUAFFFFABRRRQAUUUUAFFFFABRRRQAUUUUAFFFFABRRRQAUUUUAFFFFABRRRQAUUUUAFFFFABRRRQAUUUUAFFFFABRRRQAUUUUAFFFFABRRRQAUUUUAFFFFABRRRQAUUUUAFFFFAEV1/x6Tf9c2/lSwf8e8f+4P5Ul1/x6Tf9c2/lSwf8e8f+4P5UASUUUUAFFFFABRRRQAUUUUAFFFFABRRRQAUVT1S/Gm6fJclPMZcBUzjcxOAM445qN7K5uNRtrxrySGKJcm2jJAZiOdxzggZ9O1ACyapG9vO9nG91LFJ5RjQAHf6fMQMc+tNhg1Ce5gnuZzDGsYLW8YXBk5zkkE4+jVdgt4baPy4IY4kznaihR+lSUAVLPTbSweZraLy2mcvIdxO5ick8n3q3RRQAUUUyWVIULyNhR3xSlJRV27IEr6IfRVaW6byg1uocnGM8cVFHJP8xkYZPZQRj9aj2l5KKTfn0K5dLstyzRwgGRsA+1MmuUhTcQzc4wBVTyI/MLlAzE5yQDUlJe0d72XbqHuqx5x8QPFGoJqn9mW7iG3ESs42KWYnnqc1X8C+JtUGrxaW0qSQTK20MgG1gM5yMf1ruNc8N2HiCNFuwySJwsqBdwHpkg8UzQvC+n+H97W26SVhtMsgXdj2IANaW92zZ7ccfhFgvZcnvW7de9zbmmuDEPJ2B++7pSW81yN32gxn02Ciis/Ze/z3fpfT7jxObS1hkk995h8tYSmeN2c1Ye4Ijyqln9KiopRo8t/eevnt6A5XtoSwXXmsVZGQj1x/Q1laNd6dBBO8Ny8i3NxJcZZT/EenQU7Vby6soIPsVss8886xKrtgKD95vfAycZFW0hijiSJI1EaKFVQBgAdBilKFVRShJX81f8mhpxvqi+pDKGHQjIpaoSKJIvLb7vp6UWyfZmYh5GB7M2QPpVOVRSS5brvf9BWja9y/RVKS5ulclIkdOwzg/nmrMkyQxh5DtXOOmaFWjrzXVu+i+/YOV6W6klFIrBhkdKWtU77EhRRRQAUUUUAFFFFABUEn/H9B/uP/AOy1PVeT/j+g/wBx/wD2WgCxRRRQAUUUUAFFFFABRRRQAUUUUAFFFFABRRRQAUUUUAFFFFABRRRQAUUUUAFFFFABRRRQAUUUUAFFFFABRRRQAUUUUAFFFFABRRRQAUUUUAFFFFABRRRQAUUUUAFFFFABRRRQAUUUUAFFFFABRRRQAUUUUAQ3X/HnP/1zb+VOg/494v8AcH8qS6/49Jv+ubfypYP+PeP/AHB/KgCSiiigAooooAKKKKACiiigAooqteX9rYIjXU6x722oDyXPoAOSfpQBJcXENpA89xKkUSDLO7AAfiaqLe3FzdWhtIFksJULvck4x6AKcHn1pGtpdQe7hv4YzZllWKMqG3gcktkkcnjGB0q/HGkUaxxoqIowqqMAD2FAFPTNKg0qKRIWkkaRi7ySkF2PuQBmr1FFABRRUMl1BE4RpBvP8I5P5CpnOMFeTsNJvYmrzXxF8Sbm01Saz022gkjhbaZnZjuI6jAx/Wu+uWkmAWNzGM8kda828RfD+7k1CW70xjMk7l2jIUFCevJIz+VEZNyaa079z1MrjhHUf1l+l9jpvCfjGTxJHKksEUFxDy6KScqehHpz9a3mgjeYyuoZj/eGcVzng/wqfD0U008pe6nAVl2gBAO3BOfzrp6UqUZfEr9TmxroqvL6v8IdOlFFFWcYUUUUAFFFFABRRRQAVDdXUVlbNPOxVBwMAkkngAAckk8Us9zBaqjXEgjDuETgksx6AAdarQQXU89w+oLC0W8CCDbkKFOQ5OSCSfYYxQA60sHtr69unu5ZmuWGI2PyRKBwqj+fr6CrlFFABRRRQAUHkYIyPQ9KKKHqAsOyAsUjVd3XAxSGW4RyYykik52ngj8c0UVjKjFxUY6W7aFKbvd6liS4jhALtgHuATTo5Y5l3Rurj1U5qtwRhlDD0YZpYPLhDBECBueBxT/eqp05fxD3beZboqnHNciZUZEkjJwXU4x+GTVh54o3CPIqseQGOM0oVotNy0t30/4f5A4tbaklFHWitiQqvJ/x/Qf7j/8AstWKryf8f0H+4/8A7LQAXs7W9sXUAsSFGegycZqNIJrdt5uWkGDlXz+nNWJ4VuIWifow6jqPeq8di6yq8l1K4XopPB+tcFanUdZSSutLa2t39ehtCUVG1xDfndbARZ8+MvwenGcVRuNQuJo7dkhMZ84AgPgnjoauw6aIpA5nkbYpRAf4QaaulKAuZnJWQSZ9cDFcValmFWHK3a/p5fqn95rGVGLv/n5iNqhV2byc26NseXd0P0xTX1WRZJALbdGknllt3ft2qR9LjeRj5sgjZt7RjoTTjpqbZB5jfPKJfoR2qnDMm3rb/wAB8/Lbbz31EnQ7fmRf2oUScTw+XLGQAm7Oc9O1NOrsISxtyHDBdpJ5z74qeXTY5pZpGdsyhf8AgJHTFNOmK0WxpWJ3h849O1EoZldqMtNbbd3a/na3kCdDqvzLsZZo1LrtYjlc5xTqKK9lKyscoUUUUwCiiigAooooAKKKKACiiigAooooAKKKKACiiigAooooAKKKKACiiigAooooAKKKKACiiigAooooAKKKKACiiigAooooAKKKKACiiigAooooAKKKKACiiigAooooAiuv+POb/rm38qWD/j3i/wBwfypLr/j0m/65t/Klg/494v8AcH8qAJKKKKACiiigAooooAKKKQkKCSQAOpNAEF1fW9l5QnlRGmcRxqWALMewz1qtBYPOWfVEguHWdpLcbQwhXAAAJA56nOO+KZbWo1FIbvUrRPOikZ4Eck+WM8EggfNj24zwa1KACiobm6t7OBprmaOKNerOwUfmaq6frmnamWW0u4ZGXqqyKTj1wCaC1Tm48yWhoU2SRY0LseAM1WuLor8kO1nPBO77nuetRR7zCBLKJs/xY4NZOo3Jwivn0/r0FbS7HR3kk+WERjTtu6n8MU3yozIZCgLn+I8mn9BjtRRGn7qVR8zXVg5a6aBRRRWpIUUUUAFFFFABRRRQAUUUEgDLMFGcZJxzQAVVmvo4tQhsdrmeZWYYAwgHdu4B6Diq0txc6nDe2tg0llNE4jW6kjBUnuVB4OOn1q3bWiwRxGUie5SMRm4dfnYfXkj6ZoAr2NjdCInVpobybzTLHiMbYeMADgZxzzgda0KKKACiiigAooooAKKKKACiiigAorL1DXbfTbyO1lguZJJBlPKQHP057Vp7l3bN678Z255/KgBQSOhxQ6xykebGHI6E9R+NVby/jsXtlkUn7RMIQQeFJGcn24qyGVl3K6sv94HIqZQjNWkroabWqJ1fEOyM/MBxuP8AXmkt7lpZGjeF0dR1I+U/Q1CrKw3I6sP7ynIqRZGU561Dpy5k4uyXQd1Z3RaqCTP26D02P/7LXG+N/FU+hGKGyLi5uELbtwIQDjOCD1+g6VzEQ8V3Vr/aCeJ4SViMxQXB3IvU5ULgdq0i291Y9Ghlk6lNVZSUU9r3PWbq5FrCHKliWCqB3JqGW+e3geSaAgqQAFOdxP1AriPB3jB9dkGkapua5I3w3BKjJHsAOfzrufsO+B4p5Wl3HIJyMHtjmuLELFc79k9LabWvrv17GVfDfVp+zrLX815FebVmgaRJLYhkUNw/XJx6Us2qtDIYzbksqhmAbpnt0pW0kSbjLOzswAJIPY59akuNOWebzVfYxADfLnNcLjmdpNPtb4b21+V9vxIvQ00/Py/4JYt5hcQJKFZQwzhuoqWmxoI41QdAMU6vZpqSguffqcsrX0CiiirEFFFFABRRRQAUUUUAFFFFABRRRQAUUUUAFFFFABRRRQAUUUUAFFFFABRRRQAUUUUAFFFFABRRRQAUUUUAFFFFABRRRQAUUUUAFFFFABRRRQAUUUUAFFFFABRRRQAUUUUAFFFFAEV1/wAec3/XNv5UsH/HvF/uD+VJdf8AHpN/1zb+VLB/x7x/7g/lQBJRRRQAUUUUAFFFFABWPqMdlrV0dGldyYfLuZkRhgjJ2qe4yRntwOtbFZukNNMLu4uLdYZHuHUYOdyKcKTyRnFAGlRSEhQSegqqt4k6sYGyAcbiKlzipKLerGk7XPP/AIsiY/2ZwTbjeWwOjcYyfpmuV8EI8ni6yEQyPm8zAz8m05+lewfY4WjlSUGQS/6zJxn8sUyy0yy07d9kg8vd975mOfzJpQcpQ99Wv03Pbo5rClhHh1G7s1f1MK32p4l8WBmVSbW2fk4+Xy5Bn6VS03UdR0650m1vJXi057O1jtgka7fM2fOkjMM7jgbQDmuk1DRtM1WdJLyDzZIRgHey4HXsRStoumzaouqtb7rsYIk3t2GAcZx0PpVnhnLWXibVJG0eZkvSb2aNJ0ntlWIq/XyyAGyPcnjOc1ueD72/1Lw7DfajcLPPO7nKqAqqGKgDAHYD15q1beHtKs9R+3wWu25yx3+YxwScngnFXbS0gsbVLa2j8uFM7VyTjJz1PPegCaiimTTR28Ek0rbY41LM2CcAdelAD6KRWDqrKcqwBB9qWgAoopQpIz2oASjBPQVkjW01CO6i0UC6u7chWV1KqCfrj07VYFnPdLZyXsxSWHDvHBjYzj6gnA+ooASXU4pFu4rBkuLuBMlVO8buwIBzn2pj6RFftY3WpqJL22AI8tiED9SR0PX1rRRFjXagwMk496WgBSSetJRRQAUUUUAFFFFABRRRQAUUUUAFFFFAGJqaSN4n0N1jdkRpdzBchcr3Paucnsbo3s8bWk7as16JI7oRnyxH/LpxnFd68ixplmwp46UNKqRgs2FPTigDB8VRh7aw823luIlulaVIlJJXBz0rn3sbuXTdXbTbaaCxkkQpBJGS7Afexwc/nXeiZB0f26UvmKZtm7956YoA5zwpaCE3Usa3KROQAk6gZI7jj+tdJVLVNUi02ymuZdz+VjKqOeSB7evrVuNxJGrjowB/OgDzD4nQsuuWkxHySW4UH3DHP8xWPttNP8F7o5Ue+1KbbIquCUiQ5AI7Etj1r1zVNJstZtDa38bPFnI2sVIPrxXJP8NdKW8VVuLkRPk7fMGcDH+z707n0mDzSgqEKVVtcv422/ryOS8EWkt34tsjGDiFvNdscKAO9ezwXVwJhDcxZY9HjU7fzNZ+kaJYaFbNBYRsityxdyxY/wCfStJXZPumsalOUpKUZWt+J52Y4+OKq80Y6JWXct0VQkj3SGaNzHMRjPGD+hqdrhbe2WS4YdgSoOM1PtnFv2isl16WPP5b25dSxRTUdZEDKcg9DTq2TTV0QFFFFMAooooAKKKKACiiigAooooAKKKKACiiigAooooAKKKKACiiigAooooAKKKKACiiigAooooAKKKKACiiigAooooAKKKKACiiigAooooAKKKKACiiigAooooAKKKKACiiigAooooAiuv+POb/AK5t/Klg/wCPeL/cH8qS6/49Jv8Arm38qWD/AI94v9wfyoAkooooAKKKKACiiigArGsru+s5b9NVYMn2lms2QDLQkDAOO4ORz+vWrUmoFrnyIFDYPzsTjbVTUNLg1GW2lkeSOa2kEkcsZAYeq5xnae471z+19rFqi9Vpe2n6XL5eVrmLcwF3CFlBCnB2ilVVRAqjCjoKzrTVXYXX9o24szby7Mht4YH7p46Z44rSX5l3LyvrWqpxUue2u1+pPM7W6BRRRViOXgITxL4tDHB+yW8n/Adkgz+lUtBvdZuNZi0OK9jt7S10i0l2IgMhdlweSpGOPrXVXemWV86Pc2sMrpwGaNScemSOntVOXw5Y3Gr3eo3CrNJcxxx7HQHywmehI755oAytP1zVdXvdPsYpo7d5IZpJ5lQZkKSbPkyGABxk5A68Y6VXg1XxFL4xXRTqUP2eOSYyusa72RUiZRkrjOZGzwPrW5qnhqDVXtis32f7OhSOPyw0eD/s8YP406y0rT/D6gyuhnLE+d5OD8wAIGMkD5V79qAOYvfEuur4TGv299bxBr0QCBosqqGXZj7pO/Hfdina5qWpal4R8VXQu44ba0+0W6wbBjaowd/BOT/snHTpzXQTQaFca69nJYWst75XnurQA9xhsleue+agSwbXEnnvtDs7aZgFVpVScSDuWxgnj3oAzY9e1Z5tRgtVmjg02CJYxGsWHbylfL7iTjnHy4PWupt9Rgm2RlttwYRK0W0/KMZPPT9azb/wnY6pJYS3sjtLZgAmJQomwQQHBByOOme5rZjtreKR5YraFJX+9IqAM31PegDPmvL++0yO40WOJZJG4N50Cf3vlJ/z2qf+zklu7a+uXZruBNo2HCZPU9M1dJycmigBscaRJsjXauScZ7mnUEgdTigEHkHIoAKKKKACiiigAooqPz4vP8jf++27tuD09c0BZskooooAKKKKACiiigAooooA53XraCTVLebUbeSewWEqojYAiTPOeQemKq3FjYrDpxnsrhtLRHxFvG9ZCRgkhumM9660EjocUZOc5NAHn+maVOb2zH2crGl3O6hnHy/KuzOD6gU200q6+2otyZU1AT7nZCmOuc+mK9CyfU0ZOMZOKAPPr/TYzYXkctlM2sNOXModdhXd1+9jp7ZrvLcEW0QPUIoP5VLuPqaSgAqF/wDj8h/3H/8AZamqF/8Aj7h/3H/9loAmooooAKXJAI7HqKSijcBbaOG2LlFK7+vORTors+asM6FJGztx0P60ylBIPFYex5UlS91LpbTzL5r35tS5RVCVpvMEsb8gY2Hof1q5G5eJWYbSRyPSrjNuTi1b8mJrS6Y+iiitCQooooAKKKKACiiigAooooAKKKKACiiigAooooAKKKKACiiigAooooAKKKKACiiigAooooAKKKKACiiigAooooAKKKKACiiigAooooAKKKKACsnxHq8miaX9rihWVvMVNrNtHJ65rWrF8T6ZNq2krbQDLecjkcfdB56kUAVrfxLGrlr+6tIlWIyMkWZMKDjduUkfhjNaC+INNeWKNZ2Lyjci+U+SDwD06GsHXPCstzdTnT4UihexMKqgUDeXJ9RU19oV9LfaY1qohECRLJMoXgKTlSM85/SgDQ8Pa4+rrfGVFTyJ2RcIygoDwTnv6ipV8TaM8wiW/jJZ9itg7S3TAbGP1qHQdJmsIdRScAfaLqSRSMfdY8dDWDZeE7i2uIraS1WW3im8wXBZeRnI+XOQffrQB0kPiXSLhohHd5Er+WjGNgrN/dyRjPtSzeI9Kty3m3RVQ/l7/KcqWzjAbGDz71g2/hi7i0bSrcoomt74TyEBc7dxPr6Vlara38udKtraWaNbzzFbyMZBbceSM8Z6k80AdhqOv6Zb290ktzjYCjMI2KhsdNwGM+2aV/EGl2Uflz3YDQopk2ozBMjjJAIFc/reg6nJbajaWyK1rPIbjzSEyCcEjk57dc1Q1ywu4WvobSGW4+3pGxUW5OCBjAYg/pjFAHYzeJNIt2VZb6NSUD9CdqnoTxx+OKJfEekwyyRNdgtGod9qMwVTyGJAxj3rm5/Cl0blJhbidZ7eKOVGIHlFQAep5+lXW8Nyi51pliXy7m0WGAEA4IXGOT/PFAG1Fr2mSySILpVaOPzW8xWT5P73zAZHuKjj8TaPKkjJfR/u0MjAgg7fUAjJH0rMvvDUt5qe5cRW76ebZioAw2fYg1lR+HLmPT7qM2S+e1v9njcOpJ9TweB7GlKSirsaVze1LxVZw6Tc3NjKJZ44vMjR43AYE4B6DI96n07UJ9Ss4rmSIRI6A4wRk9zz2rnpvDl41i0Q2lzp32cDCjD7gfWulsYWt9Pt4HADRxqpx6gVnZztJ3Xlp+I9rosAAdABRRRWpI2SOOaMxzRpLGeqSLuU/gazrjQ7eea2kinubQW/3Y7ZwiEZzggDpWnRQBVS0lS9muPtkjRyLhYGztjPqOajW11BLZ4zqETzEjZJ5DAAd8jfk/mKvUUAU5bW8ljgC3yROn+sIiY+Z9Pm4/HNAsZhqZvDqExi7WvOwcfXH6VcooAzIdEjjsbi0lvby4WdtzPLJll9lOOBViHS7GGCGE2sMqw58syxqxXJycccVbooAPwooooAKKKKACiiigDlPHLBYNKJWNx9tXKykBG+VuGzxj61Tk1C88/TLKxe1s45453b7KdyAqCeNjAdq7C6sbS/RY7u2juFU7lWRc4PqKYmlafCY/LsYUMQYR4QfIG+9j60HoU8XTjSjCUbtX/G9vu9DkrfxHf6jb6RHPPHp8VzE7y3nzY3KSAoO4YzjPJNRW/iK/uILS3lvI4IJ7mZH1A7sKEI2jO7jPua6PU/DNtqFrBbQGO0ihJKIsIYD6DIxRZ6VokFuNFKW1xJCPNeJ1y2T/Hg5xmmb/WcNy3jHq9Lbb63+a8tDBfXb1SLVL6N7Z70wNqIDbY1CKQc7uMkkZzioL7xJqVit7Ba3CX0azRQi7BYBAykk53EDnjOQK6i/wDDlpd2P2S3SKzjL7yEhBDH1xxzx1pul+GLPTrSa3ljjuxOwaQvFgNjpwSentQEcVhVHmcbvtbfVa3/AETsczb+ItYW0njlMPkiWNDeeb5nlbjyThugHuOtWtHZW8fybdQjv9thjz05/iHGcnP511KaRpyQSW6afbiGTl4/LGG+tLbaVp9nIZbSwghkxtLxoAcemaDOeNouMlGNrq3Ty+f3FqiiikeYFFFFABRRRQAUUUUAFFFFABRRRQAUUUUAFQv/AMfcP+4//stTVC//AB+Q/wC4/wD7LQBNRRRQAUUUUAFFFFABTXRZEKMMqadRSlFSVnsCdtRLXdbqULtIvbceRU8V3DKxTcFfP3W4P69ahppjQyCQqN46MOtZezlBKNKyS732L5k23Iv0VRa7lhkXMbPGRyR2/DGauI6yIGU5B6VUasZScFuhOLSuOooorQkKKKKACiiigAooooAKKKKACiiigAooooAKKKKACiiigAooooAKKKKACiiigAooooAKKKKACiiigAooooAKKQsF6kD60oOelABRRRQAUUUUAFFFFABRRRQAUUUUAFNEcYfeEUN/exzTqKAIrr/j0m/65t/KkhjRoomKKWCDBI56Ut1/x6Tf9c2/lSwf8e8f+4P5UASU1nVFyzAD3NRvcxpII9wLn+EEZqg9s011507hwD8igY21hUqS2pLmd7b6L1LUV9p2JrpriYhYZPKT+I9z/n60qLsULknA6k0tFXGlGM3Pq/607Ccm1YKKKK0JCiiigAooooAKKKKACiiigAooooAKKKDwMkgD1PSgAooBDDKsGHsc0UAFFFFAGF4lvbm2FhBb3YsluZ/LkumAIiUAnnPr06iqQvLqzt43OvR30K38SSTKFASMn5gxBPHuTXUSRpLG0ci7kbgjOM0xba3SAwLFiE9V3H+dB1wxEIwUXH121+dr+XY4m61nVJ11aS11WOKCO+CQOxXDRgElUOOe1Ube8vYdcv8AVIbiWeZdLjn2eWA0gIGAQM4wee9eiG1t2gEBizCOibj/AD609Yo0k8xUw+AucnpQdEcfTjFpU99Om2m+nWx59Lr+q2lrME1b7d5tg1wZY1X/AEZx2OM/TnH0q3bvr87pEdeYeZp320t5K5U5xtH6c8fSuzW2t0SRFiwshy43HmnCGIHITBC7Op+76UxSx1O3u01f0X+R58/iXWLqy0tY7oWxltWlkuHIVZGDEYzt68ZxWhp1/rV/4isbSbUBEn2QXEqxgMsuG9cDGQf/ANdde1pbPCsLRZiU5Vdx4P1pwijEgkCfOBtByenpSCeNouLUaaW/br/X+Q+ikLKpwzqp9CcUuKDzQooooAKKKKACiiigAooooAKKKDhRliFHqTigAooHIyCCPUUUAFQv/wAfcP8AuP8A+y1NUL/8fcP+4/8A7LQBNRRRQAUUUUAFFFFABRRRQAUUUUAFNcOYikbmM9iO1OoqZRUk0xp21JLR5ipWYqxHRh3/AAxVnORkVTBIORSWKSQs8XDQ/eQ/3fb/ACayTdJxhq137dr/AOZWkrsu0UUVuQFFZ+s6i2m2IkjiMsskiwxrnHzMcAng8fhWeya/aQyy3F3BcR+W2QAFKHBORhefxxQB0FFctonipJoLO1uoLkTyQFxM6BUlKjJ2889+lXLnxTaWsVpI8E5F1btcJgDhQM4PPWgDdormR41tmaJY9Ov3eWIzIqxgkpkjPX2rb0zUYdV0+K8t8+XIOA2Mj2OKALdFFFABRRRQAUUUUAFFFFABRRRQAUUVU1Nb99PlXTHiS7ONjTfdH14oYpOybLdFcj9n8ef8/mk/k3/xNH2fx5/z+aT+Tf8AxNRz+TOX60/+fcvu/wCCddRXI/Z/Hn/P5pP5N/8AE0fZ/Hn/AD+aT+Tf/E0c/kw+tP8A59y+7/gnXUVyP2fx5/z+aT+Tf/E0fZ/Hn/P5pP5N/wDE0c/kw+tP/n3L7v8AgnXUVyP2fx5/z+aT+Tf/ABNH2fx5/wA/mk/k3/xNHP5MPrT/AOfcvu/4J11ZHiPVJdL0ovbANeTOsVuhGcuTjp1OPasj7P48/wCfzSfyb/4ms64i1+HxNoM2vTWkkP2hkj+zg8MynGeB7VMpu2zM62KlyWUZK+l7bXdr7mingmLUo1n124luLpuW8tgqD6YUH86g1DSNQ8KWrXugzNJBHzNbzKH3L3xhc/rXa1HNIkUEkkhxGilm+gHNN0420Llg6SjeOj79fvIdNvo9S0y2vYvuTRhwPTParVef6DD4sk0aF9LudOSxcu0KzA7wpYnng1pfZ/Hn/P5pP5N/8TSVTTZk08W3BNwk9O3/AATrqK5H7P48/wCfzSfyb/4mj7P48/5/NJ/Jv/iarn8mX9af/PuX3f8ABOuorkfs/jz/AJ/NJ/Jv/iaPs/jz/n80n8m/+Jo5/Jh9af8Az7l93/BOuorkfs/jz/n80n8m/wDiaPs/jz/n80n8m/8AiaOfyYfWn/z7l93/AATrqK5H7P48/wCfzSfyb/4mj7P48/5/NJ/Jv/iaOfyYfWn/AM+5fd/wTrqCQASTgDvXI/Z/Hn/P5pP5N/8AE1XlXxhKLq0uriwkQwSBhEMEEqdvUDviolWjG3NpfQ0pVnUmo8klfrbRee5g69471i81qXT9Bw0IbYuyESM5HUjrkfSqUHjbxJo92IdXRjCw+ZXtgjY9V+7WP4UtNXvNTkttIkSKR4ik7vjCxk4PUH9BWl45hnszptgIWWytITFBI5UtIeNxOD06dhW7SejPulh8NCrHC8kXp89t/wCvU9QsPs0lpHcWh3RTKHDbs5z9OKtYPpXn/h7SvE83hfT20q8t7eI+YxEoBJBbg/dPvWj/AGJ46/6C9j/3yP8A43WcIQpx5IKyR8xiKEI1ZR9otG11/wAjr8H0owfSuQ/sXx1/0F7H/vkf/G6P7F8d/wDQXsf++R/8bqrmXsofzr8f8jr8H0owfSuR/sXx3/0F7D/vkf8Axuj+xvHf/QWsP++R/wDG6Lh7KH86/H/I67B9KMH0rkf7G8d/9Baw/wC+R/8AG6P7G8d/9Baw/wC+R/8AG6Lh7GH86/H/ACOuwfSjB9K5L+x/Hf8A0FtP/wC+R/8AG6P7H8d/9BbT/wDvkf8Axui4exj/ADr8f8jrcH0owfSuS/sfx3/0FdP/AO+R/wDG6P7I8d/9BXT/APvkf/G6Lj9jH+dfj/kdbg+lGD6Vyf8AZHjz/oK6f/3yP/jdH9k+PP8AoK6d/wB8/wD2ui4ewj/z8X4/5HWYPpRiuT/snx5/0FdO/wC+f/sKP7J8ef8AQU07/vn/AOwouHsI/wDPxfj/AJHQ6nfx6Zps95KCViXIUdWPYDkZyayk0Vb/AE9dR8UTDdjcYw3lRxqegPAIP1NYuqWPiezit73Wry0n0+1uYpplhHzYDDn7o9fWu01q8tbfSGuLnzDbEqWeMcoCRhsH0OD3+hpnRCLpRj7N3cnuvlovPX8jHg8OaS9u17oEwjnQHy2jmEibh2bO7/Gr+jal/aumR3DJsmBKTRkYKODgjGTj8azPAgyNXeM+bbSXW+K4bhpcjkkcYx9BWXbW3iHUdS1W/wDD93aw2M90QPPHLMoCk/dOBkGg0rUnNzhOXw2s359H/XQ7aiuU/szx7/0E9N/75/8AsKX+zPHv/QT03/vn/wCwoOT6vH/n5H8f8jqqK5X+zPHv/QT0z/vn/wCwo/s3x7/0E9M/75/+woD6uv8An5H8f8jqqK5X+zfHv/QS0z/vn/7Cl/s7x7/0EtM/75/+woD6sv8An5H8f8jqaK5b+zvHv/QS0z/vn/7Cj+zvH3/QS0v/AL5P/wARQP6sv+fkfx/yOprI1i/uku7PS9PKi7uiSzlciOIfebvj0BIIzWb/AGf4+/6COl/98n/4il0FNTsPGMia9NBJd3doBA8A+UhDkg8DB5Hag0pYeMbzclKybsr/AOXTf5Fy58KeGrKBrjUB8ueZZ7gpz+BAqG9im8KiC4tJGk0cuFnjcBmjBPDKQBgDuWNYvj/TtYvFvbu6hhbTLWPNtsYBlJwCx5yf88V1mvXKW3g25e7GC9r5ZVefnYYA/M0zpaly03KfPzOzW9ttvPX5GgCCAQcg8giiuRtNM8eQWcESX+mKiRqqqwJIAHQ/JU32Hx9/0ENK/wC+T/8AEUjjeESdlUj97/yOoormPsPj/wD6CGlf98n/AOIo+xeP/wDoIaV/3yf/AIigPqq/5+R+9/5HT0VzH2Lx/wD9BDSv++T/APEUfYvH/wDz/wCk/wDfJ/8AiKA+qL/n5H73/kdPRXM/Y/H/APz/AOk/98n/AOIo+x+P/wDn/wBJ/wC+T/8AEUB9U/6eR+9/5Gzq13LZadJLbhWuGKxwqwyC7EAcdT17VRl8MacbY3uvzmaYLmWRpRHGv0wF4+tZzWviiHUtLudbubGWyiu1yLcHcGYFFP3RxlhWv40Nm2iLBfzSw28syB5IxkgA59D/ACoN6cJU5QhCWsnq47+i6+fzKaaJbwWMl/4WuVWUZwpcSRvjqDwT+RFa+m3n9oabb3e0oZUBZSMFW6EY7YOaZ4XvLu80RZ70g/vHETgAF4gflYgdyPYfSsG0j8U3MctzpF1p6afNPLJAJgd+0uTz8ppSdjmxtSUYy505NO11q+u70vsdXUL/APH5D/uP/wCy1hfZPHf/AD+6V+Tf/E1E1r44+0xg3ml79rYODjHGf4fpU8/kzzPrX/TuX3f8E6iiuc+yeO/+f3Svyb/4mj7J47/5/dK/Jv8A4mjn8mH1r/p3L7v+CdHRXOfZPHf/AD+6V+Tf/E0fZPHf/P7pX5N/8TRz+TD61/07l93/AATo6K5z7J47/wCf3Svyb/4mj7J47/5/dK/Jv/iaOfyYfWv+ncvu/wCCdHRXOfZPHf8Az+6V+Tf/ABNH2Tx3/wA/ulfk3/xNHP5MPrX/AE7l93/BOjornPsnjv8A5/dK/Jv/AImj7J47/wCf3Svyb/4mjn8mH1r/AKdy+7/gnR0Vzn2Tx3/z+6V+Tf8AxNH2Tx3/AM/ulfk3/wATRz+TD61/07l93/BOjpQSpyK5v7J47/5/dK/Jv/iaPsnjv/n90r8m/wDiaOfyYfWv+ncvu/4JkeMfGl9pFyNL06SMSqMyyMgYgHoB2zj1FcxdT+KtJWPU55inmEHPkDKE8jcCuBmq3ii1ubXxVIuqsvmSGOSV4uhBA3Efr2rqfFt9aT6HfsJk23DQG0ZFbdMFHO/IwMA9sVUIqMUkfcUI06VOioQT50ru3e3+b+40PDOuf8Jrp0+maqwW7hKyq8QCZweG6nJB9sV0Q0nUp8pe6iXjCkKqBBkkY5+T+VeX+BLTVZ9UuZtIaBJ4oMb5/ujLLxjk9Aa777P48/5/NJ/Jv/iaUpWex87nXJhsW4U4Nqyei0XkaMfh5Ul0hjKSLCNo8bvvZXb6f4VWHhVpF23F0ziG3a2tgCBsRhjn5eTjHrVf7P48/wCfzSfyb/4mj7P48/5/NJ/Jv/iaXP5M8j60/wDn3L7v+CaVn4fFpe21wJSfJsha4z1wevT/AD6Vb0PSxo+lpZhy+1mOSc9Tn0FYX2fx5/z+aT+Tf/E0fZ/Hn/P5pP5N/wDE0c/kw+tP/n3L7v8AgnXUVwWs2fjeXTXSW40+RS6fLDwxO4YxuAHWt7w3D4jihI1yW2cAYQR/eH1wMUKd3awQxTnU5OSS82jfoooqzrCiiigAooooAKKKKACiiigAooooAKKKKACiiuf8QeIZ9HvbS2ht4pDOrsWllCBdvueKAOgorG03xLY30UIeQRXLxCR4sMdgIzknGAPc1Yt9d0u6kEcV5GWILLnKhgOpUngj6UAaNUNZ0xNX0qezc7S4yjjgow5BBwcc96zrnxRbm70+KxdJkuJzHI5RgAoBJKnoenbNaSazp8ltb3K3SGG4cpE+CAxGePboaTV1YmUVKLi9mc7Zz+LNJhFvdWcN7GvCyxybmYe5dx/KobvTPEfiWVItRWKy04HLpFKQ7j0IBZT+NdEviHTJOIrnfkkKwjYqx9A2MH86Z4b1d9b0aO8lRUlJIdVBABz2z1qPZ9GzleDTXLKTa7f0jTt4I7a3jgiULHGoVQBjAFSUUVodiVtEFFFFABRRRQAUUU2SRIkLyMFUdycUm0ldhuOoJ4NQy/v7bMcuwNzv9BVS3nt7dT5fmPGT80xUnPvnFc1TExhNKVlF9b/p+uxpGm2rrckiju5bgSzERovRFbr9e1XaYJoi20SIW9NwzUJvYzdxwIVfeCdytnGKIOlQWs73fV31egNSm9jifFfgD+0b2XUdPlWB2G6RC2xSR3wF/rVPQfhpKl2lxq86SxKNypG+4H6hl6V6HcSxvazhZEYiNsgEHHFLBLGLRX3qVRBuIPTiuj2ke6O6OZ4uNL2Sem3mTIixoqIoVVGAAMAClqtBeLLAs0m2FW+7ubqPWpfPh2hvNTaeh3DBqIV6c4qSem557jJOzJKKYZog+wyoH/ulhmn1opJ7MVmgooopiCiiigAooooAKKKinmFvCZCCQOuATUzkoRcpbIaTbsiWiq8N5FLGrlgm77oY43D1Gaf9pg3FfOjyOMbhURr0pJSUlZjcJJ2sS0VGJ4WfYsqFj2DDNKJYyWAkUlfvc9PrVKpB7MXKxZI0ljaORVdGBDKwyCPQ1zEWlazokrx6W0V1YMciG4kJZPZRwoHtXSpPDIfklRu/ysDUct5DHDJIsiOUUkqGFTKvTjHmclY2pVJwvFK6fRmBcQeJNUQWskdtZWrcSMjlZNvfaVJH510VtbxWltHbwIqRRqFVVAAA+gqKC8EzgBVCGMPu3g/pUyzwshdZUKjqQwwKIV6c1eLHVnOSUWrJdiSimpLHJnY6tjrtOcU6tE01dHO1YKKKKYBRRRQAUVVa+iS48p8qN2zcQcbsZx0qbz4dpbzU2jqdw4rKNelJtKS0KcJLdElZ+saVHq1l5TEpMh3wyrgMjjoQcHH4Vd86Ix+YJU2f3twx+dQJfRPdPCGXaqht+7g5olXpxaTktdiqfPF80d0Y0c3iiGMRTWVnMRxvjbg/XcwNFlol9dammo63JG7xHMNvE5aJD67WBw3uDXQ+YmWG9cr97np9ar3N/DBbGZXSQA4wGoqV6dOLlOVkv0N1Xm9IRSb7ItUUisHUMpBBGQQaWtU76o5AooooAKKKKACiikJABJ6CgCG8tIr+zmtZxmOVSrdP696562tfEmlKbaIQX1qOEaWQtLj3JIFdBFfW0zBY5QSwyMgjP0z1qfeoGdwx65rOFWnNXhJNeTN4VJ0k4NXXZnLz6ZrutusOotFaWGfnS3kIkceh6qR7V00MMdvCkMSKkaKFVVGAAPanFlUZJAHqTTIpklBKkcMV/Kqc4p8t9RVKsqiStZLsSVXk/wCP6D/cf/2Wp9ygZ3DHrmq0siLfW2WHzK4H6H+lDnGO7Mkmy1RRRVCCiiigAooooAKKKKAKs9/HBMYijswTeduOB+JqRbqFoo5A3yyDK8Gs7UbGe5vGdNyqIeCD1OehqO5s55WjcWzAGIL5aMAEPpXiVMbi6dSp7l0npo/0/rW/RnWqVOSWpqfaV+2fZ++zd096GuU2MYzuYdBjvWe2myeUY1BB+z7d5IJ3ZzjP0qvcWtzOsQTT1i2KwJUjnK4oqY7FQi703d7aPr00XTe73CNGm38RtfaEVRvOGwMjHrUtZEdi5mlaSAEG2VFzg/MBWnbqyW0SsMMEAP1xXdha9Wo2qkbL/J2/ExqQjHZmdrnh+x1+18m7jG4fckVV3L9CQcVxcfwqgS6LyXT+QOTtkG7H/fFek0hAIIIyD1BrtN6GPxFCPJTlZFLSdOstMsEgsY1SLGchQpb3OAOavVk6XpsulXlxDE5awk/eRq3/ACyYnlRz93v0Fa1Byyk5Nyk7sKKKKCQooooAKKKKACiiigAooooAKKKKACiiigAooooAKKKKACiiigArn9a0R9U13TZmjD2sKuJc479OD/hXQVUvNTstPKLdXCxtJ9xOSzfQDmgDFj8Ot/bGqMEEFtcWqQQugUFMLg4x0/SqNt4ZvbhrS3uESzisYniSeELum3DGThuPXHrWtY+IrVraee7uURPtUkUOerKOmABmr0GtabcSQpFdozTFljHIyR1HPf2oA5q10PU0fS7SSxhS3sZTm4TaGkXaRkjdkdfei28P6mYLXSZo1jsrWSR1ulI3NkNj5d3H3v0ro317S41LNeJgSGLgE5YdQMDnHtVC68Qxf2lpQtbmJ7O4aQSyBhhdq55z0/SgCrpen6lZR22nyaVavbwnH2ohcsP723OQfetLwxp02l6DBaXCBZkzuxj19iami1/Spn2pex5ILDOQGA64JHP4UQeINKuZY44r2MtLxHkEBz6AkYNAGlRWV/wkmj7whvowTkDII3EcEDjk+wp3/CQ6T5Hnfbo9u8x453bh1G3rn8KANOis4a9pZtxOL2MoX8vjJO7BOMdc4BqjeeI7Yy6Z9iuFkS4uvJk2jOBg5B44OcehoA36KKY80cZUO6qWOFBPWlKSirt2BK+wSzRwrukcKOgz3qK4tVuXQu7eWvVB0b60r2qSz+ZL84GNqHoPfHSp6wcHV5o1UuXp/wAH/L7y7qNnF6kcsW63eJPkypUY7VmxtNHpxtDZt5gXZgDg++cY/WtbpTBLGyllkUqOpB6VnXw8ZyUlLldmum3zKhNpWtcyYrOdWvSA/mBQsTHvxzioobeYXMLRwSowiYMzD+LH4Vq3F7FBD5gZXGQMK3rU3mx79m9d/wDdzzXB/Z2GclGM9nf75Nr8reiNvbTtdrf/ACMGG0uFhdnMqsIm3gg4J9z3q+luy6EURT5jxZI7k4qeWYSW93Hja8akEZ7Y4NTwf8e8ef7g/lWuGy2jCL5JN3TX6P5k1K8m9V5mRM8clvpm3Lp0Kr7LyMUxLW4aSIGOUQmfIU9lx+g/CtlbWBNu2JRsJK4HQn0qWoWVOb5qstdNvJJfdpsP6xZWijnzZ3LyyeYZlkMnDKpPHse1bcfnCQh9pQDggcn9alorqwuXwwzbi3r/AMHf7zOpWc9GgooorvMQooooAKKKKACoLxWezmVQSxQgAd6nqOeZLeB5XOFUZrOtyunLmdlZlRvzKxlraytJp4ZHCpBhuOA2BjNVjbTfZol+zzfaA4Ltjrz645/OtiO6ZmQPF5YZN5JbpU6SJJnY6tjrg5xXkf2dQqr3ZvXy8o9/T8WdPt5x3X9amMLSZI7eVUk837QS3suT+lNaC6C3aRRy/NyHJwTz0H4Vt+Ym/ZvXf/dzzSedFu2+Ym7OMbhmreV0bWU7dOna33i+sS7GOYJTv+ywyxnySORjnI9hz1oNvutnVLaYP5LA5HU4+nNaVvexT2yzFlRWJA3HH86dJcCOWFSuUkOA+eM9hWawWHlDn59Hbouu1u1x+1mna2xlC1uELiOORR9mUenOeR9aJYJiLn7PDKkRixtxjLZ7DityitnlFO1lJ/1f/P5k/WXe9jM0+3kt71xtcRmJTlum7v8AjWnRRXdhsPHDw5IvS7/ExqTc3dhRRRXQQFFFFAGcLHzr2WWVpAqyhlT+EnaOapJa3C20ZaOUqZmMq9yO31FbgdC5QMu4dRnmkEsZ3YkQ7evPSvKqZbQm73s9fvbT/C1rdrnRGvNdOxjfZ58SFYpRbmRSI+5Hfj09sUw20pmuHigkVNqFQRjODyBwK3FljckLIpI7A0xLgPOyADYF3bw3WsZZZRdk5737ef3LUtV566f1oZckN1Kt5LGkq+Y6YXOCVHXFJc23mWMwht5QdylVI6+uBgVsJLHICUdWA67TmlSRJASjq2PQ5rR5ZSmmnO/Mn263bt9/5E+3kum3/A/yCNBHGqKMADAFOqEXG67aBUJ2qCzeme1K1zCqsfNT5QSRuFejGrTUdHotPuMHGVyWiqFvqkdxLEm0KZASPm9Pwq4s0TZ2yIcdcMOKVHFUay5qcrr+mOVOUXZofRSK6uMqwYeoOaWtk09UQFNk5if/AHTTqRiFUsegGTRLZ3GtzBjsZBpa3G5xKkbBEVSCMmrE0LJNFFJJcC2CZ3qSSW98VpQyxT26yR4MbDjinsFIwwBHvXj08spKmvZy6R9Hb57PT7jpliJc3vLuY5E7m3W5M8cAQ/Mmck54z17UW/mQTwSHzvIDSAkg+vBIrYIRhghSPQ0xmQOsZTIbn7uR/hTeXcklPn1VrN99NH5afiL291a39amPGszbftDXCQM7tuXOe2B9KmECm6sdskzKGcgvnOAPcdK1cIw2kKR6VXkKLewdAFR/w+7V08tjD4pX2330s+9radhOu3si1RUEN3HOI2jyyvnBAOP5VNkHvXpQqQqK8HdGDi1oxaKAQehoqxBRRRQAUUUUAFFFFABRRRQAUUUUAFFFFAFXUoZ7jTpo7aVopyuUZfUcgdR16daZpN7Jf6bFPNC0E/3ZYiCNrDgjmrtUbu/i0+6tYniCx3MhTzOgVz0B46n3oAvUUUUAFFFFABRRRQAUUUUAFFFFABRRRQAUUUUAFFFFABRRRQAUUUUAFYWsaNcXer2eowGCT7OjIYJ/utnuDg4P4Vu0UAcZL4RvJkgkd7fdFdSTGBWZUZXxxkDgj6Vbk8MSHRjHbeTaagkxmglV2cRk8dSAeRweK6ijNAHLT+FStrpyRCKVrfeZg7snmu+MvuGTnI/Wq8vg6Z4LSOJ4bfZ5xl2uzcuhUEcD19q7HNFAHGz+G7021r5gtYlsY2O6AfPN8pGOFGM/U0zTdBvL3T9GLx21tHbMkxdVxI2P4cbRj35rtaM0AcofCjk6QWW1JtLiSWf5fvqzEgdOeo61WufB1zJfyXKvbmIXbzrBuZAVZVHUDg8dhXaUhIVSzEAAZJPagDmrTwx5KwFobdCLwTyIHZwVCsB1HXkdqitfC1xBcK5a32LqRuwoB4QrjA465x7Vj6z8SwtzJZ6RYzXEiNjzVZSGx12gBsiotI+JjPdx2mp2bxGRthlLr+7J9QQKD0llOLcOfl/FX+49FMqLIsZYb26LnmoUtB5zSzN5rbspuHCD2H9aSztVgBkLiSSTkyDgH+lWq5oQdVKVaNnul29ejf5dO5wt8rtFhRRRXSZkc+TbyABidp4XrWLDFc/ZJAI5QqupIIIZ17jH/wBet6iuHE4JYiam5WsmvvNadXkVrHPyQyyfaDHbzJGTHtRgex5p0tvcG9cZnDGTIdUOAPrW9RXI8mg95P8ALq309fka/Wn2/rQzGBM9+wOVEAUn1ODV+D/j3i/3B/KmXCKlncbRjKMT+Vc7418WQeDfBU+rS/NKIxHBGGUF5GHGM9cdeh4B4r06FL2cbPu397uc85czudTRXLfD7xfB408JWupphbgDy7mMupKyDrnHTPUcDg9K6mtiQooooAKKKKACiiigAooooAKo6uCdNkOCQCpI9gRmr1IQCCD0NY4il7alKne10195UJcslLsZV2sss5eEO0bWxAK5Iz+FTwQNDqrhFdYTEPXG7P8AOrqIsaBEGFHQU6uWGASn7WT1un+ei8tTR1tOVbGOI5v7WdkjlwxPzMDgcdQf6VDHFMJLZDBN5qS/vZfmw1b1FZPKot35urey6tP9NyliH2Oe+z3C2duGSUKN2UVCTnPBxVxVaO0tI5HZpGmUqH6gZz/KtWmmNTIrkfMvQ1NPKlS1hLolr2Vv8hvEOW6HUUUV65zBRRRQAUUUUAFFFFAGSY7hr+5ESyLuQhZGzgHHb1qpDb3PkzczhhGQQVPzH2Peug3KWK7huHbPNRvPGiO25WKgnAPPFeNVyyk3zym+v4/5HVGvJaJdjPktJVtIGt9yTMoRzznkck0yW2nS4mSHeEWFQDzg4PIHua0oLlJraOY/IJBkBjTZLoRXcUDIR5gO1+2fSqnhMM4qalZO34qy9L3X4CVSd7W7lIK0ttcLaQTWzleC+Rn6UmlQyrMzMZlTbgq6YBP51rUVtHLoqpCo5ax7aL7l/TJdd8rjbczyGae/ijfZMwBQ/wDAcVR8oyLGgtZ1YKwkZgcMcfrzW4Y0Mgkx8wGM06pq5d7X4pdX06N367Pppuhxr8uy/q1jAWxlAtTHGySeQ2WweGxx9KbDb3B3Y+0IwjbdlCAxx0znmuhorD+xaV01J/0kv0K+tS7FNYJkghWBxGAAXDDJJ/GrlFFerSpKmrL+rduxzyk5bhUc677eRTnlT0NSUVco80XF9RJ2dzngtzHY2YRpY4yD5mM9e2fSp7dblrm0SaWV0KMxPK/QHFbVFeVTylQknzuytp00t521t+LOh4m627/iYgSfZZN5k4aRyJPmbpn68Uu64W7RAZdimUDknjHFbVFV/ZaW02tvwt59bXfqL6x3Xcw7f7WqW5V5S8kLltxJ5HTrUcbGSW0UifzcMJSzEZ49M+v07Vcg1GSTxPe6aV/dwWkE6nPd2kB7f7A71ck/4/oP9x//AGWlHK7WXPordPTz0vbX1Y3iL9P61Me2W4jitFi81SySEjnGcccVMksjSx/Z/tAARvN3kkHj6nBzW1RSp5VyJRU9Fbp2SWmul7a+oPEXd2jKtxNHeWY3SlZIcybiSM49+latFFd+Gw/sIuKd7v8ARL9L/MxqT53cKKKK6CAooooAKKKKACiiigAooooAKKKKACq19ZRX9v5UoHDK6t3Vgcgj3qzRQAiOsihkYMp6EHIpaxfD1tNp/wBusHjYQxXDNC5BAZG+bAz1xnHetqgAooooAKKKKACiiigAooooAKKKKACiiigAooooAKKKKACsrV7lra80xtxWMzt5mBnIEbH+latV7iyiupreWTdut3Lpg9ypXn8CaAOM1HVNU1TRYb5obdNNluIzGRnzcbwASMkVKvja6muGlhtkeyEm0DbiQqDgn72K1v8AhDtL2rGDOIVlEqxBxhWBz1xn9amj8MWEMpeJp0Qy+b5QYFd2c55GevvQBmz+JdSgla5e3t/7OW8NqSAfM64B+9ishZ7yPUEEsNu8739wIWy2EYKCe/Tp6111x4fsbm0e2k8zy3uvtRw3O/OfyzTW8OWD3Mc583fHO9wvzcbnAB/DAoA47w7fJotgupXcSsXgmlDpks2GUYIyB1NdKNU1uztZb7Ura1FmkLSnyMl1wMgHLfyq1B4Y02C1jtgkjQpC8IVn6q5BPI9wKSHwvYRDaWnkTy2iCOwwFIwRwAelAGNe65r0FtbfaLeyCXwKxlAxK5XIz83+NUNJ1P8As8adcXsKN5WmvKskeS3lgnAxnGfwrol8HaYHt2L3DfZz+6BcYX24HP41PH4Y06Nrc7ZWEFsbVQX4KHrn3oAzD4m1C0jBv4IFNzbtPaeWCR8ozh/m64I6fnWZquvare+GryOaGBGubA3ERjH8GQHzknseK6KHwlpkKuAJm3QmBSz/AHEPYY/mc1L/AGRptgLZ3MgWKD7EgJJyrEcHHfjrQaUp+zqRna9mmeNeFJ5YPFGmmFtpaZUPAOQTyOab4q/5GzV8/wDP0/8AOut1b4b6haX4udAdDGrbkWWUblP4jGPqTUemfDnVrzVBc64YhCz75RHKNz/kMfypn2Kx2F5/rHOvhtbrvc7rwa0zeENMM/3/ACRj/dz8v6YrcpscaQxJHGMIgCqPQCnUj46rP2lSU0rXbYUUUUGYUUUUAFFFFAEV1/x6Tf8AXNv5VmaxoWmeIdD+x6rC0luYjna7KVypBIwfQmtO6/49Jv8Arm38qyvEcEt14I1a3gXdNLpsyIuQMsYyAOeOtAD/AA94e0rw7p0dtpMLRw+Wi5Z2YsFGATk+la9c74anTR/BWgW+oN5MyafBGy43YZY1BHy5HWty3u4LqEywvuQHBOCP50ATUVnprenO6otxlmIAGxuv5VPdX9tZbftEmzd0+UnP5UAWaKgtby3vUZ7eTeqnBOCOfxquNZsGlEQn+cttxsbr09KAL9FQXN3BZxh7h9ik4BwTz+FJa3tveqzW8m8KcH5SP50AWKKz21vT0dka4wykgjY3X8qs3N5b2kSyTybEY4BwT/KgCeiq9rfW96GNvJvC9flIx+dQyaxYQzNFJPh1O0jY3B/KgC9RUU9zDbQmaZ9sY74J/lUVrqFresy28u8qMn5SP5igC1RVGXWbCGV4pJ8Ohww2McH8qnlvIIbYXEkmIjjDYPfpQBPRVW11G0vHZLeXeyjJG0jj8RTLjVrK1mMU0+116jYx/kKALtFRNcRJbG4ZsRBd27B6VDbapZ3cvlQTb3xnG0jj8RQBboqlPq1lazGKaba69RsY/wAhUwvLc2n2rzP3GM7sHp9OtAE9FVLbU7O7l8qCbe+M42kcfiKLnU7SzkEc82xyM42k8fgKALdFRR3EUtuJ0bMRG4Ng9KrwavY3MyxRT7nboNjD+lAFaS0nN9cGGPaHRvnYjqR2qutjIGg2WxRkjdXJYckjtzWnc6laWcgjnm2ORkDaTx+AqSG8guLczxPuiGctgjp1ryp5RRm7tve/TunpppsdCxMloZDWE5S38xGKLDs2oy5DfjVidPLbTrUEmRZA3PoOtWYNWsbmZYoZ9zt0Gxh/MUt1dWVlOslw+yRhgHDHI/CksqhBP2b3te/ZNf5fIf1hvfzLlFRW9zDdwiWB96E4zgj+dVU1mwklWNLjLscAbG6/lXrHMX6KrXWoWtkyi4l2FuR8pOfyFOtb23vEZ7eTeqnBO0j+dAE9FUU1mwklWJJ8uzbQNjdfyqe6vbeyRWuJNgY4BwT/ACoAnoqC1vLe9Rnt5N6qcE4I5/GoG1iwSYxNPhw20jY3X8qAL1FV7q9t7JVa4k2BjgHaTn8qS1v7a9Li3l37MbvlIxn6igCzRVFtZsElMTT4cNtI2N1/KrFzdQ2kPmzvsTOM4J/lQBNRVa1v7a9LC3l3levykY/MVFLrFhBK0Uk+10OGGxjj9KAHRw2a6zcToP8ATWgjSU5P+rDOU9upf3/SpJP+P6D/AHH/APZazbWzmHi+/wBR2D7NPYW0Ub56srykjHXo6/nWlJ/x/Qf7j/8AstAFiiiigAooooAKKKKACiiigAooooAKKKKACiiigAooooAKKKKACiiigAooooAKKKKACiiigAooooAKKKKACiiigAooooAKKKKACiiigAooooAKKKKACiiigAooppdFZVZlDN90E8n6UAKSBjPfis5tM+0ayb262yRxKFt4zyFPdiCOD7io00lptYbUbuZnMZIgh/gQf3uSfmPqMVrUARvOiTxwnO6QEj8KZb3UVzF5iZ27ivI71FeLKs8E8URlKbgVBx1FZxsbhLa2/cF5FZm25GBk9DXlV8ZXpVZJQul5P+7bXXvL7johShKKu7f0/wDgG2XVWCk8npQHUttB5rCubC4e6nLRyOHbKsp6D/61X9NtWga4aSPDGQ7WPUinQx1epW9m6Vld669L+XX9QnShGHMpXNCiiivUOcKKKKACiiigCK6/49Jv+ubfypYP+PeL/cH8qbdf8ec//XNv5U6D/j3i/wBwfyoArahpGm6sqDUdPtbsRklBcQrJtz1xuBxTrLTLDTbdrexs7e2gYkmOGJUUk9eAMVbooAx4/CXhyGVJYtB0xJEYMrLZxgqRyCDjg1b1DR9M1YINR0+0u/Lzs+0QrJtz1xuBxV2igCpYaVp+lRvHp9jbWiOdzLBEsYY+pAAqmPC3h9bkXI0PTROH8wSC0j3Bs5znGc571r0UAVb/AE2x1SEQ39nb3UQO4JPErgH1wQabp+k6dpSuunWFtaLIcuLeFYwx99oGauUUAY8nhPw7NK8smg6Y8jsWZ2s4yWJ5JJx1q7e6Xp+pW6wX1jbXUKHKxzxK6g+wIq3RQBS0/SNN0kSDTrC1tBJjeLeFY92OmdoGetVrjwvoF1cvc3GiadLPI255HtY2Zj6kkZJrWooAr3dhaX9qbW8tYbi3OMxSxh1OOnB4qDT9E0rSpHfT9Ns7R3GGa3gWMsPQ4AzV+igDJuPC3h+7uJLi40TTZppG3PJJaRszH1JIyatzaXp9xYLYT2VtLZqABA8SsgA6fKRjirdFAGfYaFpOlStLp+mWdpI67WaCBIyR6EgCmXnhzQ9QuWub3R7C4nYANJNbI7HHTJIzWnRQBXextJLH7C9tC1oU8vyGjBTb6bemPaqtj4e0bTLj7RYaTY2s20r5kFuiNg9RkDNaVFAGZeeHND1C5a5vdHsLidgA0k1sjscdMkjNWF0uwXTjpwsrYWRXb9n8pfLx6bcYxVuigDNsfD+jaZcfaLDSrG1m2lfMgt0RsHtkDOKW/wBB0jVJlm1DS7K6lUbQ89ujkD0yQa0aKAK8FjaW1kLOC2hjtQpUQpGAgB6jaOMVStPDOhWNylzaaNp8E6fckitUVl7cEDIrVooAzr/QdH1SZZtQ0uyupVXaHnt0dgPTJB4qa10uwsrNrO1sreC1bO6GKJVQ56/KBjmrdFAGVaeGdCsLlLm00bT7edPuSRWqIy8Y4IGRU+oaNpeqlDqOnWl2Y87DcQLJtz6bgcVeooAr2VhZ6bbC3sbWC2gBJEcMYRcnqcAYqhF4V8PwTpPFoemxzIwZZEtIwyn1Bx1rXooAo6houl6qyNqOnWl2Y8hDcQLJtz6bgcU6w0rT9KjePT7G2tEc7mWCFYwx9SABmrlFAGRH4W8Pw3C3EWiaak6vvWRbSMMGznIOM5zVy/0rT9VjSPULG2u0Q7lW4iWQKfUAg1booAqWGlafpUbx6fY21ojncywRLGCfUgAVTl8LeH57h7iXRNNed2LtI1pGWLZzknGc+9a9FAFO/wBJ07VIkj1CxtrtIzlFnhWQKfUAg4pun6NpekmQ6dp1paGTG828Cx7sdM7QM9T+dXqKAMmTwtoE1y1zJommvOzb2ka0jLFvXOM5q7e6fZ6lbfZr60guYMg+XNGHXI6HBGKs0UAUdP0XS9JaRtO060tDIAHNvAse7HTO0DPWq9z4X0C8uJLi50TTpppDl5JLWNmY+pJGTWtRQA2ONIo1jjUKiAKqqMAAdhUMn/H9B/uP/wCy1YqvJ/x/Qf7j/wDstAFiiiigAooooAKKKKACiiigAooooAKKKKACiiigAooooAKKKKACiiigAooooAKKKKACiiigAooooAKKKKACiiigArMPiLSFleNr6IMj7GzkBW9CegrTrzmKazht9dt7rTZJ7ia6k8kCIFiTwCD16+lAHfw3Uc0sqKHHlnBLIQD9CRg/hUxIAySMV55JJqiR6nBJe3kTRywKrqDg4T5hnIwCe4p9pqNy8tq+o/2lFYtbHYodxmQOwJLZBPGMcmgD0AkAZJApcjOM81xUt4yNYtcy6l9ge3YqcsjeZuP3iG9OnJqKOfXYtDtr4PdPO8j26o4YNsfhHYYP3T3569aAO53DGcjFBYDqQK4PWU1axvrW0N9dC1W1/wBarNh5e5J9fQZNWtIh1K48QC31C8upUjsUcsGZFZycZIBAzz0oA7PI4560Vy+hLqF1qbi5uZTb6butuWOJ5M/fPrgYHOea6C+vIdPsZrudtsUSlm5A/DmgTaSuyxQCD0rjLOPW/FQ+3m+m0zT2/wBVbqDvYepI2nH4mpbnQdc05ften65cTGL5jbS7mEoHYElsH8Kz53ulocqxMmueMG499PvsdcT+dY1jZXt1frqWoM8LplYrVGyij1PJyT7Yql4Xvp9daXVZrhkUMYlst3+pI67sYyT7iumq001dHTCcZxUovRhRRRTKGSSxxDMjqgPdjimtcwIqs00YDdCWHNU9TtpJmicZaNcgoM8n1qFbBi1oHQtGu8srZOMjgc15lbF4iNWUIQ0VrP1aV/TV/cdEacHFNs0jcwDbmaP5vu/MOfpQtzAzlFmQuP4QwzWXZWMontzOmVSNh82Tg5460qWsrNFGsPlSxtl5+fn9e3OayhjsTKKk6dr9Nb9P83vpoN0YJtXLFrqizyFXQRqELli3AwxFWvtltgn7RFgf7YrGSwuBFONnLQso4PXeT6VcGnpuOYVx9nAxj+P1+tZYbFY5wSlG77vT8i6lOlfRl9riFApaVFDdCWHNI9zBGcPNGpIzywHFYz2NyYoGk3OBHs2c5B9anNgxuF3rvQW5Ubsn5q0WPxUrpU7bb36k+xpr7Rd+3IdQ+yjbym7du7+lWqy7W0db2GWRBxbqGYjndWpXbgqlapGUqvd29DKrGKaUSK6/49Jv+ubfypYP+PeL/cH8qS6/49Jv+ubfypYP+PeL/cH8q7DIkooooAKKKKACiiigAooooAKKKKACiiigAooooAKKKKACiiigAooooAKKKKACiiigAooooAKKKKACiiigAooooAKKKKACiiigAooooAKKKKACiiigAooooAKryf8AH9B/uP8A+y1YqvJ/x/Qf7j/+y0AWKKKKACiiigAooooAKKKKACiiigAooooAKKKKACiiigAooooAKKKKACiiigAooooAKKKKACiiigAooooAKKKKACq/2GzMvm/ZYPMznd5Yzn61YooAhe0tpN++3ibectuQHcff1pHs7WSNY3toWRfuqyAgfQVPRQBC9pbSxrHJbxOi/dVkBA+gqTyo9ipsXauCoxwMdKdRQBHNbwXAAnhjlA5AdQ2PzpVhiWTzFjQPjbuCjOPTNPooAhtrWK1jZIlxucux7sxOSTXNfEJpF8L4UkRtcRrLj+5nnPtnFdXVLV7WC90i7t7ogQPEQ5JxgevUfzqZq8WjHEU3UpSgt2ixaxwxWkSW6qsKoAgXpjHFS1wGheIrrQNMhtdSsLya1GRb3MUWBtB4yCAB+Zq/P4zbUVNnpGnXrXMw2pM8Y2Rk/wARxu4H0qVUjbUxjjaSjaWj7dfQPCwEfi3xHDb/AC2iyoQi/dD4+bFdhWN4a0L+wdL+zvIss8jmSaRQQGY+3/6q2acE1HU0wtOUKSUtHq/S7vb5BRRRVnQFFFFABRRRQAUUUUAFFFFABRRRQBFdf8ek3/XNv5UsH/HvF/uD+VNuv+POf/rm38qdB/x7xf7g/lQBJRRRQAUUUUAFFFFABRRRQAUUUUAFFFFABRRRQAUUUUAFFFFABRRRQAUUUUAFFFFABRRRQAUUUUAFFFFABRRRQAUUUUAFFFFABRRRQAUUUUAFFFFABRRRQAVXk/4/oP8Acf8A9lqxVeT/AI/4P9x//ZaALFFFFABRRRQAUUUUAFFFFABRRRQAUUUUAFFFFABRRRQAUUUUAFFFFABRRRQAUUUUAFFFFABRRRQAUUUUAFFFFABRRRQAUUUUAFFFFABRRRQAyWVIYnlkOEQZY46CqWl6gdUiluUUfZGbEDEYZgOpIz65x0pbe5h1eC5Ty2NtuMWTxvxwcYOeuR2q7GixRrGgwqgAD0FADqKKKACiiigAooooAKKKKACiiigAooooAKKKKACiiigCK6/49Jv+ubfypYP+PeP/AHB/Kkuv+PSb/rm38qWD/j3i/wBwfyoAkooooAKKKKACiiigAooooAKKKKACiiigAooooAKKKKACiiigAooooAKKKKACiiigAooooAKKKKACiiigAooooAKKKKACiiigAooooAKKKKACiiigAooooAKryf8AH9B/uP8A+y1YqvJ/x/Qf7j/+y0AWKKKKACiiigAooooAKKKKACiiigAooooAKKKKACiiigAooooAKKKKACiiigAooooAKKKKACiiigAooooAKKKKACiiigAooooAK5G88ZzTajJYaHYpfTR/fZpPLC/gwH86m8d3k0GiRWsLFGvZ0ty4JBUHrW5pmm2+k2EVpbIFSNQMhQCx9TjvWbbb5UclSVSpUdKm7Jbvrr0X+Zy58Zanp08a61pEdrCzBTKk4bb+AyTXRwXlprcF3BExaJT5TkAjqPcVemhjuIXhlUPG6lWUjIIrlPA7NaNq2i7i8Vhc7Y3PUhs8enbt60K8XZu9xQc6VRQnLmUtu6a9DqoII7aCOCJQscahVUDAAFSUUVodgUUUUAFFFFABRRRQAUUUUAFFFFABRRRQAUUUUAFFFFAEV1/x6Tf9c2/lSwf8e8X+4P5Ul1/x6Tf9c2/lSwf8e8f+4P5UASUUUUAFFFFABRRRQAUUUUAFFFFABRRRQAUUUUAFFFFABRRRQAUUUUAFFFFABRRRQAUUUUAFFFFABRRRQAUUUUAFFFFABRRRQAUUUUAFFFFABRRRQAUUUUAFV5P+P6D/AHH/APZasVXk/wCP6D/cf/2WgCxRRRQAUUUUAFFFFABRRRQAUUUUAFFFFABRRRQAUUUUAFFFFABRRRQAUUUUAFFFFABRRRQAUUUUAFFFFABRRRQAUUUUAFFFFAGL4p0htZ0SSGHi5jIlgYdQ46Y5FVNG8U272sdvrEosdQQbZI7k7NxHfJABz7V0tZ99oWl6k2+7sIJX/vlcN+Y5qHF3vE5qlKan7Sk9dnfZ/wDBKt94p0m2hfyr6C4uNp8uGF97O3YDbmq/g/SrjT9Olub9WF/eyGabd94egPPb8OtXLbwzotpKJYdNtxIvRmXcR9M5rWoUW3eQQpVJTVSrbTa3mFFFFWdIUUUUAFFFFABRRRQAUUUUAFFFFABRRRQAUUUUAFFFFAEN1/x5z/8AXNv5U6D/AI94v9wfypt1/wAec/8A1zb+VOg/494v9wfyoAkooooAKKKKACiiigAooooAKKKKACiiigAooooAKKKKACiiigAooooAKKKKACiiigAooooAKKKKACiiigAooooAKKKKACiiigAooooAKKKKACiiigAooooAKryf8f0H+4//ALLViq8n/H9B/uP/AOy0AWKKKKACiiigAooooAKKKKACiiigAooooAKKKKACiiigAooooAKKKKACiiigAooooAKKKKACiiigAooooAKKKKACiiigDk7rxBcabrGuSTF57WzhidIBgcscHBx71X1rxPczaLeJb281pdRiGTeH5COeD068Y/HrW5eeGrG9lv5JWmBvkRJdrAYCnIxxxSXXhmxvBcCRph58UcT7WHRDkY460AUl8WeRbXT3NjKotAiMQ+S7sBgDIHr/APWpbjxcLDeL/TpoH8rzYwGzv5AxyBzyPWr8nhywmgvIZRI6XbK8gL4wVAAxj6VBJ4T0+43m6e4uGaLyQXYDauQcDaB3A60AZN/r9/FrenyS209tCsM0rw7jiXCEgHIHIxWxd+JIbO8hglgcJJaNdF9w+UAdPrTf+EVsnuYp5p7mZ4o2iXeygbWUqR8qjsafB4YsIZGeR552MH2ceYwGI/QbQPzoArPr93c6ZPLHpk8SvbNLDKSeOOM/Lwe/esjRvFH2ax87UPtMssdmjkmQnzCXKjAJxk4ro7bw7a20ZjWe4aPyWgVGK4VDxgYXP55qBPCGlpA8LCZ43t1tyGf+FSSDwBzk0AQXfit7C3mku9MljdIRMib/AL43AEcgcjI9as6f4ha71VdPnsZbeR4fPQscgr+IHP50k3hSyuYJYrie5l8yIRbiygqoIOBhQOoHXNXhpFsNWi1LMnnxweQoz8u36Y60AX6KKKACiiigAooooAKKKKACiiigAooooAKKKKAIbr/jzn/65t/KnQf8e8X+4P5Ul1/x6Tf9c2/lSwf8e8X+4P5UASUUUUAFFFFABRRRQAUUUUAFFFFABRRRQAUUUUAFFFFABRRRQAUUUUAFFFFABRRRQAUUUUAFFFFABRRRQAUUUUAFFFFABRRRQAUUUUAFFFFABRRRQAUUUUAFV5P+P6D/AHH/APZasVXk/wCP6D/cf/2WgCxRRRQAUUUUAFFFFABRRRQAUUUUAFFFFABRRRQAUUUUAFFFFABRRRQAUUUUAFFFFABRRRQAUUUUAFFFFABRRRQAUUUUAFFFFABRRRQAUUUUAFFFFABRRRQAUUUUAFFFFABRRRQAUUUUAFFFFABRRRQAUUUUARXX/HpN/wBc2/lSwf8AHvH/ALg/lSXX/HpN/wBc2/lSwf8AHvH/ALg/lQBJRRRQAUUUUAFFFFABRRRQAUUUUAFFFFABRRRQAUUUUAFFFFABRRRQAUUUUAFFFFABRRRQAUUUUAFFFFABRRRQAUUUUAFFFFABRRRQAUUUUAFFFFABRRRQAVXk/wCP6D/cf/2WrFV5P+P6D/cf/wBloAsUUUUAFFFFABRRRQAUUUUAFFFFABRRRQAUUUUAFFFFABRRRQAUUUUAFFFFABRRRQAUUUUAFFFFABRRRQAUUUUAFFFFABRRRQAUUUUAFFFFABRRRQAUUVW1DULTSdPnv7+dILWBd8kr9FFAFmiuXs/G1pcXkcU9jf2sMzbYLiaynVHJPHLRgDI55Nbo1PT2it5BfWxjuW2wMJlxKfRTn5j9KALdFct4n8d6R4c0c6gLq0u9tyls0aXKgqxODnGeQOSMVtNrelRy28L6nZJLcKHhRrhA0inoVGfmB9RQBfoqjLrekwXX2WbU7KO43BfKe4QPk9BgnOaINa0q6Sd7fU7OZLcZmaOdWEX+9g8fjQBeoqhFrmkTWsl1FqtjJbxECSZbhCiZ6ZOcCrkM0VxCk0EiSxONyujBlYeoI60APooooAKKKKACiiigCG6/485/+ubfyp0H/HvF/uD+VJdf8ec3/XNv5UsH/HvH/uD+VAElFFFABRRRQAUUUUAFFFFABRRRQAUUUUAFFFcdqPxI0fTNWvrO5Eyw6fJHHeXIhlMduXxt3MEKjOR3oA7GiqMmtaVDdraS6nZpctjbC06hznphc5ptxr2j2t0LW41WxhuC20RSXCK+eOME5zyPzFAGhRVS71TT7CSKO8vra3eXiNZplQv9ATzSXmradp7Rre6ha2xl/wBWJplTf9MnmgC5RXLjx1pT+NLXw5DcWsrXNp9pSdLgEE5wEAAwSRz1zjtW5e6tpumsgv8AULS1L/dE8ypu+mTzQBcorOuNf0azcpc6vYQMADiW5RTg8jqe/an3Ws6VYmEXep2duZxmHzZ1TzP93J56jp60AXqKz5Ne0eG2iuZNWsEt5mKxytcoFcjqAc4Jpza1pSWf2xtTsltd+zzjOoTd0xuzjPtQBeoqiNZ0trOS7GpWZto22PMJ12K3oWzgHmiTWdLitormTUrNIJs+XK06hXwMnBzg8elAF6is2HxFolxLFFDrGnySTf6pUukJft8oB56dqnbVNPS+Wxe+tlvGGVtzMokP0XOaALdFUV1vSmvPsa6nZG63lPJFwu/cOo25zkdxWT4T8ZWPi06mto0Iaxu3tyEmDl1U4D9Bwe3Ue5oA6SiqP9s6X/aH9n/2lZ/bc4+zeevmZ/3c5rH8IeL4/Fw1KSC2SKC0uWgSRZxJ5uCQWxgFenf1oA6aiiigAooooAKKKKACiiigAooooAKKKKACq8n/AB/Qf7j/APstWKryf8f0H+4//stAFiiiigAooooAKKKKACiisbXPE+naE8NvPIZL64BNvZwo8ksuOpCoCce+MUAbNFYum+J9PvrcvM7WUqyCJ4rtHhIdvuqPMVckjpir9zqunWQlN1f2sAiKiQyzKuwnpnJ4z2oAt0VhReK9NuPFC6JDc20jtZfbBIk4ORuxjA9uc56du9XIdf0a5Exg1ewlEClpilyjeWB1LYPA+tAGjRWYPEmhFZWGtacREAZCLpPkB6E88VNcavplpbRXNzqNpDBLzHLJOqq/GeCTg0AXaKonWtKEkMZ1OyEkwVolM65kDcKVGec9sdavUAFFFFABRRRQAUUUUAFFFFABRRRQAUUUUAFFFFABRRRQAUUUUAFFFIwJUgHBI60AMe4gjmSF5o1lk+4hYBm+gqSuGvfCGtza5Fdpr8pjycMQ26LPoM4/UVd/4RbW/wDobLr/AL9H/wCLrNSl/KcaxFZtp0n96/zOsork/wDhFtb/AOhsuv8Av0f/AIuj/hFtb/6Gy6/79H/4unzS7Fe3rf8APp/ev8zrKK5P/hFtb/6Gy6/79H/4uui062ms9Pht7i6a6lQENM4wX5+pppt7o0p1JydpQa+a/Rlqud8d6ddar4L1K0soPtFyVR0g4/elHV9nPGG2459eh6V0VV7m+s7Ly/tV1BB5h2p5sgXcfQZ6mqNjjv8AhJbzU47KyTwheiSRgsgmgkjS0GMbgzxhW29sEZ7Vx2jWXiK6s/A2jT6NqVvLo1001/NIrhdqA4+YgK24kfdZvxr1+41XTrOTy7m/tYHwDtlmVTg9OCe9O/tCyF2LT7Zb/aScCHzV3njP3c56c0AeDXfhnV7/AMNazZHwzfuiapazWskqOZJAzfvRhhuO0HBc5yK2/Euh6nFP4it4tCv7u+kMa6DdQNIBbRhFAVHX5YwrBjhiue/WvUdR8Q2Nlo+p38E0V4dPheWWGCVWYbQTtOOh471m+HvG9jrsPmyRixT7La3AaeVQD56swUHjkbT9aAPLdc8K+Ip18V3MlhqU+pINN+xXEe8M7jYJmj2nGfvZI6c1oeJvC2s2euavb+HLC/t7C50SIyeRvKSzCcFx15cx56ckZ65r1yPWtKlRXj1OydWfy1ZZ1ILf3Rz19qmm1CytriK3nu7eKaXiOOSQKz/QE5NAHglz4Q12Hwt4i/sttYl328SR2os5oPOfzFJKo2OVA6gcg9eK98sreK0sYLeGMRxxRqqoP4QB0qGbWNMt5jFPqNpFKG2FHnVTu64wT1rJ0LxhZa94h1vR4VVJtKlWNj5obzcjJIA5wDwfegDo6KKoavY3OoWXkWl/JZSbw3mouTgduopMmTaTaVy/RXJ/8Itrf/Q2XX/fo/8AxdH/AAi2t/8AQ2XX/fo//F1PNLsc/t63/Pp/ev8AM6yiuT/4RbW/+hsuv+/R/wDi6P8AhFtb/wChsuv+/R/+Lo5pdg9vW/59P71/mdHPNFLb3KRyIzojBlBBKnHej7TBbWsLXE0cSlVALsBk46c1xtv4S1y1vbq7k8QS+TySoDZlwO4zgfrU3iHwtq2rGGe11dliXa32dtwC9ORgnJ/ClzytexDxFf2bl7N37XX+Z2tFcn/wi2t/9DZdf9+j/wDF0f8ACLa3/wBDZdf9+j/8XT5pdi/b1v8An0/vX+Z1lFcn/wAItrf/AENl1/36P/xdH/CLa3/0Nl1/36P/AMXRzS7B7et/z6f3r/M6yiuT/wCEW1v/AKGy6/79H/4uj/hFtb/6Gy6/79H/AOLo5pdg9vW/59P71/mdZRXJ/wDCLa3/ANDZdf8Afo//ABdH/CLa3/0Nl1/36P8A8XRzS7B7et/z6f3r/M6yiuT/AOEW1v8A6Gy6/wC/R/8Ai6P+EW1v/obLr/v0f/i6OaXYPb1v+fT+9f5nWUVyf/CLa3/0Nl1/36P/AMXVix8O6ta30M8/iS5uIkbLQtGQHHp940c0uw1Wqt2dN/ev8zpK8H8R+FdeuPGniLUf7O1C60Z9StTdaegcJfwbVy3H3tjDPAJr3iirOk+fbrwj4hu/EGrS3z6xHcyagxs5Y7WWT9yW+QrKnEYA/hyMY7VravZieTxZanQr7V9YSZIrO9iE2Ul+zQ4IZQVjIbDckZzzXtlQQWdvayXEkEKRvcSebMVGC77QuT74VR+AoA8L17wr4uudRgOrT6pcbNMt0geKF5v34XEgzGT5bbud5xn14rT1jQ9YttauBq2man4gtToyRafMpl/d3AXDfKm4qxODvbHTrXtFFAHi3gfwneweL/C99qGiXCGHQsT3E0bDZcByAGJ6Nt7elM8deGtf1Lx9fXF02ovpLW6fYjDavcorAfMoVM7TnncQK9kvL+z0+NZL27gtkY4DTSBAT6ZJpwu7ZpxALiIzFN4jDjdt9cenvQB43pfgy9utT1saxYX15GmhQLayXHmfNOEPAyeXBwM9fzqst1b6TZ6T/wAJrYTXUv8AYcSwLdzOrwzK8m8EDJVmBj+c4xt4PBx7OdX00PCh1C0DTDMSmZcv2+Xnn8K5C2v/AAn45OrXOqWVps0m8exaa4mG1gMHdnIG05OM+hoA4HwZY3Mnhjw/daxo9/qumNa3Iji2SyeXMZyQxCgnleAxGABweaq2VtqGkaZ4dk8RWN1FpC31813p91OwPzf6lmB+aQA9DgjvxXuNreaLYaXB9lubC308ArD5UiLFgZJC444wenvVXUE8M6/HbxX0un3iyMfIBmUlyOoXB5/CgDwrT9M1/XPB6zaUmoLpL+IJ3nhhLzfuCqhTjO6RQQRgA5rpbfwjqrW3hW1nTU7yx/tiSSeOWOWPyYNmAGBOVQ4zjgDOMV6xZnQtDEWkWb2FkR/q7RHRCc+i9ST+tWDq+mgyg6haAwjMv75fkGcZbnjnjmgDyXWfB1xY6TfXOkaReJf2/iFDZGEyb0tvkJ2c/wCryX9utZ0vhPxPc+N76e9utWjuH1Mta3EcEjKtvnKkSIdqqORsJHuOa9yt7iC7gWe2mjmib7skbBlP0IqWgDxWLwzq63etakdOvxqA8WI1tMN4b7KZF3so6bCpbPbHXpXT/DHw6+if8JOz6W9hJNq04gZ0K74M/Jtz1Xk4r0OigDwkaLrv/CNrZjQtUHjQXYzq+6TOPMz5nm/6vGzjZvx/KvQfhhojaJ4XmjnsGs7mW+uWdXQqzL5rbDg9tuMe1drRQAUVn6xYXWo2QhtNQksZA4bzUXJI546isP8A4RbW/wDobLr/AL9H/wCLqW2tkYVKlSLtGDfzX6s6yiuT/wCEW1v/AKGy6/79H/4uj/hFtb/6Gy6/79H/AOLpc0uxHt63/Pp/ev8AM6yiuT/4RbW/+hsuv+/R/wDi6P8AhFtb/wChsuv+/R/+Lo5pdg9vW/59P71/mdZRXJ/8Itrf/Q2XX/fo/wDxdH/CLa3/ANDZdf8Afo//ABdHNLsHt63/AD6f3r/M6yiuT/4RbW/+hsuv+/R/+Lo/4RbW/wDobLr/AL9H/wCLo5pdg9vW/wCfT+9f5nWUVyf/AAi2t/8AQ2XX/fo//F0f8Itrf/Q2XX/fo/8AxdHNLsHt63/Pp/ev8zp5rmC32+fNHEHO1d7AZPpzTJD/AKbAc8eW/P8A3zXF6r4N126jhRfEUs5Emf3oZQnuCCeavr4d1dLBLF/EM7XDIxW42nK428fezSUpX2JjXrOTTpu3qv8AM6iK5gnZ1hmjkaM4cIwO0++OlS1wWl+C9dtZLkN4ilhLMDvjDN5nuckc/nWj/wAItrf/AENl1/36P/xdCnK3wihiK7jd0n96/wAzrKK5P/hFtb/6Gy6/79H/AOLo/wCEW1v/AKGy6/79H/4unzS7F+3rf8+n96/zOsornLDw9q1pfwzz+I7i5iRstC0ZAfjp9410dUm3ujanOUleUbfd+gV554qsNS034kaT4pt9Lm1SySzazmjjXcbYltwkVQGYk5x8q9uTXoLukcbO7BUUEszHAAHc1VbVtNS1N02oWi24bYZTMoTd6ZzjPtTNDznxc+seItEF5p/hu8gex1a1usBWSW7iTO87SquMdMYJPYVneI7HUPEcWt3r6Xq1vDPd25tgIJ2Y+VEckxAAlSxx8y47817BDNFcQpNDIkkTjcrowKsPUEdahm1Cyt7mO2nvLeK4k/1cTyqrP9ATk0AeMJ4a8R3elteWmiXOm623h0wxyK2HWUTAbQ3AVjGOnBANQa3o+o3dhCnhnwxqmmSLp1yNQKiZfNYwkLGQ4HmtvwQwyc/WvbH1XTo7oWr39qtwSF8pplD5PQYznNF1qunWUqxXd/a28jDcElmVCR64JoA8stfBAXxb4URtJuhp0ukkaoC0nlvMEG0S84LZzwf6Vz+qeGfFN7/wjiXy6qukxWDxPGtu9x5Mwdsbo1yxJTaASOB3r3OfVdOtWiW4v7WEyjMYkmVd49snmkm1XTrdIXn1C1iWb/VM8yqJP93J5/CgDyzwf4Wv4/HOmy6na31xY2+jKYprlJFWObzmZVIY/eVSMA8gelev1Tl1bTYLdLibULSOCQkJI8yhWPsScGrUciTRrJE6vGwyrKcgj1BoAdRRWHrGi6jqN4s1prk9jGECmJEJBOTz94ev6Um2tiKkpRV4q/8AXmblFcn/AMItrf8A0Nl1/wB+j/8AF0f8Itrf/Q2XX/fo/wDxdTzS7GHt63/Pp/ev8zrKZNNFbxNLNIkca9Xc4A/GuW/4RbW/+hsuv+/R/wDi6q6l4R1ybT5ox4knuCwA8p0YK3I6kMf5UnKX8pMq9ZRbVJ/ev8ztEdJEDoysp6FTkGnVznhjQNT0YH7drD3alcCI5Kr9CT/Sujq4ttao6KU5TgnONn2CiiimaBRRRQAUUUUAFFFFABRRRQAUUUUAFFFFABRRRQAUUUUAFeG/FfwtrF/41N+IL26sLixFtEtjZtO0bdw+MYB9ck+1e5UUAeIL4DmfXrmO/sbm8jtvCiwQTmF4w0w3YXCnG4DA25NTeHvCOp3V/wCKZmtJbXUJdHtIbK6njdUEhgZXGMYOOARg4r2mmu6xozuwVFGWZjgAetAHglt4bvLqNTpXh6/0t9O0S4tL83MUh+2yNHtVYcg5G4E8YPzDimX3hXVL3wvpdlNpN4yltFSZPIcEKkcokzgZG3cM+me1bvij44w6dqc1po1ulwsLbTNIgdGI7qVk5FP8K/HC21G8W21uFLYyEBJY0CRj/eLSVv8AV6nLzWM/awva5h+K/h8q6p45k0/RLpl+x2rWBRZXDS7gX29dx46c4ql4s8Ha5d+Mb2W6g1GSPUYoBBLaaeZljAUArIfl2kH0zX0NFNHOgeKRXRgCrKQQQehHtT6wNDw2/wDAst1/wsWe8025urw28K2MwjkXzmWEZKKOG+YDgZ9K6f4a6BLpvifxReXGnz27TPB5UkiuocGMF8Z4Pzfl0r0uigAooooAKKKKACiiigCG6/485/8Arm38qdB/x7xf7g/lT2UOjK3IYYNCqFUKOgGBQAtFFFABRRRQAUUUUAFFFFABRRRQAUUUUAFFFFABRRRQAUUUUAeU+N9NNt8QI9b1TQb/AFzS3sPs0EOnxu0kEm4li23AwR6n8Kjv4Z/C/jDSvEVt4d1O4099F+wLaWkLyy27BgwDZ7Y4yTn2r1qigD55h8L3+laz4bddA1G4ult7dbhRBIIcby3zSYJUrkZG361abwpdWOrXmp3Gg3t3pNt4hu5ZLKGOTzpkaNBFJHxyFO/nIBz1OK98ooA8Gs/CE+qeJrK+GhXtpoF3rKTLYzxyCWEJC4Z5D1UM+CPmI/lVzT/AyWC+KriHRrlZo9et5LH5ZTmITRsSoP3h97nmtv4ifFlfDV0NN0UQXN8v+tZgJET2+VwQ3sRXB2fx08UxXaNeRWMlvu+ZVtznHt8w5rojhqko8yMpVop2INZ8E62/iTWbS9g1SWW9vmlS4tNNMsLKxGCXyuCAOQARx1roR4OKfDvxCLzSdRe+n1yVwYLZ3kdBJlXEeQCOpz0r1Xwt4t03xXpKX1lIAeFkiZl3xt7gE4z2rfrBpp2Zommro5P4bxXMPgaxju7GWymDSZilDB/vk7iCARnriusoopDCiiigAooooAKKKKACiiigAooooAKKKKACiiigAooooAKryf8AH9B/uP8A+y1YppRS6uR8yggH6/8A6qAHUUUUAFFFFABRRRQBl+JoZLjwrrEMSNJJJYzIiKMliUIAAHU14/438GX8Nh4UlsLS7/s60tNk1vaWzTzRysoy20447HLDHpXulFAHnHhTQ/Etn4K0uHSr/wCyEzSzSpe2wikCu+QpUhsHqeveuH8eeD9Xv/HWqCaPUZotQeI28tnp5mjRMAYdsrgggnjPHevf6KAPn/xJ4L1Ce48Z3R0y7urxG037FOkDjzSoxIyqOG6DI5xVXxxHY6Vd+MYtYsnvtR1JA9lcwOQsKhAAjjIGQR6HNe7ax4i0nQY1fUb63gLfdWSZFY/QMRWDZXvgrxLrUd7Dc2k2pIQY8Xg3Eg5GFV8H8qrldr2FzK9jgX0f+zNdurnWvDGp6zHqGn20dm1jHJ+4VYgrRybcAHPOeTWettY+HdU0268UaZNewzaHbW1vBEzJJaMqjesgyvUnOSSR6V9AVk6r4a0jW5Ul1C0850GFPmOuB+BFSM+em8N6pcaR4Y1WG2vpNL+wSQwx2NmbiSFvOdvmHAwRjBLdulez/C3RJ9C8Ew205nBkleZY54PKeMNg7SuTz1/OuxiiSCFIo12oihVGc4Ap9ABRRRQAUUUUAFFFFABRRRQAUUUUAFFFFABRRRQAUUUUAFFFFABRRRQAUUUUAFFFFABRRRQAUUUUAFeWfHTXLjTvC1rpsDBRqMpWUlQcooBIB7ckV6nXBfFnwpc+KfCYFiive2cnnRqzBdy4wwyfbnqOla0WlUTkRVTcHY8G8DaZbXerz39+hbTtKt3vLhQxBbAwqjHJyxHTH1FO8cWVkmoWWq6ahSx1W0W6RGJJR8lXXnJGGU9z9ak0/wAUJoPgy40vTmmh1i4vQ91IPlAiQYVQykHrnI5FU9S8Q/234ctrXUJpptUt7tmhZiWBidVypYkn7y8DgcmvU97n5uhw6ctup6z8ENenuNHl0ydgUsp1SIhQMJIrHGe/zLXsdeT/AAs8OTeH7S2tL1Auo3cv26VFYNshVCqAkdyWzgE/hXrFeXXadRuJ20k1BXCiiisjQKKKKACiiigAooooAKKKKACiiigAooooAKKKKACiiigAooooAKKKKACiiigAooooAKKKKACiiigArE8YanNo3g/VtQt8CaC2ZkJGcNjAOK26r39lFqOnXNlOMxTxtG4wOhGO9OLSauJ7aHzJ8KmdvGNxLvVZfsFxIHYcBtuckD39q3Lu91LWfBPiBdW1Sy1R4Io5YFto3jMRDgFzlEBGOMc/Sse2tbj4WeMpRrdsZLeW3lhQwlZPMRxjPJHb1x9KrXXibw1ZaNqFtoOn3MVzfQ/Z3luIYxtjLAkAocjOPcV6klzS5l5HEtI2fmP+E+oTWfj20tUP7q/VreYYByCCRj0wQK+nrOUz2NvMeskasfxGa+fvhp4Zu9LkHiS8iVWniaDTIwwYySsMbj/dAHfINfQVpD9ns4IP+ecap+QxXHi5J1NDfDpqGpNRRRXMbhRRRQAUUUUAFFFFABRRRQAUUUUAFFFFABRRRQAUUUUAFFFFABRRRQAUUUUAFFFFABRRRQAVzvjnxIPCnhO81RRmdQEgBXcDI3C5GRxXRV558adOmv8A4ezSQjP2SdJ3GcfKMg/X71XSSc0mTNtRbR4Nb29x4pvNR1vWL2OKGDa93cFcHLHChVVTyTntjjrT7zw/HDpX/CQaJfLdWVrOscrNkPFIeV4ZFBH0zT/D2l3Wv+HdW0vT1El6s8F4sRYLvjRZEbk8ZBkU4JFMv/B+p6NoMmpaqVtA0ixwQeZuMx7n5cjAHqR+NetdJ2v8jgtpex7l8MfHFx4j0BG1Bw13bzLb3DLHtDbv9Wwx+R6fTvXo9eBfCKzmi8P6jdHhb+9t7aDnqyNuY+3Fe+15leKjUaR20m3BNhRRRWJoFFFFABRRRQAUUUUAFFFFABRRRQAUUUUAFFFFABRRRQAUUUUAFFFFABRRRQAUUUUAFFFFABRRRQAUEZGKKKAOL8R/D/Sdana4k06GSZjlnSONXb6sQc1V0LwFb6S7/ZdOtrVz0uJI45JF/wB1l2kV31FX7SVrX0J5Ve9ihpekwaVCyxs8srndJNJgu59z3q/RRUFBRRRQAUUUUAFFFFABRRRQAUUUUAFFFFABRRRQAUUUUAFFFFABRRRQAUUUUAFFFFABRRRQAUUUUAFFFFABRRRQBn6po9rqsXl3MMEyf3J4hIv1we9c/B4G0+2uRJb6XpcLDkSixTKn1GCCK7CimpNKyYmkzL03Q4NPma4eWS5uW482bBKj0U9QPbNalFFIYUUUUAFFFFABRRRQAUUUUAFFFFABRRRQAUUUUAFFFFABRRRQAUUUUAFFFFABRRRQAUUUUAFFFFABTZI0mieKRFdHBVlYZBB7EU6igDwvxZ8Gvs9499od9NDvcnySiqI8/wB1gVAHtWNpvwpuru7V9Z1SdlX/AJZxKJpH/wBkEM2364NfRUkUcy7ZY1dfRhkVHHZWkTh47WFGHRljANdCxVRK1zL2ML3Of8O6Cbf7LcT2y2kdrH5VtZoF2xjuxxxuPcgCunoorn3NQooooAKKKKACiiigAooooAKKKKACiiigAooooAKKKKACiiigAPApu8e9FFACg5pc0UUAJmgHNFFAC0UUUAFFFFABRRRQAUhOKKKAAHNI7hOufwoooAYs6t0BpVlVjgA0UUAOZwvXNNMyjsaKKAHK4bpmo2uEV9pDZoooAlByM1E1yinBDUUUAPSQOCRmo2u41OCG/KiigCRJVkHAP40+iigBhkAOMGn0UUARPOqNgg59qVZlY4ANFFAD2YKMmmecvoaKKAEWdWOADSiZScYNFFADncIuTn8KRJA44z+NFFAD6jMyiTZg5oooAJJ1jYAg8+lPB3DIoooANw3YpaKKAG7wDjmmyzLEuWBP0oooAdG4kUMM496cTgZoooAaHBXPNKGBGaKKAEVw+cZpQc0UUALRRRQAUUUUAFFFFABRRRQAUUUUAFFFFABRRRQAUUUUAFFFFABRRRQAUUUUAFFFFABRRRQAUUUUAFFFFABRRRQAUUUUAFFFFABRRRQAUUUUAFFFFABRRRQAUUUUAFFFFABRRRQB/9k=\" />"
            ]
          },
          "metadata": {}
        }
      ]
    },
    {
      "cell_type": "code",
      "source": [
        "!pip install chromadb"
      ],
      "metadata": {
        "id": "FS6xFFPtrcnq"
      },
      "execution_count": null,
      "outputs": []
    },
    {
      "cell_type": "code",
      "source": [
        "import uuid\n",
        "from langchain.vectorstores import Chroma\n",
        "from langchain.storage import InMemoryStore\n",
        "from langchain.schema.document import Document\n",
        "from langchain.embeddings import OpenAIEmbeddings\n",
        "from langchain.retrievers.multi_vector import MultiVectorRetriever\n",
        "\n",
        "# The vectorstore to use to index the child chunks\n",
        "vectorstore = Chroma(collection_name=\"multi_modal_rag\",\n",
        "                     embedding_function=OpenAIEmbeddings())\n",
        "\n",
        "# The storage layer for the parent documents\n",
        "store = InMemoryStore()\n",
        "id_key = \"doc_id\"\n",
        "\n",
        "# The retriever (empty to start)\n",
        "retriever = MultiVectorRetriever(\n",
        "    vectorstore=vectorstore,\n",
        "    docstore=store,\n",
        "    id_key=id_key,\n",
        ")"
      ],
      "metadata": {
        "id": "SQa6J3pnnNqD"
      },
      "execution_count": null,
      "outputs": []
    },
    {
      "cell_type": "code",
      "source": [
        "# Add texts\n",
        "doc_ids = [str(uuid.uuid4()) for _ in texts]\n",
        "summary_texts = [\n",
        "    Document(page_content=s, metadata={id_key: doc_ids[i]})\n",
        "    for i, s in enumerate(text_summaries)\n",
        "]\n",
        "retriever.vectorstore.add_documents(summary_texts)\n",
        "retriever.docstore.mset(list(zip(doc_ids, texts)))\n",
        "\n",
        "# Add tables\n",
        "table_ids = [str(uuid.uuid4()) for _ in tables]\n",
        "summary_tables = [\n",
        "    Document(page_content=s, metadata={id_key: table_ids[i]})\n",
        "    for i, s in enumerate(table_summaries)\n",
        "]\n",
        "retriever.vectorstore.add_documents(summary_tables)\n",
        "retriever.docstore.mset(list(zip(table_ids, tables)))"
      ],
      "metadata": {
        "id": "z2yBphhVr09K"
      },
      "execution_count": null,
      "outputs": []
    },
    {
      "cell_type": "code",
      "source": [
        "len(doc_ids), len(summary_texts)"
      ],
      "metadata": {
        "colab": {
          "base_uri": "https://localhost:8080/"
        },
        "id": "p8MRO7Amr82y",
        "outputId": "eceab7f7-118c-434c-d2a9-a331361fe1b3"
      },
      "execution_count": null,
      "outputs": [
        {
          "output_type": "execute_result",
          "data": {
            "text/plain": [
              "(16, 16)"
            ]
          },
          "metadata": {},
          "execution_count": 31
        }
      ]
    },
    {
      "cell_type": "code",
      "source": [
        "len(table_ids), len(summary_tables)"
      ],
      "metadata": {
        "colab": {
          "base_uri": "https://localhost:8080/"
        },
        "id": "xmAbDCl3sBXJ",
        "outputId": "13e34e16-5195-46b5-b04b-61826cb5f143"
      },
      "execution_count": null,
      "outputs": [
        {
          "output_type": "execute_result",
          "data": {
            "text/plain": [
              "(2, 2)"
            ]
          },
          "metadata": {},
          "execution_count": 32
        }
      ]
    },
    {
      "cell_type": "code",
      "source": [
        "# Add image summaries\n",
        "img_ids = [str(uuid.uuid4()) for _ in img_base64_list]\n",
        "summary_img = [\n",
        "    Document(page_content=s, metadata={id_key: img_ids[i]})\n",
        "    for i, s in enumerate(image_summaries)\n",
        "]\n",
        "retriever.vectorstore.add_documents(summary_img)\n",
        "retriever.docstore.mset(list(zip(img_ids, img_base64_list)))"
      ],
      "metadata": {
        "id": "WqUmw9jtsEoi"
      },
      "execution_count": null,
      "outputs": []
    },
    {
      "cell_type": "code",
      "source": [
        "len(img_ids), len(summary_img)"
      ],
      "metadata": {
        "colab": {
          "base_uri": "https://localhost:8080/"
        },
        "id": "ZR7rGTYBsJIV",
        "outputId": "b98f812c-8aba-4b30-81a2-02ef63f02863"
      },
      "execution_count": null,
      "outputs": [
        {
          "output_type": "execute_result",
          "data": {
            "text/plain": [
              "(45, 45)"
            ]
          },
          "metadata": {},
          "execution_count": 34
        }
      ]
    },
    {
      "cell_type": "code",
      "source": [
        "# Retrieve\n",
        "docs = retriever.get_relevant_documents(\n",
        "    \"What is the market size of Digital banking in retail segment of North America ?\"\n",
        ")"
      ],
      "metadata": {
        "id": "0ZA8YYbVsMK3"
      },
      "execution_count": null,
      "outputs": []
    },
    {
      "cell_type": "code",
      "source": [
        "len(docs)"
      ],
      "metadata": {
        "colab": {
          "base_uri": "https://localhost:8080/"
        },
        "id": "TXOFzw-i0NsO",
        "outputId": "40ff511d-024d-4423-a2b9-c99bf4f88d85"
      },
      "execution_count": null,
      "outputs": [
        {
          "output_type": "execute_result",
          "data": {
            "text/plain": [
              "4"
            ]
          },
          "metadata": {},
          "execution_count": 37
        }
      ]
    },
    {
      "cell_type": "code",
      "source": [
        "from base64 import b64decode\n",
        "def split_image_text_types(docs):\n",
        "    ''' Split base64-encoded images and texts '''\n",
        "    b64 = []\n",
        "    text = []\n",
        "    for doc in docs:\n",
        "        try:\n",
        "            b64decode(doc)\n",
        "            b64.append(doc)\n",
        "        except Exception as e:\n",
        "            text.append(doc)\n",
        "    return {\n",
        "        \"images\": b64,\n",
        "        \"texts\": text\n",
        "    }\n",
        "docs_by_type = split_image_text_types(docs)\n",
        "plt_img_base64(docs_by_type[\"images\"][0])"
      ],
      "metadata": {
        "colab": {
          "base_uri": "https://localhost:8080/",
          "height": 391
        },
        "id": "DhPBO5dg0PGb",
        "outputId": "067b8dfb-0651-4b5c-a66c-b141738e0ac6"
      },
      "execution_count": null,
      "outputs": [
        {
          "output_type": "display_data",
          "data": {
            "text/plain": [
              "<IPython.core.display.HTML object>"
            ],
            "text/html": [
              "<img src=\"data:image/jpeg;base64,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\" />"
            ]
          },
          "metadata": {}
        }
      ]
    },
    {
      "cell_type": "code",
      "source": [
        "len(docs_by_type[\"texts\"])"
      ],
      "metadata": {
        "colab": {
          "base_uri": "https://localhost:8080/"
        },
        "id": "_vFkde360c5b",
        "outputId": "633e3cb5-befb-4fe8-ca5d-e7aa7c974625"
      },
      "execution_count": null,
      "outputs": [
        {
          "output_type": "execute_result",
          "data": {
            "text/plain": [
              "3"
            ]
          },
          "metadata": {},
          "execution_count": 39
        }
      ]
    },
    {
      "cell_type": "code",
      "source": [
        "len(docs_by_type[\"images\"])"
      ],
      "metadata": {
        "colab": {
          "base_uri": "https://localhost:8080/"
        },
        "id": "C7ptCpbC0jhJ",
        "outputId": "916c2cd4-4719-4d45-9646-50119875d4a5"
      },
      "execution_count": null,
      "outputs": [
        {
          "output_type": "execute_result",
          "data": {
            "text/plain": [
              "1"
            ]
          },
          "metadata": {},
          "execution_count": 40
        }
      ]
    },
    {
      "cell_type": "code",
      "source": [
        "docs_by_type[\"texts\"]"
      ],
      "metadata": {
        "colab": {
          "base_uri": "https://localhost:8080/"
        },
        "id": "MVfuEF1j0k0f",
        "outputId": "898f4aaa-e4a6-4f88-9dbb-4b98c3afdd2a"
      },
      "execution_count": null,
      "outputs": [
        {
          "output_type": "execute_result",
          "data": {
            "text/plain": [
              "['Digital banking trends\\n\\nConsumer use of digital banking has entered a stage of acceleration globally, fuelled largely by fintech innovations and a growth in digital usage. According to a 2021 McKinsey report on digital banking, nearly nine in ten consumers across the emerging and developed markets are using digital banking actively and most of them are open to purchasing more banking services through digital channels.\\n\\nFigure 1: Global digital banking market size, leading segment, services and region in US dollars\\n\\n803 billion Digital Banking Market Size 1,610 billion Digital Banking Retail Segment 1,320 billion Digital Banking Payment Services 403 billion 376 billion 721 billion M2019 Ml 2027 Digital Banking in North America\\n\\nSource: Digital Banking Market Report 2021\\n\\nThe global digital banking market size was valued at $803.8 billion in 2019 and is projected to reach $1610 billion by 2027. Retail banking segment commands the largest share in the digital banking market with a market size valued at $574.4 billion in 2019 and is projected to reach $1320 billion in 2027. The digital payment segment is the largest service segment in the digital banking market segment, valued at $194.5 billion in 2019 and is projected to reach $402.5 billion by 2027. Among the regions of the world, the North American region currently has the largest digital banking market value, at $376.2 billion in 2019, and is projected to reach $721.3 billion by 2027.\\n\\n6\\n\\nFigure 2: Digital-channel users percentage share by region\\n\\nOcenia & Central Asia Middle East & North Africa Sub-Saharan Africa Far East & China Latin America [575 Europe North America\\n\\nSource: © Statista 2021\\n\\nAcross the world, consumers are also adopting digital banking channels in big numbers. As of 2021, as many as 2 billion individuals worldwide actively used online banking services, with the number forecast to reach 2.5 billion by 2024. By 2021, the Far East and China already accounted for over 800 million active online banking users, which is about 41% of the global market and the figure is expected to reach nearly 1 billion by 2024. This was followed by Europe 19%, North America 12%, Oceania and Central Asia 11%, Middle East and North Africa 7%, Latin America 6% and Sub-Saharan Africa 3%.\\n\\nFigure 3: The proportion of the banked population that used a banking channel to make transactions\\n\\nRetail Store Bank Brach Cell phone banking Banking app Internet banking',\n",
              " 'Digital Banking\\n\\neU a\\n\\nKEY FINDINGS\\n\\nOur findings show that the digital-banking market in SA is growing. This is because of the benefits these digital banks are offering to customers. Digital banking introduced by incumbents provides easy access to services, while digital banking offered by challengers has more innovative features that traditional institutions do not normally offer.\\n\\nDespite many South African banks making significant strides in providing a great digital experience, the digital banking landscape still has major room for improvement. For example, “studies indicate that digital-only customers continue to report the lowest levels of satisfaction in the banking sector in SA” . There is a concern among South Africans over the security of their online banking activities and a lack of digital literacy and absence of infrastructure in some communities to support digital banking. For more information on the benefits and drawbacks of digital banking refer to Table 1 below.\\n\\nTable 1: Key Findings',\n",
              " 'Source: FinScope survey, 2019\\n\\nIn SA, there has been an increase in the adoption of digital channels by consumers. The proportion of individuals that used a banking app and cellphone banking increased by 4% points between 2018 and 2019. Retail stores have become increasingly popular as a distribution channel for simple transactions, with Tyme Bank partnering with Pick n Pay and the Checkers Money Markey product as examples. Individuals who used the retail stores to perform transactions between 2018 and 2019 increased by 4%.\\n\\nDigital Banking\\n\\n7\\n\\nDIGITAL BANKING EMERGING BEST PRACTICES\\n\\nDigital transformation marks a rethinking of how an organisation uses technology, people, and processes in pursuit of new business models and new revenue streams, driven by changes in customer expectations around products and services. Leading incumbents are digitising rapidly across four components: (1) digitise the customer experience, (2) digital products and services, (3) digitise operations and technology, (4) digitise the organisation.\\n\\nDigitise customer experience\\n\\nDigitise customer experience refers to digitising the end-to-end customer journey in order to radically transform/ enhance the customer experience. From creating awareness through digital marketing tools, to providing a digitally intensive/omni-channel experience to onboard customers, to delivering a personalised app experience that adapts to customers’ unique needs based on analytics/AI.\\n\\nFigure 4: Leading digital banks customer journey\\n\\nDigital Customer Journey management Sen. _ | Customer ae ~ e_core User . Tobe @-_ UA Uparade..-\"\" cored > First engagement’ ~ Engaged és o bi sa * Chum —Oo__9 @) @) (5) 9 Product 7 Orde (pre- Transaction —_—Product Produc} Relain “S. development -“ sale) (insale) service (after termingtion \\\\ identification) 4 eee eee eee eee eee sole) ee \\' +\" User Discovery -y* enrollment \"0 Introduction Customer Repeat engagement of Customer enrollment. customers oo re-engage e 9\\n\\n+ «s+s+«+ Touchpoints in customer lifecycle Touchpoints in product fife cycle © @ Key touch point\\n\\nAs shown in the graphic above (figure 4), digital banks are achieving customer excellence by digitising the customer journey across several key touchpoints. Digital banks successfully hone in on and digitise their customer experience, by focusing on critical touch points, on average experience a ~30% increase in customer satisfaction (CSAT), a ~50% increase in engagement and a ~40%-60% reduction in churn.']"
            ]
          },
          "metadata": {},
          "execution_count": 41
        }
      ]
    },
    {
      "cell_type": "code",
      "source": [
        "docs_by_type[\"images\"]"
      ],
      "metadata": {
        "colab": {
          "base_uri": "https://localhost:8080/"
        },
        "id": "qey6bOTu0yGK",
        "outputId": "8b8bcf7e-f56d-4db8-d183-a68da227e805"
      },
      "execution_count": null,
      "outputs": [
        {
          "output_type": "execute_result",
          "data": {
            "text/plain": [
              "['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']"
            ]
          },
          "metadata": {},
          "execution_count": 42
        }
      ]
    },
    {
      "cell_type": "code",
      "source": [
        "from operator import itemgetter\n",
        "from langchain.schema.runnable import RunnablePassthrough, RunnableLambda\n",
        "\n",
        "def prompt_func(dict):\n",
        "    format_texts = \"\\n\".join(dict[\"context\"][\"texts\"])\n",
        "    return [\n",
        "        HumanMessage(\n",
        "            content=[\n",
        "                {\"type\": \"text\", \"text\": f\"\"\"Answer the question based only on the following context, which can include text, tables, and the below image:\n",
        "Question: {dict[\"question\"]}\n",
        "\n",
        "Text and tables:\n",
        "{format_texts}\n",
        "\"\"\"},\n",
        "                {\"type\": \"image_url\", \"image_url\": {\"url\": f\"data:image/jpeg;base64,{dict['context']['images'][0]}\"}},\n",
        "            ]\n",
        "        )\n",
        "    ]\n",
        "\n",
        "model = ChatOpenAI(temperature=0, model=\"gpt-4-vision-preview\", max_tokens=1024)\n",
        "\n",
        "# RAG pipeline\n",
        "chain = (\n",
        "    {\"context\": retriever | RunnableLambda(split_image_text_types), \"question\": RunnablePassthrough()}\n",
        "    | RunnableLambda(prompt_func)\n",
        "    | model\n",
        "    | StrOutputParser()\n",
        ")"
      ],
      "metadata": {
        "id": "ctRXNStc04Sr"
      },
      "execution_count": null,
      "outputs": []
    },
    {
      "cell_type": "code",
      "source": [
        "chain.invoke(\n",
        "    \"What is the market size of Digital banking in PAYMENT SERVICES of North America ?\"\n",
        ")"
      ],
      "metadata": {
        "colab": {
          "base_uri": "https://localhost:8080/",
          "height": 35
        },
        "id": "OY5fMuiy1CcV",
        "outputId": "25e62032-b3aa-4a6a-c2cd-95787d8aae45"
      },
      "execution_count": null,
      "outputs": [
        {
          "output_type": "execute_result",
          "data": {
            "text/plain": [
              "'The market size of digital banking in payment services of North America is projected to be $403 billion by 2027.'"
            ],
            "application/vnd.google.colaboratory.intrinsic+json": {
              "type": "string"
            }
          },
          "metadata": {},
          "execution_count": 46
        }
      ]
    },
    {
      "cell_type": "code",
      "source": [
        "chain.invoke(\n",
        "    \"How was the market size of digital banking in payment services till 2017 ?\"\n",
        ")"
      ],
      "metadata": {
        "colab": {
          "base_uri": "https://localhost:8080/",
          "height": 53
        },
        "id": "mVjvwmiN1nPv",
        "outputId": "072d2d1d-dc0e-45d8-f34c-82e431f502d4"
      },
      "execution_count": null,
      "outputs": [
        {
          "output_type": "execute_result",
          "data": {
            "text/plain": [
              "'The market size of digital banking in payment services till 2017 is not explicitly provided in the given context. The information starts from the year 2019, where the digital payment segment in the digital banking market was valued at $194.5 billion.'"
            ],
            "application/vnd.google.colaboratory.intrinsic+json": {
              "type": "string"
            }
          },
          "metadata": {},
          "execution_count": 48
        }
      ]
    }
  ]
}